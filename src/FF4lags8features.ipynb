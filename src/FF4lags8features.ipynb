{
 "cells": [
  {
   "cell_type": "code",
   "execution_count": 1,
   "metadata": {
    "colab": {
     "base_uri": "https://localhost:8080/",
     "height": 72
    },
    "colab_type": "code",
    "id": "H1I7DsJVHapA",
    "outputId": "30499133-d4be-48cf-d9f9-31a91e1953f3"
   },
   "outputs": [
    {
     "name": "stderr",
     "output_type": "stream",
     "text": [
      "/usr/local/lib/python3.6/dist-packages/statsmodels/tools/_testing.py:19: FutureWarning: pandas.util.testing is deprecated. Use the functions in the public API at pandas.testing instead.\n",
      "  import pandas.util.testing as tm\n"
     ]
    }
   ],
   "source": [
    "import pandas as pd\n",
    "import numpy as np\n",
    "import matplotlib.pyplot as plt\n",
    "import statsmodels.api as sm\n",
    "import pywt\n",
    "\n",
    "from itertools import islice\n",
    "from collections import deque\n",
    "\n",
    "from tensorflow.python.keras.layers import Input, Dense,RNN,LSTMCell\n",
    "from tensorflow.python.keras.models import Sequential"
   ]
  },
  {
   "cell_type": "code",
   "execution_count": 2,
   "metadata": {
    "colab": {},
    "colab_type": "code",
    "id": "CmcTRAteLe8Z"
   },
   "outputs": [],
   "source": [
    "def mape(y_true, y_pred):\n",
    "    return np.mean(np.abs((y_true - y_pred) / y_true)) * 100\n",
    "\n",
    "def smape(A, F):\n",
    "    return 100/len(A) * np.sum(2 * np.abs(F - A) / (np.abs(A) + np.abs(F)))\n",
    "\n",
    "def mae(A,F):\n",
    "    return np.mean(np.abs(A -F))"
   ]
  },
  {
   "cell_type": "code",
   "execution_count": 3,
   "metadata": {
    "colab": {},
    "colab_type": "code",
    "id": "KFeR0ta0ImYB"
   },
   "outputs": [],
   "source": [
    "def sliding_window_iter(iterable, size):\n",
    "    \"\"\"...\"\"\"\n",
    "    iterable = iter(iterable)\n",
    "    window = deque(islice(iterable, size), maxlen=size)\n",
    "    for item in iterable:\n",
    "        yield np.array(window)\n",
    "    window.append(item)\n",
    "    if window:\n",
    "    # needed because if iterable was already empty before the `for`,\n",
    "    # then the window would be yielded twice.\n",
    "        yield np.array(window)"
   ]
  },
  {
   "cell_type": "code",
   "execution_count": 4,
   "metadata": {
    "colab": {},
    "colab_type": "code",
    "id": "sO7fCYQiHiu2"
   },
   "outputs": [],
   "source": [
    "df = pd.read_csv('winProxy.csv',parse_dates=True,index_col=0)"
   ]
  },
  {
   "cell_type": "code",
   "execution_count": 5,
   "metadata": {
    "colab": {},
    "colab_type": "code",
    "id": "l6JVFE8nHnan"
   },
   "outputs": [],
   "source": [
    "df.CPU.loc[df.CPU > 10] = 10"
   ]
  },
  {
   "cell_type": "code",
   "execution_count": 6,
   "metadata": {
    "colab": {
     "base_uri": "https://localhost:8080/",
     "height": 300
    },
    "colab_type": "code",
    "id": "UWmWjdzzHsmF",
    "outputId": "7de6106d-d7fb-431b-e5f4-18fdabd61ecf"
   },
   "outputs": [
    {
     "data": {
      "image/png": "[encoded data removed]",
      "text/plain": [
       "<Figure size 432x288 with 1 Axes>"
      ]
     },
     "metadata": {
      "needs_background": "light",
      "tags": []
     },
     "output_type": "display_data"
    }
   ],
   "source": [
    "_ = df.CPU.plot()"
   ]
  },
  {
   "cell_type": "code",
   "execution_count": 7,
   "metadata": {
    "colab": {},
    "colab_type": "code",
    "id": "hp7hPYmFIojG"
   },
   "outputs": [],
   "source": [
    "time_window = 4\n",
    "\n",
    "X = []\n",
    "for row in sliding_window_iter(df.CPU.values,time_window):\n",
    "    X.append(row)\n",
    "\n",
    "X = pd.DataFrame(X[:-1])\n",
    "Y = df.CPU.iloc[time_window:]"
   ]
  },
  {
   "cell_type": "code",
   "execution_count": 8,
   "metadata": {
    "colab": {},
    "colab_type": "code",
    "id": "wop5LlC0IyKH"
   },
   "outputs": [],
   "source": [
    "X['hour'] = df.index.hour[time_window:]\n",
    "X['weekday'] = df.index.weekday[time_window:]\n",
    "X['IOBalance'] = df.IOBalance.to_numpy()[time_window:]\n",
    "X['diskwrite'] = df.diskwrite.to_numpy()[time_window:]"
   ]
  },
  {
   "cell_type": "code",
   "execution_count": 10,
   "metadata": {
    "colab": {},
    "colab_type": "code",
    "id": "ZWU9mqXgIXF7"
   },
   "outputs": [],
   "source": [
    "train_size = round(len(X) * 0.8)\n",
    "X_train = X.iloc[:train_size,:]\n",
    "Y_train = Y[:train_size]"
   ]
  },
  {
   "cell_type": "code",
   "execution_count": 20,
   "metadata": {
    "colab": {},
    "colab_type": "code",
    "id": "ZljLBCCvLVzV"
   },
   "outputs": [],
   "source": [
    "steps = len(X) - train_size#6\n",
    "X_test = X.iloc[train_size:train_size+steps,:]\n",
    "Y_test = Y[train_size:train_size+steps]"
   ]
  },
  {
   "cell_type": "code",
   "execution_count": 12,
   "metadata": {
    "colab": {},
    "colab_type": "code",
    "id": "xGCRM3nxIaZt"
   },
   "outputs": [],
   "source": [
    "model = Sequential()\n",
    "model.add(Dense(8, input_dim=8, kernel_initializer='normal', activation='relu'))\n",
    "model.add(Dense(4, kernel_initializer='normal', activation='relu'))\n",
    "model.add(Dense(1, kernel_initializer='normal'))\n",
    "#model.add(RNN(LSTMCell(4)))\n",
    "\n",
    "\n",
    "model.compile(loss='mean_squared_error',\n",
    "                optimizer='adam',\n",
    "                metrics = ['mse','mae']\n",
    "              )"
   ]
  },
  {
   "cell_type": "code",
   "execution_count": 13,
   "metadata": {
    "colab": {
     "base_uri": "https://localhost:8080/",
     "height": 1000
    },
    "colab_type": "code",
    "id": "dCYJGI1vJ3fp",
    "outputId": "500bb654-36fa-4a9e-e07c-dd373153bc59"
   },
   "outputs": [
    {
     "name": "stdout",
     "output_type": "stream",
     "text": [
      "Epoch 1/300\n",
      "830/830 [==============================] - 1s 1ms/step - loss: 8.2957 - mse: 8.2957 - mae: 1.7910 - val_loss: 7.5816 - val_mse: 7.5816 - val_mae: 2.3654\n",
      "Epoch 2/300\n",
      "830/830 [==============================] - 1s 980us/step - loss: 6.2264 - mse: 6.2264 - mae: 1.9274 - val_loss: 6.1464 - val_mse: 6.1464 - val_mae: 2.1178\n",
      "Epoch 3/300\n",
      "830/830 [==============================] - 1s 1ms/step - loss: 5.5145 - mse: 5.5145 - mae: 1.7723 - val_loss: 4.9284 - val_mse: 4.9284 - val_mae: 1.8604\n",
      "Epoch 4/300\n",
      "830/830 [==============================] - 1s 1ms/step - loss: 4.8086 - mse: 4.8086 - mae: 1.5575 - val_loss: 5.6929 - val_mse: 5.6929 - val_mae: 1.9709\n",
      "Epoch 5/300\n",
      "830/830 [==============================] - 1s 975us/step - loss: 4.3409 - mse: 4.3409 - mae: 1.3595 - val_loss: 2.9138 - val_mse: 2.9138 - val_mae: 1.3204\n",
      "Epoch 6/300\n",
      "830/830 [==============================] - 1s 973us/step - loss: 3.7518 - mse: 3.7518 - mae: 1.1911 - val_loss: 2.1544 - val_mse: 2.1544 - val_mae: 1.0649\n",
      "Epoch 7/300\n",
      "830/830 [==============================] - 1s 1ms/step - loss: 3.3832 - mse: 3.3832 - mae: 1.0680 - val_loss: 1.7802 - val_mse: 1.7802 - val_mae: 0.9140\n",
      "Epoch 8/300\n",
      "830/830 [==============================] - 1s 1ms/step - loss: 3.1423 - mse: 3.1423 - mae: 0.9789 - val_loss: 1.5425 - val_mse: 1.5425 - val_mae: 0.8024\n",
      "Epoch 9/300\n",
      "830/830 [==============================] - 1s 1ms/step - loss: 2.9476 - mse: 2.9476 - mae: 0.8917 - val_loss: 1.3619 - val_mse: 1.3619 - val_mae: 0.7062\n",
      "Epoch 10/300\n",
      "830/830 [==============================] - 1s 1ms/step - loss: 2.7746 - mse: 2.7746 - mae: 0.8441 - val_loss: 1.2412 - val_mse: 1.2412 - val_mae: 0.6481\n",
      "Epoch 11/300\n",
      "830/830 [==============================] - 1s 1ms/step - loss: 2.6588 - mse: 2.6588 - mae: 0.8200 - val_loss: 1.1951 - val_mse: 1.1951 - val_mae: 0.6228\n",
      "Epoch 12/300\n",
      "830/830 [==============================] - 1s 1ms/step - loss: 2.5801 - mse: 2.5801 - mae: 0.8015 - val_loss: 1.1861 - val_mse: 1.1861 - val_mae: 0.6105\n",
      "Epoch 13/300\n",
      "830/830 [==============================] - 1s 1ms/step - loss: 2.5116 - mse: 2.5116 - mae: 0.7888 - val_loss: 1.1942 - val_mse: 1.1942 - val_mae: 0.6055\n",
      "Epoch 14/300\n",
      "830/830 [==============================] - 1s 1ms/step - loss: 2.4519 - mse: 2.4519 - mae: 0.7795 - val_loss: 1.2103 - val_mse: 1.2103 - val_mae: 0.6007\n",
      "Epoch 15/300\n",
      "830/830 [==============================] - 1s 1ms/step - loss: 2.4080 - mse: 2.4080 - mae: 0.7702 - val_loss: 1.2223 - val_mse: 1.2223 - val_mae: 0.5979\n",
      "Epoch 16/300\n",
      "830/830 [==============================] - 1s 1ms/step - loss: 2.3680 - mse: 2.3680 - mae: 0.7617 - val_loss: 1.2451 - val_mse: 1.2451 - val_mae: 0.6008\n",
      "Epoch 17/300\n",
      "830/830 [==============================] - 1s 993us/step - loss: 2.3332 - mse: 2.3332 - mae: 0.7523 - val_loss: 1.2659 - val_mse: 1.2659 - val_mae: 0.6050\n",
      "Epoch 18/300\n",
      "830/830 [==============================] - 1s 1ms/step - loss: 2.3017 - mse: 2.3017 - mae: 0.7440 - val_loss: 1.2970 - val_mse: 1.2970 - val_mae: 0.6156\n",
      "Epoch 19/300\n",
      "830/830 [==============================] - 1s 1ms/step - loss: 2.2717 - mse: 2.2717 - mae: 0.7338 - val_loss: 1.3211 - val_mse: 1.3211 - val_mae: 0.6243\n",
      "Epoch 20/300\n",
      "830/830 [==============================] - 1s 1ms/step - loss: 2.2508 - mse: 2.2508 - mae: 0.7428 - val_loss: 1.5019 - val_mse: 1.5019 - val_mae: 0.7595\n",
      "Epoch 21/300\n",
      "830/830 [==============================] - 1s 992us/step - loss: 2.3081 - mse: 2.3081 - mae: 0.7691 - val_loss: 1.4705 - val_mse: 1.4705 - val_mae: 0.7469\n",
      "Epoch 22/300\n",
      "830/830 [==============================] - 1s 1ms/step - loss: 2.2649 - mse: 2.2649 - mae: 0.7592 - val_loss: 1.4869 - val_mse: 1.4869 - val_mae: 0.7601\n",
      "Epoch 23/300\n",
      "830/830 [==============================] - 1s 1ms/step - loss: 2.2642 - mse: 2.2642 - mae: 0.7683 - val_loss: 1.4695 - val_mse: 1.4695 - val_mae: 0.7455\n",
      "Epoch 24/300\n",
      "830/830 [==============================] - 1s 1ms/step - loss: 2.1944 - mse: 2.1944 - mae: 0.7438 - val_loss: 1.4842 - val_mse: 1.4842 - val_mae: 0.7486\n",
      "Epoch 25/300\n",
      "830/830 [==============================] - 1s 1ms/step - loss: 2.1643 - mse: 2.1643 - mae: 0.7367 - val_loss: 1.5242 - val_mse: 1.5242 - val_mae: 0.7701\n",
      "Epoch 26/300\n",
      "830/830 [==============================] - 1s 1ms/step - loss: 2.1701 - mse: 2.1701 - mae: 0.7434 - val_loss: 1.5290 - val_mse: 1.5290 - val_mae: 0.7693\n",
      "Epoch 27/300\n",
      "830/830 [==============================] - 1s 1ms/step - loss: 2.1371 - mse: 2.1371 - mae: 0.7328 - val_loss: 1.5564 - val_mse: 1.5564 - val_mae: 0.7785\n",
      "Epoch 28/300\n",
      "830/830 [==============================] - 1s 1ms/step - loss: 2.1085 - mse: 2.1085 - mae: 0.7265 - val_loss: 1.5829 - val_mse: 1.5829 - val_mae: 0.7855\n",
      "Epoch 29/300\n",
      "830/830 [==============================] - 1s 1ms/step - loss: 2.0993 - mse: 2.0993 - mae: 0.7233 - val_loss: 1.5835 - val_mse: 1.5835 - val_mae: 0.7853\n",
      "Epoch 30/300\n",
      "830/830 [==============================] - 1s 1ms/step - loss: 2.0874 - mse: 2.0874 - mae: 0.7211 - val_loss: 1.5781 - val_mse: 1.5781 - val_mae: 0.7750\n",
      "Epoch 31/300\n",
      "830/830 [==============================] - 1s 1ms/step - loss: 2.0698 - mse: 2.0698 - mae: 0.7136 - val_loss: 1.5747 - val_mse: 1.5747 - val_mae: 0.7675\n",
      "Epoch 32/300\n",
      "830/830 [==============================] - 1s 1ms/step - loss: 2.0566 - mse: 2.0566 - mae: 0.7095 - val_loss: 1.5679 - val_mse: 1.5679 - val_mae: 0.7601\n",
      "Epoch 33/300\n",
      "830/830 [==============================] - 1s 1ms/step - loss: 2.0396 - mse: 2.0396 - mae: 0.7063 - val_loss: 1.5334 - val_mse: 1.5334 - val_mae: 0.7299\n",
      "Epoch 34/300\n",
      "830/830 [==============================] - 1s 984us/step - loss: 2.0203 - mse: 2.0203 - mae: 0.6961 - val_loss: 1.4867 - val_mse: 1.4867 - val_mae: 0.6960\n",
      "Epoch 35/300\n",
      "830/830 [==============================] - 1s 995us/step - loss: 2.1921 - mse: 2.1921 - mae: 0.7654 - val_loss: 1.4120 - val_mse: 1.4120 - val_mae: 0.7662\n",
      "Epoch 36/300\n",
      "830/830 [==============================] - 1s 1ms/step - loss: 2.1032 - mse: 2.1032 - mae: 0.7551 - val_loss: 1.3794 - val_mse: 1.3794 - val_mae: 0.6777\n",
      "Epoch 37/300\n",
      "830/830 [==============================] - 1s 995us/step - loss: 2.0043 - mse: 2.0043 - mae: 0.6741 - val_loss: 1.3830 - val_mse: 1.3830 - val_mae: 0.6612\n",
      "Epoch 38/300\n",
      "830/830 [==============================] - 1s 1ms/step - loss: 2.0029 - mse: 2.0029 - mae: 0.6591 - val_loss: 1.2643 - val_mse: 1.2643 - val_mae: 0.5276\n",
      "Epoch 39/300\n",
      "830/830 [==============================] - 1s 1ms/step - loss: 2.1221 - mse: 2.1221 - mae: 0.6903 - val_loss: 1.1998 - val_mse: 1.1998 - val_mae: 0.6406\n",
      "Epoch 40/300\n",
      "830/830 [==============================] - 1s 1ms/step - loss: 2.0896 - mse: 2.0896 - mae: 0.7227 - val_loss: 1.1766 - val_mse: 1.1766 - val_mae: 0.6293\n",
      "Epoch 41/300\n",
      "830/830 [==============================] - 1s 1ms/step - loss: 1.9313 - mse: 1.9313 - mae: 0.7119 - val_loss: 1.1777 - val_mse: 1.1777 - val_mae: 0.5355\n",
      "Epoch 42/300\n",
      "830/830 [==============================] - 1s 998us/step - loss: 2.0538 - mse: 2.0538 - mae: 0.6795 - val_loss: 1.2325 - val_mse: 1.2325 - val_mae: 0.6757\n",
      "Epoch 43/300\n",
      "830/830 [==============================] - 1s 1ms/step - loss: 2.0348 - mse: 2.0348 - mae: 0.7140 - val_loss: 1.9047 - val_mse: 1.9047 - val_mae: 0.9458\n",
      "Epoch 44/300\n",
      "830/830 [==============================] - 1s 995us/step - loss: 2.0145 - mse: 2.0145 - mae: 0.7103 - val_loss: 1.7631 - val_mse: 1.7631 - val_mae: 0.8967\n",
      "Epoch 45/300\n",
      "830/830 [==============================] - 1s 989us/step - loss: 2.0041 - mse: 2.0041 - mae: 0.7041 - val_loss: 1.7451 - val_mse: 1.7451 - val_mae: 0.8903\n",
      "Epoch 46/300\n",
      "830/830 [==============================] - 1s 1ms/step - loss: 1.9925 - mse: 1.9925 - mae: 0.7000 - val_loss: 1.7721 - val_mse: 1.7721 - val_mae: 0.8975\n",
      "Epoch 47/300\n",
      "830/830 [==============================] - 1s 975us/step - loss: 1.9810 - mse: 1.9810 - mae: 0.6945 - val_loss: 1.8241 - val_mse: 1.8241 - val_mae: 0.9146\n",
      "Epoch 48/300\n",
      "830/830 [==============================] - 1s 1ms/step - loss: 1.9701 - mse: 1.9701 - mae: 0.6949 - val_loss: 1.8949 - val_mse: 1.8949 - val_mae: 0.9374\n",
      "Epoch 49/300\n",
      "830/830 [==============================] - 1s 992us/step - loss: 1.9650 - mse: 1.9650 - mae: 0.6952 - val_loss: 2.0086 - val_mse: 2.0086 - val_mae: 0.9709\n",
      "Epoch 50/300\n",
      "830/830 [==============================] - 1s 998us/step - loss: 1.9581 - mse: 1.9581 - mae: 0.6944 - val_loss: 2.0317 - val_mse: 2.0317 - val_mae: 0.9777\n",
      "Epoch 51/300\n",
      "830/830 [==============================] - 1s 986us/step - loss: 1.9451 - mse: 1.9451 - mae: 0.6924 - val_loss: 2.0779 - val_mse: 2.0779 - val_mae: 0.9900\n",
      "Epoch 52/300\n",
      "830/830 [==============================] - 1s 996us/step - loss: 1.9354 - mse: 1.9354 - mae: 0.6902 - val_loss: 2.0996 - val_mse: 2.0996 - val_mae: 0.9954\n",
      "Epoch 53/300\n",
      "830/830 [==============================] - 1s 1ms/step - loss: 1.9234 - mse: 1.9234 - mae: 0.6896 - val_loss: 2.1541 - val_mse: 2.1541 - val_mae: 1.0103\n",
      "Epoch 54/300\n",
      "830/830 [==============================] - 1s 991us/step - loss: 1.9118 - mse: 1.9118 - mae: 0.6890 - val_loss: 2.2172 - val_mse: 2.2172 - val_mae: 1.0268\n",
      "Epoch 55/300\n",
      "830/830 [==============================] - 1s 992us/step - loss: 1.9037 - mse: 1.9037 - mae: 0.6881 - val_loss: 2.2439 - val_mse: 2.2439 - val_mae: 1.0348\n",
      "Epoch 56/300\n",
      "830/830 [==============================] - 1s 1ms/step - loss: 1.8949 - mse: 1.8949 - mae: 0.6870 - val_loss: 2.3033 - val_mse: 2.3033 - val_mae: 1.0511\n",
      "Epoch 57/300\n",
      "830/830 [==============================] - 1s 1ms/step - loss: 1.8873 - mse: 1.8873 - mae: 0.6868 - val_loss: 2.2764 - val_mse: 2.2764 - val_mae: 1.0447\n",
      "Epoch 58/300\n",
      "830/830 [==============================] - 1s 1ms/step - loss: 1.8775 - mse: 1.8775 - mae: 0.6850 - val_loss: 2.2455 - val_mse: 2.2455 - val_mae: 1.0367\n",
      "Epoch 59/300\n",
      "830/830 [==============================] - 1s 1ms/step - loss: 1.8676 - mse: 1.8676 - mae: 0.6840 - val_loss: 2.2853 - val_mse: 2.2853 - val_mae: 1.0467\n",
      "Epoch 60/300\n",
      "830/830 [==============================] - 1s 974us/step - loss: 1.8577 - mse: 1.8577 - mae: 0.6832 - val_loss: 2.3338 - val_mse: 2.3338 - val_mae: 1.0587\n",
      "Epoch 61/300\n",
      "830/830 [==============================] - 1s 988us/step - loss: 1.8483 - mse: 1.8483 - mae: 0.6826 - val_loss: 2.3614 - val_mse: 2.3614 - val_mae: 1.0652\n",
      "Epoch 62/300\n",
      "830/830 [==============================] - 1s 1ms/step - loss: 1.8424 - mse: 1.8424 - mae: 0.6821 - val_loss: 2.3794 - val_mse: 2.3794 - val_mae: 1.0681\n",
      "Epoch 63/300\n",
      "830/830 [==============================] - 1s 1000us/step - loss: 1.8307 - mse: 1.8307 - mae: 0.6807 - val_loss: 2.4328 - val_mse: 2.4328 - val_mae: 1.0810\n",
      "Epoch 64/300\n",
      "830/830 [==============================] - 1s 994us/step - loss: 1.8229 - mse: 1.8229 - mae: 0.6813 - val_loss: 2.4421 - val_mse: 2.4421 - val_mae: 1.0831\n",
      "Epoch 65/300\n",
      "830/830 [==============================] - 1s 1ms/step - loss: 1.8142 - mse: 1.8142 - mae: 0.6797 - val_loss: 2.5697 - val_mse: 2.5697 - val_mae: 1.1117\n",
      "Epoch 66/300\n",
      "830/830 [==============================] - 1s 1ms/step - loss: 1.8063 - mse: 1.8063 - mae: 0.6817 - val_loss: 2.4672 - val_mse: 2.4672 - val_mae: 1.0907\n",
      "Epoch 67/300\n",
      "830/830 [==============================] - 1s 1ms/step - loss: 1.8027 - mse: 1.8027 - mae: 0.6807 - val_loss: 2.4910 - val_mse: 2.4910 - val_mae: 1.0956\n",
      "Epoch 68/300\n",
      "830/830 [==============================] - 1s 1ms/step - loss: 1.7907 - mse: 1.7907 - mae: 0.6789 - val_loss: 2.5720 - val_mse: 2.5720 - val_mae: 1.1121\n",
      "Epoch 69/300\n",
      "830/830 [==============================] - 1s 1ms/step - loss: 1.7820 - mse: 1.7820 - mae: 0.6792 - val_loss: 2.4841 - val_mse: 2.4841 - val_mae: 1.0968\n",
      "Epoch 70/300\n",
      "830/830 [==============================] - 1s 1ms/step - loss: 1.7724 - mse: 1.7724 - mae: 0.6753 - val_loss: 2.6942 - val_mse: 2.6942 - val_mae: 1.1400\n",
      "Epoch 71/300\n",
      "830/830 [==============================] - 1s 993us/step - loss: 1.7615 - mse: 1.7615 - mae: 0.6755 - val_loss: 2.6741 - val_mse: 2.6741 - val_mae: 1.1395\n",
      "Epoch 72/300\n",
      "830/830 [==============================] - 1s 1ms/step - loss: 1.7572 - mse: 1.7572 - mae: 0.6759 - val_loss: 2.6771 - val_mse: 2.6771 - val_mae: 1.1411\n",
      "Epoch 73/300\n",
      "830/830 [==============================] - 1s 1ms/step - loss: 1.7462 - mse: 1.7462 - mae: 0.6718 - val_loss: 2.8700 - val_mse: 2.8700 - val_mae: 1.1790\n",
      "Epoch 74/300\n",
      "830/830 [==============================] - 1s 1ms/step - loss: 1.7426 - mse: 1.7426 - mae: 0.6747 - val_loss: 2.8254 - val_mse: 2.8254 - val_mae: 1.1717\n",
      "Epoch 75/300\n",
      "830/830 [==============================] - 1s 1ms/step - loss: 1.7319 - mse: 1.7319 - mae: 0.6709 - val_loss: 2.9681 - val_mse: 2.9681 - val_mae: 1.1978\n",
      "Epoch 76/300\n",
      "830/830 [==============================] - 1s 1ms/step - loss: 1.7228 - mse: 1.7228 - mae: 0.6682 - val_loss: 3.0852 - val_mse: 3.0852 - val_mae: 1.2180\n",
      "Epoch 77/300\n",
      "830/830 [==============================] - 1s 990us/step - loss: 1.7086 - mse: 1.7086 - mae: 0.6641 - val_loss: 3.1941 - val_mse: 3.1941 - val_mae: 1.2373\n",
      "Epoch 78/300\n",
      "830/830 [==============================] - 1s 1ms/step - loss: 1.7068 - mse: 1.7068 - mae: 0.6653 - val_loss: 3.1175 - val_mse: 3.1175 - val_mae: 1.2277\n",
      "Epoch 79/300\n",
      "830/830 [==============================] - 1s 1ms/step - loss: 1.6938 - mse: 1.6938 - mae: 0.6602 - val_loss: 3.2919 - val_mse: 3.2919 - val_mae: 1.2572\n",
      "Epoch 80/300\n",
      "830/830 [==============================] - 1s 1ms/step - loss: 1.6917 - mse: 1.6917 - mae: 0.6631 - val_loss: 3.2573 - val_mse: 3.2573 - val_mae: 1.2553\n",
      "Epoch 81/300\n",
      "830/830 [==============================] - 1s 1ms/step - loss: 1.6853 - mse: 1.6853 - mae: 0.6616 - val_loss: 3.2642 - val_mse: 3.2642 - val_mae: 1.2597\n",
      "Epoch 82/300\n",
      "830/830 [==============================] - 1s 1ms/step - loss: 1.6827 - mse: 1.6827 - mae: 0.6627 - val_loss: 3.0941 - val_mse: 3.0941 - val_mae: 1.2362\n",
      "Epoch 83/300\n",
      "830/830 [==============================] - 1s 1ms/step - loss: 1.6751 - mse: 1.6751 - mae: 0.6623 - val_loss: 3.4964 - val_mse: 3.4964 - val_mae: 1.2941\n",
      "Epoch 84/300\n",
      "830/830 [==============================] - 1s 984us/step - loss: 1.6674 - mse: 1.6674 - mae: 0.6609 - val_loss: 3.4317 - val_mse: 3.4317 - val_mae: 1.2902\n",
      "Epoch 85/300\n",
      "830/830 [==============================] - 1s 1ms/step - loss: 1.6617 - mse: 1.6617 - mae: 0.6559 - val_loss: 3.5156 - val_mse: 3.5156 - val_mae: 1.3030\n",
      "Epoch 86/300\n",
      "830/830 [==============================] - 1s 1ms/step - loss: 1.6639 - mse: 1.6639 - mae: 0.6616 - val_loss: 3.6196 - val_mse: 3.6196 - val_mae: 1.3212\n",
      "Epoch 87/300\n",
      "830/830 [==============================] - 1s 1ms/step - loss: 1.6563 - mse: 1.6563 - mae: 0.6603 - val_loss: 3.5891 - val_mse: 3.5891 - val_mae: 1.3199\n",
      "Epoch 88/300\n",
      "830/830 [==============================] - 1s 1ms/step - loss: 1.6518 - mse: 1.6518 - mae: 0.6569 - val_loss: 3.4649 - val_mse: 3.4649 - val_mae: 1.3055\n",
      "Epoch 89/300\n",
      "830/830 [==============================] - 1s 991us/step - loss: 1.6479 - mse: 1.6479 - mae: 0.6580 - val_loss: 3.8143 - val_mse: 3.8143 - val_mae: 1.3530\n",
      "Epoch 90/300\n",
      "830/830 [==============================] - 1s 1ms/step - loss: 1.6414 - mse: 1.6414 - mae: 0.6566 - val_loss: 3.6825 - val_mse: 3.6825 - val_mae: 1.3387\n",
      "Epoch 91/300\n",
      "830/830 [==============================] - 1s 996us/step - loss: 1.6364 - mse: 1.6364 - mae: 0.6541 - val_loss: 3.9753 - val_mse: 3.9753 - val_mae: 1.3783\n",
      "Epoch 92/300\n",
      "830/830 [==============================] - 1s 1ms/step - loss: 1.6326 - mse: 1.6326 - mae: 0.6545 - val_loss: 3.6711 - val_mse: 3.6711 - val_mae: 1.3437\n",
      "Epoch 93/300\n",
      "830/830 [==============================] - 1s 997us/step - loss: 1.6249 - mse: 1.6249 - mae: 0.6520 - val_loss: 4.0940 - val_mse: 4.0940 - val_mae: 1.3984\n",
      "Epoch 94/300\n",
      "830/830 [==============================] - 1s 990us/step - loss: 1.6219 - mse: 1.6219 - mae: 0.6516 - val_loss: 3.9544 - val_mse: 3.9544 - val_mae: 1.3840\n",
      "Epoch 95/300\n",
      "830/830 [==============================] - 1s 1ms/step - loss: 1.6213 - mse: 1.6213 - mae: 0.6560 - val_loss: 3.3440 - val_mse: 3.3440 - val_mae: 1.3132\n",
      "Epoch 96/300\n",
      "830/830 [==============================] - 1s 1ms/step - loss: 1.6084 - mse: 1.6084 - mae: 0.6497 - val_loss: 3.8402 - val_mse: 3.8402 - val_mae: 1.3726\n",
      "Epoch 97/300\n",
      "830/830 [==============================] - 1s 988us/step - loss: 1.6039 - mse: 1.6039 - mae: 0.6493 - val_loss: 3.4083 - val_mse: 3.4083 - val_mae: 1.3254\n",
      "Epoch 98/300\n",
      "830/830 [==============================] - 1s 1ms/step - loss: 1.6008 - mse: 1.6008 - mae: 0.6479 - val_loss: 3.9861 - val_mse: 3.9861 - val_mae: 1.3961\n",
      "Epoch 99/300\n",
      "830/830 [==============================] - 1s 1ms/step - loss: 1.5945 - mse: 1.5945 - mae: 0.6488 - val_loss: 3.5362 - val_mse: 3.5362 - val_mae: 1.3495\n",
      "Epoch 100/300\n",
      "830/830 [==============================] - 1s 992us/step - loss: 1.5891 - mse: 1.5891 - mae: 0.6452 - val_loss: 4.0990 - val_mse: 4.0990 - val_mae: 1.4174\n",
      "Epoch 101/300\n",
      "830/830 [==============================] - 1s 1ms/step - loss: 1.5906 - mse: 1.5906 - mae: 0.6520 - val_loss: 3.3920 - val_mse: 3.3920 - val_mae: 1.3373\n",
      "Epoch 102/300\n",
      "830/830 [==============================] - 1s 1ms/step - loss: 1.5810 - mse: 1.5810 - mae: 0.6484 - val_loss: 3.7666 - val_mse: 3.7666 - val_mae: 1.3857\n",
      "Epoch 103/300\n",
      "830/830 [==============================] - 1s 1ms/step - loss: 1.5805 - mse: 1.5805 - mae: 0.6516 - val_loss: 3.4739 - val_mse: 3.4739 - val_mae: 1.3515\n",
      "Epoch 104/300\n",
      "830/830 [==============================] - 1s 1ms/step - loss: 1.5718 - mse: 1.5718 - mae: 0.6469 - val_loss: 3.8690 - val_mse: 3.8690 - val_mae: 1.4042\n",
      "Epoch 105/300\n",
      "830/830 [==============================] - 1s 1ms/step - loss: 1.5703 - mse: 1.5703 - mae: 0.6493 - val_loss: 3.6075 - val_mse: 3.6075 - val_mae: 1.3760\n",
      "Epoch 106/300\n",
      "830/830 [==============================] - 1s 1ms/step - loss: 1.5651 - mse: 1.5651 - mae: 0.6483 - val_loss: 3.7688 - val_mse: 3.7688 - val_mae: 1.3982\n",
      "Epoch 107/300\n",
      "830/830 [==============================] - 1s 1ms/step - loss: 1.5587 - mse: 1.5587 - mae: 0.6463 - val_loss: 3.8419 - val_mse: 3.8419 - val_mae: 1.4113\n",
      "Epoch 108/300\n",
      "830/830 [==============================] - 1s 994us/step - loss: 1.5538 - mse: 1.5538 - mae: 0.6454 - val_loss: 3.8401 - val_mse: 3.8401 - val_mae: 1.4140\n",
      "Epoch 109/300\n",
      "830/830 [==============================] - 1s 1ms/step - loss: 1.5502 - mse: 1.5502 - mae: 0.6456 - val_loss: 3.8025 - val_mse: 3.8025 - val_mae: 1.4115\n",
      "Epoch 110/300\n",
      "830/830 [==============================] - 1s 1ms/step - loss: 1.5453 - mse: 1.5453 - mae: 0.6458 - val_loss: 3.7869 - val_mse: 3.7869 - val_mae: 1.4101\n",
      "Epoch 111/300\n",
      "830/830 [==============================] - 1s 994us/step - loss: 1.5443 - mse: 1.5443 - mae: 0.6474 - val_loss: 3.6622 - val_mse: 3.6622 - val_mae: 1.3943\n",
      "Epoch 112/300\n",
      "830/830 [==============================] - 1s 988us/step - loss: 1.5394 - mse: 1.5394 - mae: 0.6483 - val_loss: 3.7076 - val_mse: 3.7076 - val_mae: 1.4024\n",
      "Epoch 113/300\n",
      "830/830 [==============================] - 1s 1ms/step - loss: 1.5340 - mse: 1.5340 - mae: 0.6466 - val_loss: 3.7762 - val_mse: 3.7762 - val_mae: 1.4139\n",
      "Epoch 114/300\n",
      "830/830 [==============================] - 1s 1ms/step - loss: 1.5340 - mse: 1.5340 - mae: 0.6481 - val_loss: 3.8239 - val_mse: 3.8239 - val_mae: 1.4218\n",
      "Epoch 115/300\n",
      "830/830 [==============================] - 1s 995us/step - loss: 1.5297 - mse: 1.5297 - mae: 0.6474 - val_loss: 3.8172 - val_mse: 3.8172 - val_mae: 1.4224\n",
      "Epoch 116/300\n",
      "830/830 [==============================] - 1s 993us/step - loss: 1.5288 - mse: 1.5288 - mae: 0.6490 - val_loss: 3.8685 - val_mse: 3.8685 - val_mae: 1.4328\n",
      "Epoch 117/300\n",
      "830/830 [==============================] - 1s 1ms/step - loss: 1.5206 - mse: 1.5206 - mae: 0.6489 - val_loss: 3.7125 - val_mse: 3.7125 - val_mae: 1.4117\n",
      "Epoch 118/300\n",
      "830/830 [==============================] - 1s 1ms/step - loss: 1.5184 - mse: 1.5184 - mae: 0.6489 - val_loss: 3.7966 - val_mse: 3.7966 - val_mae: 1.4267\n",
      "Epoch 119/300\n",
      "830/830 [==============================] - 1s 999us/step - loss: 1.5124 - mse: 1.5124 - mae: 0.6481 - val_loss: 3.7915 - val_mse: 3.7915 - val_mae: 1.4266\n",
      "Epoch 120/300\n",
      "830/830 [==============================] - 1s 1ms/step - loss: 1.5058 - mse: 1.5058 - mae: 0.6456 - val_loss: 3.7770 - val_mse: 3.7770 - val_mae: 1.4231\n",
      "Epoch 121/300\n",
      "830/830 [==============================] - 1s 1ms/step - loss: 1.4966 - mse: 1.4966 - mae: 0.6427 - val_loss: 3.7911 - val_mse: 3.7911 - val_mae: 1.4222\n",
      "Epoch 122/300\n",
      "830/830 [==============================] - 1s 1ms/step - loss: 1.4909 - mse: 1.4909 - mae: 0.6398 - val_loss: 3.9450 - val_mse: 3.9450 - val_mae: 1.4433\n",
      "Epoch 123/300\n",
      "830/830 [==============================] - 1s 991us/step - loss: 1.4803 - mse: 1.4803 - mae: 0.6362 - val_loss: 3.9740 - val_mse: 3.9740 - val_mae: 1.4470\n",
      "Epoch 124/300\n",
      "830/830 [==============================] - 1s 978us/step - loss: 1.4771 - mse: 1.4771 - mae: 0.6356 - val_loss: 3.9793 - val_mse: 3.9793 - val_mae: 1.4488\n",
      "Epoch 125/300\n",
      "830/830 [==============================] - 1s 1ms/step - loss: 1.4755 - mse: 1.4755 - mae: 0.6356 - val_loss: 4.0620 - val_mse: 4.0620 - val_mae: 1.4627\n",
      "Epoch 126/300\n",
      "830/830 [==============================] - 1s 1ms/step - loss: 1.4653 - mse: 1.4653 - mae: 0.6331 - val_loss: 4.0850 - val_mse: 4.0850 - val_mae: 1.4671\n",
      "Epoch 127/300\n",
      "830/830 [==============================] - 1s 1ms/step - loss: 1.4675 - mse: 1.4675 - mae: 0.6338 - val_loss: 4.1049 - val_mse: 4.1049 - val_mae: 1.4697\n",
      "Epoch 128/300\n",
      "830/830 [==============================] - 1s 1ms/step - loss: 1.4586 - mse: 1.4586 - mae: 0.6314 - val_loss: 4.1180 - val_mse: 4.1180 - val_mae: 1.4721\n",
      "Epoch 129/300\n",
      "830/830 [==============================] - 1s 1ms/step - loss: 1.4587 - mse: 1.4587 - mae: 0.6318 - val_loss: 4.1496 - val_mse: 4.1496 - val_mae: 1.4771\n",
      "Epoch 130/300\n",
      "830/830 [==============================] - 1s 1ms/step - loss: 1.4513 - mse: 1.4513 - mae: 0.6298 - val_loss: 4.1705 - val_mse: 4.1705 - val_mae: 1.4805\n",
      "Epoch 131/300\n",
      "830/830 [==============================] - 1s 1ms/step - loss: 1.4461 - mse: 1.4461 - mae: 0.6276 - val_loss: 4.1937 - val_mse: 4.1937 - val_mae: 1.4809\n",
      "Epoch 132/300\n",
      "830/830 [==============================] - 1s 1ms/step - loss: 1.4443 - mse: 1.4443 - mae: 0.6284 - val_loss: 4.1512 - val_mse: 4.1512 - val_mae: 1.4733\n",
      "Epoch 133/300\n",
      "830/830 [==============================] - 1s 992us/step - loss: 1.4386 - mse: 1.4386 - mae: 0.6267 - val_loss: 3.9844 - val_mse: 3.9844 - val_mae: 1.4457\n",
      "Epoch 134/300\n",
      "830/830 [==============================] - 1s 998us/step - loss: 1.4298 - mse: 1.4298 - mae: 0.6244 - val_loss: 4.0275 - val_mse: 4.0275 - val_mae: 1.4497\n",
      "Epoch 135/300\n",
      "830/830 [==============================] - 1s 1ms/step - loss: 1.4211 - mse: 1.4211 - mae: 0.6221 - val_loss: 3.8754 - val_mse: 3.8754 - val_mae: 1.4241\n",
      "Epoch 136/300\n",
      "830/830 [==============================] - 1s 992us/step - loss: 1.4222 - mse: 1.4222 - mae: 0.6236 - val_loss: 3.9210 - val_mse: 3.9210 - val_mae: 1.4294\n",
      "Epoch 137/300\n",
      "830/830 [==============================] - 1s 1ms/step - loss: 1.4176 - mse: 1.4176 - mae: 0.6213 - val_loss: 3.9173 - val_mse: 3.9173 - val_mae: 1.4270\n",
      "Epoch 138/300\n",
      "830/830 [==============================] - 1s 1ms/step - loss: 1.4117 - mse: 1.4117 - mae: 0.6193 - val_loss: 3.9162 - val_mse: 3.9162 - val_mae: 1.4253\n",
      "Epoch 139/300\n",
      "830/830 [==============================] - 1s 1ms/step - loss: 1.4078 - mse: 1.4078 - mae: 0.6179 - val_loss: 3.9726 - val_mse: 3.9726 - val_mae: 1.4326\n",
      "Epoch 140/300\n",
      "830/830 [==============================] - 1s 1ms/step - loss: 1.4072 - mse: 1.4072 - mae: 0.6192 - val_loss: 4.0218 - val_mse: 4.0218 - val_mae: 1.4397\n",
      "Epoch 141/300\n",
      "830/830 [==============================] - 1s 1ms/step - loss: 1.4019 - mse: 1.4019 - mae: 0.6168 - val_loss: 4.0122 - val_mse: 4.0122 - val_mae: 1.4368\n",
      "Epoch 142/300\n",
      "830/830 [==============================] - 1s 1ms/step - loss: 1.3976 - mse: 1.3976 - mae: 0.6153 - val_loss: 4.0659 - val_mse: 4.0659 - val_mae: 1.4458\n",
      "Epoch 143/300\n",
      "830/830 [==============================] - 1s 990us/step - loss: 1.3945 - mse: 1.3945 - mae: 0.6154 - val_loss: 4.1771 - val_mse: 4.1771 - val_mae: 1.4624\n",
      "Epoch 144/300\n",
      "830/830 [==============================] - 1s 995us/step - loss: 1.3938 - mse: 1.3938 - mae: 0.6158 - val_loss: 4.1417 - val_mse: 4.1417 - val_mae: 1.4539\n",
      "Epoch 145/300\n",
      "830/830 [==============================] - 1s 987us/step - loss: 1.3920 - mse: 1.3920 - mae: 0.6155 - val_loss: 4.3242 - val_mse: 4.3242 - val_mae: 1.4828\n",
      "Epoch 146/300\n",
      "830/830 [==============================] - 1s 1ms/step - loss: 1.3928 - mse: 1.3928 - mae: 0.6163 - val_loss: 4.3170 - val_mse: 4.3170 - val_mae: 1.4807\n",
      "Epoch 147/300\n",
      "830/830 [==============================] - 1s 1ms/step - loss: 1.3892 - mse: 1.3892 - mae: 0.6155 - val_loss: 4.4446 - val_mse: 4.4446 - val_mae: 1.5001\n",
      "Epoch 148/300\n",
      "830/830 [==============================] - 1s 999us/step - loss: 1.3896 - mse: 1.3896 - mae: 0.6166 - val_loss: 4.4448 - val_mse: 4.4448 - val_mae: 1.4986\n",
      "Epoch 149/300\n",
      "830/830 [==============================] - 1s 1ms/step - loss: 1.3894 - mse: 1.3894 - mae: 0.6164 - val_loss: 4.5260 - val_mse: 4.5260 - val_mae: 1.5093\n",
      "Epoch 150/300\n",
      "830/830 [==============================] - 1s 1ms/step - loss: 1.3869 - mse: 1.3869 - mae: 0.6152 - val_loss: 4.5703 - val_mse: 4.5703 - val_mae: 1.5152\n",
      "Epoch 151/300\n",
      "830/830 [==============================] - 1s 1ms/step - loss: 1.3868 - mse: 1.3868 - mae: 0.6159 - val_loss: 4.6368 - val_mse: 4.6368 - val_mae: 1.5251\n",
      "Epoch 152/300\n",
      "830/830 [==============================] - 1s 979us/step - loss: 1.3861 - mse: 1.3861 - mae: 0.6155 - val_loss: 4.7540 - val_mse: 4.7540 - val_mae: 1.5418\n",
      "Epoch 153/300\n",
      "830/830 [==============================] - 1s 1ms/step - loss: 1.3873 - mse: 1.3873 - mae: 0.6156 - val_loss: 4.7910 - val_mse: 4.7910 - val_mae: 1.5469\n",
      "Epoch 154/300\n",
      "830/830 [==============================] - 1s 1ms/step - loss: 1.3836 - mse: 1.3836 - mae: 0.6145 - val_loss: 4.7869 - val_mse: 4.7869 - val_mae: 1.5456\n",
      "Epoch 155/300\n",
      "830/830 [==============================] - 1s 988us/step - loss: 1.3812 - mse: 1.3812 - mae: 0.6139 - val_loss: 4.7794 - val_mse: 4.7794 - val_mae: 1.5426\n",
      "Epoch 156/300\n",
      "830/830 [==============================] - 1s 1ms/step - loss: 1.3769 - mse: 1.3769 - mae: 0.6111 - val_loss: 4.7912 - val_mse: 4.7912 - val_mae: 1.5428\n",
      "Epoch 157/300\n",
      "830/830 [==============================] - 1s 989us/step - loss: 1.3744 - mse: 1.3744 - mae: 0.6101 - val_loss: 4.8365 - val_mse: 4.8365 - val_mae: 1.5485\n",
      "Epoch 158/300\n",
      "830/830 [==============================] - 1s 1ms/step - loss: 1.3747 - mse: 1.3747 - mae: 0.6106 - val_loss: 4.8639 - val_mse: 4.8639 - val_mae: 1.5524\n",
      "Epoch 159/300\n",
      "830/830 [==============================] - 1s 1ms/step - loss: 1.3741 - mse: 1.3741 - mae: 0.6095 - val_loss: 4.8552 - val_mse: 4.8552 - val_mae: 1.5496\n",
      "Epoch 160/300\n",
      "830/830 [==============================] - 1s 1ms/step - loss: 1.3741 - mse: 1.3741 - mae: 0.6084 - val_loss: 4.8364 - val_mse: 4.8364 - val_mae: 1.5457\n",
      "Epoch 161/300\n",
      "830/830 [==============================] - 1s 1ms/step - loss: 1.3725 - mse: 1.3725 - mae: 0.6070 - val_loss: 4.8943 - val_mse: 4.8943 - val_mae: 1.5531\n",
      "Epoch 162/300\n",
      "830/830 [==============================] - 1s 1ms/step - loss: 1.3729 - mse: 1.3729 - mae: 0.6075 - val_loss: 4.9288 - val_mse: 4.9288 - val_mae: 1.5583\n",
      "Epoch 163/300\n",
      "830/830 [==============================] - 1s 1ms/step - loss: 1.3726 - mse: 1.3726 - mae: 0.6073 - val_loss: 4.9760 - val_mse: 4.9760 - val_mae: 1.5649\n",
      "Epoch 164/300\n",
      "830/830 [==============================] - 1s 969us/step - loss: 1.3708 - mse: 1.3708 - mae: 0.6067 - val_loss: 4.9822 - val_mse: 4.9822 - val_mae: 1.5645\n",
      "Epoch 165/300\n",
      "830/830 [==============================] - 1s 1ms/step - loss: 1.3731 - mse: 1.3731 - mae: 0.6073 - val_loss: 4.8784 - val_mse: 4.8784 - val_mae: 1.5469\n",
      "Epoch 166/300\n",
      "830/830 [==============================] - 1s 1ms/step - loss: 1.3692 - mse: 1.3692 - mae: 0.6025 - val_loss: 4.9736 - val_mse: 4.9736 - val_mae: 1.5578\n",
      "Epoch 167/300\n",
      "830/830 [==============================] - 1s 1ms/step - loss: 1.3703 - mse: 1.3703 - mae: 0.6005 - val_loss: 4.8877 - val_mse: 4.8877 - val_mae: 1.5430\n",
      "Epoch 168/300\n",
      "830/830 [==============================] - 1s 1000us/step - loss: 1.3698 - mse: 1.3698 - mae: 0.5984 - val_loss: 4.8375 - val_mse: 4.8375 - val_mae: 1.5333\n",
      "Epoch 169/300\n",
      "830/830 [==============================] - 1s 995us/step - loss: 1.3725 - mse: 1.3725 - mae: 0.5981 - val_loss: 4.7936 - val_mse: 4.7936 - val_mae: 1.5257\n",
      "Epoch 170/300\n",
      "830/830 [==============================] - 1s 1ms/step - loss: 1.3825 - mse: 1.3825 - mae: 0.6007 - val_loss: 4.5873 - val_mse: 4.5873 - val_mae: 1.4886\n",
      "Epoch 171/300\n",
      "830/830 [==============================] - 1s 1ms/step - loss: 1.3879 - mse: 1.3879 - mae: 0.5959 - val_loss: 4.5185 - val_mse: 4.5185 - val_mae: 1.4705\n",
      "Epoch 172/300\n",
      "830/830 [==============================] - 1s 1ms/step - loss: 1.4061 - mse: 1.4061 - mae: 0.5841 - val_loss: 3.6097 - val_mse: 3.6097 - val_mae: 1.2930\n",
      "Epoch 173/300\n",
      "830/830 [==============================] - 1s 1ms/step - loss: 1.3989 - mse: 1.3989 - mae: 0.5651 - val_loss: 3.5090 - val_mse: 3.5090 - val_mae: 1.2545\n",
      "Epoch 174/300\n",
      "830/830 [==============================] - 1s 1ms/step - loss: 1.3983 - mse: 1.3983 - mae: 0.5540 - val_loss: 2.9064 - val_mse: 2.9064 - val_mae: 1.1183\n",
      "Epoch 175/300\n",
      "830/830 [==============================] - 1s 1ms/step - loss: 1.3951 - mse: 1.3951 - mae: 0.5549 - val_loss: 2.4521 - val_mse: 2.4521 - val_mae: 1.0101\n",
      "Epoch 176/300\n",
      "830/830 [==============================] - 1s 986us/step - loss: 1.3893 - mse: 1.3893 - mae: 0.5472 - val_loss: 2.1055 - val_mse: 2.1055 - val_mae: 0.9256\n",
      "Epoch 177/300\n",
      "830/830 [==============================] - 1s 981us/step - loss: 1.3821 - mse: 1.3821 - mae: 0.5388 - val_loss: 1.7345 - val_mse: 1.7345 - val_mae: 0.8129\n",
      "Epoch 178/300\n",
      "830/830 [==============================] - 1s 1ms/step - loss: 1.3784 - mse: 1.3784 - mae: 0.5377 - val_loss: 1.7611 - val_mse: 1.7611 - val_mae: 0.8324\n",
      "Epoch 179/300\n",
      "830/830 [==============================] - 1s 992us/step - loss: 1.3805 - mse: 1.3805 - mae: 0.5397 - val_loss: 1.4644 - val_mse: 1.4644 - val_mae: 0.7120\n",
      "Epoch 180/300\n",
      "830/830 [==============================] - 1s 1ms/step - loss: 1.3857 - mse: 1.3857 - mae: 0.5474 - val_loss: 1.2514 - val_mse: 1.2514 - val_mae: 0.5968\n",
      "Epoch 181/300\n",
      "830/830 [==============================] - 1s 995us/step - loss: 1.3920 - mse: 1.3920 - mae: 0.5413 - val_loss: 1.4428 - val_mse: 1.4428 - val_mae: 0.6974\n",
      "Epoch 182/300\n",
      "830/830 [==============================] - 1s 991us/step - loss: 1.4011 - mse: 1.4011 - mae: 0.5529 - val_loss: 1.2182 - val_mse: 1.2182 - val_mae: 0.5827\n",
      "Epoch 183/300\n",
      "830/830 [==============================] - 1s 984us/step - loss: 1.4007 - mse: 1.4007 - mae: 0.5532 - val_loss: 1.4555 - val_mse: 1.4555 - val_mae: 0.7137\n",
      "Epoch 184/300\n",
      "830/830 [==============================] - 1s 1ms/step - loss: 1.4081 - mse: 1.4081 - mae: 0.5636 - val_loss: 1.2928 - val_mse: 1.2928 - val_mae: 0.6389\n",
      "Epoch 185/300\n",
      "830/830 [==============================] - 1s 1ms/step - loss: 1.4040 - mse: 1.4040 - mae: 0.5590 - val_loss: 1.2978 - val_mse: 1.2978 - val_mae: 0.6416\n",
      "Epoch 186/300\n",
      "830/830 [==============================] - 1s 990us/step - loss: 1.4072 - mse: 1.4072 - mae: 0.5622 - val_loss: 1.3836 - val_mse: 1.3836 - val_mae: 0.6880\n",
      "Epoch 187/300\n",
      "830/830 [==============================] - 1s 1ms/step - loss: 1.4139 - mse: 1.4139 - mae: 0.5746 - val_loss: 1.1528 - val_mse: 1.1528 - val_mae: 0.5495\n",
      "Epoch 188/300\n",
      "830/830 [==============================] - 1s 993us/step - loss: 1.4101 - mse: 1.4101 - mae: 0.5712 - val_loss: 1.1624 - val_mse: 1.1624 - val_mae: 0.5603\n",
      "Epoch 189/300\n",
      "830/830 [==============================] - 1s 1ms/step - loss: 1.4063 - mse: 1.4063 - mae: 0.5693 - val_loss: 1.1544 - val_mse: 1.1544 - val_mae: 0.5525\n",
      "Epoch 190/300\n",
      "830/830 [==============================] - 1s 1ms/step - loss: 1.4058 - mse: 1.4058 - mae: 0.5687 - val_loss: 1.1555 - val_mse: 1.1555 - val_mae: 0.5526\n",
      "Epoch 191/300\n",
      "830/830 [==============================] - 1s 1ms/step - loss: 1.4055 - mse: 1.4055 - mae: 0.5679 - val_loss: 1.1576 - val_mse: 1.1576 - val_mae: 0.5525\n",
      "Epoch 192/300\n",
      "830/830 [==============================] - 1s 1ms/step - loss: 1.4041 - mse: 1.4041 - mae: 0.5666 - val_loss: 1.1879 - val_mse: 1.1879 - val_mae: 0.5755\n",
      "Epoch 193/300\n",
      "830/830 [==============================] - 1s 994us/step - loss: 1.3993 - mse: 1.3993 - mae: 0.5560 - val_loss: 1.2877 - val_mse: 1.2877 - val_mae: 0.6317\n",
      "Epoch 194/300\n",
      "830/830 [==============================] - 1s 1ms/step - loss: 1.4034 - mse: 1.4034 - mae: 0.5625 - val_loss: 1.1203 - val_mse: 1.1203 - val_mae: 0.5185\n",
      "Epoch 195/300\n",
      "830/830 [==============================] - 1s 1ms/step - loss: 1.3978 - mse: 1.3978 - mae: 0.5513 - val_loss: 1.2135 - val_mse: 1.2135 - val_mae: 0.5857\n",
      "Epoch 196/300\n",
      "830/830 [==============================] - 1s 1ms/step - loss: 1.4118 - mse: 1.4118 - mae: 0.5708 - val_loss: 1.1534 - val_mse: 1.1534 - val_mae: 0.5484\n",
      "Epoch 197/300\n",
      "830/830 [==============================] - 1s 1ms/step - loss: 1.3958 - mse: 1.3958 - mae: 0.5539 - val_loss: 1.1911 - val_mse: 1.1911 - val_mae: 0.5630\n",
      "Epoch 198/300\n",
      "830/830 [==============================] - 1s 1ms/step - loss: 1.3986 - mse: 1.3986 - mae: 0.5574 - val_loss: 1.1476 - val_mse: 1.1476 - val_mae: 0.5369\n",
      "Epoch 199/300\n",
      "830/830 [==============================] - 1s 1ms/step - loss: 1.4021 - mse: 1.4021 - mae: 0.5660 - val_loss: 1.1189 - val_mse: 1.1189 - val_mae: 0.5136\n",
      "Epoch 200/300\n",
      "830/830 [==============================] - 1s 1ms/step - loss: 1.3959 - mse: 1.3959 - mae: 0.5581 - val_loss: 1.2925 - val_mse: 1.2925 - val_mae: 0.6260\n",
      "Epoch 201/300\n",
      "830/830 [==============================] - 1s 1ms/step - loss: 1.4026 - mse: 1.4026 - mae: 0.5652 - val_loss: 1.1141 - val_mse: 1.1141 - val_mae: 0.5112\n",
      "Epoch 202/300\n",
      "830/830 [==============================] - 1s 1ms/step - loss: 1.3944 - mse: 1.3944 - mae: 0.5601 - val_loss: 1.1816 - val_mse: 1.1816 - val_mae: 0.5617\n",
      "Epoch 203/300\n",
      "830/830 [==============================] - 1s 1ms/step - loss: 1.3961 - mse: 1.3961 - mae: 0.5552 - val_loss: 1.1448 - val_mse: 1.1448 - val_mae: 0.5338\n",
      "Epoch 204/300\n",
      "830/830 [==============================] - 1s 1ms/step - loss: 1.4018 - mse: 1.4018 - mae: 0.5636 - val_loss: 1.1257 - val_mse: 1.1257 - val_mae: 0.5231\n",
      "Epoch 205/300\n",
      "830/830 [==============================] - 1s 1ms/step - loss: 1.3926 - mse: 1.3926 - mae: 0.5547 - val_loss: 1.2757 - val_mse: 1.2757 - val_mae: 0.6159\n",
      "Epoch 206/300\n",
      "830/830 [==============================] - 1s 1ms/step - loss: 1.4008 - mse: 1.4008 - mae: 0.5621 - val_loss: 1.1089 - val_mse: 1.1089 - val_mae: 0.5064\n",
      "Epoch 207/300\n",
      "830/830 [==============================] - 1s 1ms/step - loss: 1.3902 - mse: 1.3902 - mae: 0.5572 - val_loss: 1.1849 - val_mse: 1.1849 - val_mae: 0.5598\n",
      "Epoch 208/300\n",
      "830/830 [==============================] - 1s 1ms/step - loss: 1.3896 - mse: 1.3896 - mae: 0.5548 - val_loss: 1.1440 - val_mse: 1.1440 - val_mae: 0.5341\n",
      "Epoch 209/300\n",
      "830/830 [==============================] - 1s 1ms/step - loss: 1.3939 - mse: 1.3939 - mae: 0.5625 - val_loss: 1.1311 - val_mse: 1.1311 - val_mae: 0.5275\n",
      "Epoch 210/300\n",
      "830/830 [==============================] - 1s 1ms/step - loss: 1.3814 - mse: 1.3814 - mae: 0.5573 - val_loss: 1.1613 - val_mse: 1.1613 - val_mae: 0.5437\n",
      "Epoch 211/300\n",
      "830/830 [==============================] - 1s 1ms/step - loss: 1.3751 - mse: 1.3751 - mae: 0.5608 - val_loss: 1.1079 - val_mse: 1.1079 - val_mae: 0.5116\n",
      "Epoch 212/300\n",
      "830/830 [==============================] - 1s 1ms/step - loss: 1.3732 - mse: 1.3732 - mae: 0.5683 - val_loss: 1.0938 - val_mse: 1.0938 - val_mae: 0.5009\n",
      "Epoch 213/300\n",
      "830/830 [==============================] - 1s 998us/step - loss: 1.3618 - mse: 1.3618 - mae: 0.5633 - val_loss: 1.1327 - val_mse: 1.1327 - val_mae: 0.5311\n",
      "Epoch 214/300\n",
      "830/830 [==============================] - 1s 1ms/step - loss: 1.3626 - mse: 1.3626 - mae: 0.5744 - val_loss: 1.1221 - val_mse: 1.1221 - val_mae: 0.5319\n",
      "Epoch 215/300\n",
      "830/830 [==============================] - 1s 1ms/step - loss: 1.3471 - mse: 1.3471 - mae: 0.5693 - val_loss: 1.1354 - val_mse: 1.1354 - val_mae: 0.5467\n",
      "Epoch 216/300\n",
      "830/830 [==============================] - 1s 1ms/step - loss: 1.3380 - mse: 1.3380 - mae: 0.5749 - val_loss: 1.1535 - val_mse: 1.1535 - val_mae: 0.5632\n",
      "Epoch 217/300\n",
      "830/830 [==============================] - 1s 1ms/step - loss: 1.3372 - mse: 1.3372 - mae: 0.5834 - val_loss: 1.0597 - val_mse: 1.0597 - val_mae: 0.5003\n",
      "Epoch 218/300\n",
      "830/830 [==============================] - 1s 1ms/step - loss: 1.3199 - mse: 1.3199 - mae: 0.5790 - val_loss: 1.0572 - val_mse: 1.0572 - val_mae: 0.5112\n",
      "Epoch 219/300\n",
      "830/830 [==============================] - 1s 1ms/step - loss: 1.3107 - mse: 1.3107 - mae: 0.5839 - val_loss: 1.0483 - val_mse: 1.0483 - val_mae: 0.5100\n",
      "Epoch 220/300\n",
      "830/830 [==============================] - 1s 1ms/step - loss: 1.3094 - mse: 1.3094 - mae: 0.5888 - val_loss: 1.0380 - val_mse: 1.0380 - val_mae: 0.5071\n",
      "Epoch 221/300\n",
      "830/830 [==============================] - 1s 997us/step - loss: 1.2968 - mse: 1.2968 - mae: 0.5864 - val_loss: 1.0382 - val_mse: 1.0382 - val_mae: 0.5187\n",
      "Epoch 222/300\n",
      "830/830 [==============================] - 1s 995us/step - loss: 1.2895 - mse: 1.2895 - mae: 0.5901 - val_loss: 1.0419 - val_mse: 1.0419 - val_mae: 0.5285\n",
      "Epoch 223/300\n",
      "830/830 [==============================] - 1s 1ms/step - loss: 1.3021 - mse: 1.3021 - mae: 0.5974 - val_loss: 1.0419 - val_mse: 1.0419 - val_mae: 0.5288\n",
      "Epoch 224/300\n",
      "830/830 [==============================] - 1s 998us/step - loss: 1.2810 - mse: 1.2810 - mae: 0.5880 - val_loss: 1.0353 - val_mse: 1.0353 - val_mae: 0.5386\n",
      "Epoch 225/300\n",
      "830/830 [==============================] - 1s 1ms/step - loss: 1.2710 - mse: 1.2710 - mae: 0.5916 - val_loss: 1.0349 - val_mse: 1.0349 - val_mae: 0.5445\n",
      "Epoch 226/300\n",
      "830/830 [==============================] - 1s 1ms/step - loss: 1.2628 - mse: 1.2628 - mae: 0.5916 - val_loss: 1.0360 - val_mse: 1.0360 - val_mae: 0.5501\n",
      "Epoch 227/300\n",
      "830/830 [==============================] - 1s 1ms/step - loss: 1.2707 - mse: 1.2707 - mae: 0.5939 - val_loss: 1.0453 - val_mse: 1.0453 - val_mae: 0.5535\n",
      "Epoch 228/300\n",
      "830/830 [==============================] - 1s 985us/step - loss: 1.2547 - mse: 1.2547 - mae: 0.5908 - val_loss: 1.0379 - val_mse: 1.0379 - val_mae: 0.5564\n",
      "Epoch 229/300\n",
      "830/830 [==============================] - 1s 1ms/step - loss: 1.2453 - mse: 1.2453 - mae: 0.5908 - val_loss: 1.0362 - val_mse: 1.0362 - val_mae: 0.5570\n",
      "Epoch 230/300\n",
      "830/830 [==============================] - 1s 1ms/step - loss: 1.2381 - mse: 1.2381 - mae: 0.5892 - val_loss: 1.0338 - val_mse: 1.0338 - val_mae: 0.5554\n",
      "Epoch 231/300\n",
      "830/830 [==============================] - 1s 1ms/step - loss: 1.2486 - mse: 1.2486 - mae: 0.5897 - val_loss: 1.0374 - val_mse: 1.0374 - val_mae: 0.5517\n",
      "Epoch 232/300\n",
      "830/830 [==============================] - 1s 1ms/step - loss: 1.2294 - mse: 1.2294 - mae: 0.5834 - val_loss: 1.0290 - val_mse: 1.0290 - val_mae: 0.5491\n",
      "Epoch 233/300\n",
      "830/830 [==============================] - 1s 1ms/step - loss: 1.2201 - mse: 1.2201 - mae: 0.5761 - val_loss: 1.0268 - val_mse: 1.0268 - val_mae: 0.5452\n",
      "Epoch 234/300\n",
      "830/830 [==============================] - 1s 1ms/step - loss: 1.2140 - mse: 1.2140 - mae: 0.5677 - val_loss: 1.0258 - val_mse: 1.0258 - val_mae: 0.5409\n",
      "Epoch 235/300\n",
      "830/830 [==============================] - 1s 1ms/step - loss: 1.2275 - mse: 1.2275 - mae: 0.5610 - val_loss: 1.0300 - val_mse: 1.0300 - val_mae: 0.5355\n",
      "Epoch 236/300\n",
      "830/830 [==============================] - 1s 1ms/step - loss: 1.2094 - mse: 1.2094 - mae: 0.5460 - val_loss: 1.0238 - val_mse: 1.0238 - val_mae: 0.5284\n",
      "Epoch 237/300\n",
      "830/830 [==============================] - 1s 1ms/step - loss: 1.2067 - mse: 1.2067 - mae: 0.5326 - val_loss: 1.0242 - val_mse: 1.0242 - val_mae: 0.5221\n",
      "Epoch 238/300\n",
      "830/830 [==============================] - 1s 1ms/step - loss: 1.2041 - mse: 1.2041 - mae: 0.5193 - val_loss: 1.0223 - val_mse: 1.0223 - val_mae: 0.5162\n",
      "Epoch 239/300\n",
      "830/830 [==============================] - 1s 1ms/step - loss: 1.2029 - mse: 1.2029 - mae: 0.5083 - val_loss: 1.0200 - val_mse: 1.0200 - val_mae: 0.5123\n",
      "Epoch 240/300\n",
      "830/830 [==============================] - 1s 993us/step - loss: 1.1988 - mse: 1.1988 - mae: 0.4985 - val_loss: 1.0160 - val_mse: 1.0160 - val_mae: 0.5099\n",
      "Epoch 241/300\n",
      "830/830 [==============================] - 1s 1ms/step - loss: 1.1982 - mse: 1.1982 - mae: 0.4960 - val_loss: 1.0154 - val_mse: 1.0154 - val_mae: 0.5109\n",
      "Epoch 242/300\n",
      "830/830 [==============================] - 1s 1ms/step - loss: 1.1930 - mse: 1.1930 - mae: 0.4934 - val_loss: 1.0106 - val_mse: 1.0106 - val_mae: 0.5098\n",
      "Epoch 243/300\n",
      "830/830 [==============================] - 1s 1ms/step - loss: 1.1916 - mse: 1.1916 - mae: 0.4933 - val_loss: 1.0076 - val_mse: 1.0076 - val_mae: 0.5088\n",
      "Epoch 244/300\n",
      "830/830 [==============================] - 1s 996us/step - loss: 1.1926 - mse: 1.1926 - mae: 0.4945 - val_loss: 1.0084 - val_mse: 1.0084 - val_mae: 0.5103\n",
      "Epoch 245/300\n",
      "830/830 [==============================] - 1s 1ms/step - loss: 1.1920 - mse: 1.1920 - mae: 0.4953 - val_loss: 1.0035 - val_mse: 1.0035 - val_mae: 0.5084\n",
      "Epoch 246/300\n",
      "830/830 [==============================] - 1s 1ms/step - loss: 1.1892 - mse: 1.1892 - mae: 0.4947 - val_loss: 1.0033 - val_mse: 1.0033 - val_mae: 0.5090\n",
      "Epoch 247/300\n",
      "830/830 [==============================] - 1s 1ms/step - loss: 1.1863 - mse: 1.1863 - mae: 0.4944 - val_loss: 0.9994 - val_mse: 0.9994 - val_mae: 0.5071\n",
      "Epoch 248/300\n",
      "830/830 [==============================] - 1s 1ms/step - loss: 1.1881 - mse: 1.1881 - mae: 0.4963 - val_loss: 1.0026 - val_mse: 1.0026 - val_mae: 0.5098\n",
      "Epoch 249/300\n",
      "830/830 [==============================] - 1s 1ms/step - loss: 1.1844 - mse: 1.1844 - mae: 0.4955 - val_loss: 0.9964 - val_mse: 0.9964 - val_mae: 0.5064\n",
      "Epoch 250/300\n",
      "830/830 [==============================] - 1s 1ms/step - loss: 1.1831 - mse: 1.1831 - mae: 0.4960 - val_loss: 0.9981 - val_mse: 0.9981 - val_mae: 0.5071\n",
      "Epoch 251/300\n",
      "830/830 [==============================] - 1s 995us/step - loss: 1.1824 - mse: 1.1824 - mae: 0.4955 - val_loss: 0.9953 - val_mse: 0.9953 - val_mae: 0.5051\n",
      "Epoch 252/300\n",
      "830/830 [==============================] - 1s 1ms/step - loss: 1.1853 - mse: 1.1853 - mae: 0.4967 - val_loss: 0.9983 - val_mse: 0.9983 - val_mae: 0.5076\n",
      "Epoch 253/300\n",
      "830/830 [==============================] - 1s 1ms/step - loss: 1.1802 - mse: 1.1802 - mae: 0.4958 - val_loss: 0.9929 - val_mse: 0.9929 - val_mae: 0.5042\n",
      "Epoch 254/300\n",
      "830/830 [==============================] - 1s 998us/step - loss: 1.1807 - mse: 1.1807 - mae: 0.4957 - val_loss: 0.9940 - val_mse: 0.9940 - val_mae: 0.5040\n",
      "Epoch 255/300\n",
      "830/830 [==============================] - 1s 1ms/step - loss: 1.1833 - mse: 1.1833 - mae: 0.4964 - val_loss: 0.9968 - val_mse: 0.9968 - val_mae: 0.5065\n",
      "Epoch 256/300\n",
      "830/830 [==============================] - 1s 1ms/step - loss: 1.1783 - mse: 1.1783 - mae: 0.4956 - val_loss: 0.9915 - val_mse: 0.9915 - val_mae: 0.5032\n",
      "Epoch 257/300\n",
      "830/830 [==============================] - 1s 1ms/step - loss: 1.1787 - mse: 1.1787 - mae: 0.4956 - val_loss: 0.9928 - val_mse: 0.9928 - val_mae: 0.5034\n",
      "Epoch 258/300\n",
      "830/830 [==============================] - 1s 1ms/step - loss: 1.1780 - mse: 1.1780 - mae: 0.4954 - val_loss: 0.9959 - val_mse: 0.9959 - val_mae: 0.5061\n",
      "Epoch 259/300\n",
      "830/830 [==============================] - 1s 1ms/step - loss: 1.1757 - mse: 1.1757 - mae: 0.4952 - val_loss: 0.9920 - val_mse: 0.9920 - val_mae: 0.5034\n",
      "Epoch 260/300\n",
      "830/830 [==============================] - 1s 996us/step - loss: 1.1765 - mse: 1.1765 - mae: 0.4955 - val_loss: 0.9957 - val_mse: 0.9957 - val_mae: 0.5057\n",
      "Epoch 261/300\n",
      "830/830 [==============================] - 1s 1ms/step - loss: 1.1740 - mse: 1.1740 - mae: 0.4946 - val_loss: 0.9922 - val_mse: 0.9922 - val_mae: 0.5035\n",
      "Epoch 262/300\n",
      "830/830 [==============================] - 1s 1ms/step - loss: 1.1743 - mse: 1.1743 - mae: 0.4948 - val_loss: 0.9951 - val_mse: 0.9951 - val_mae: 0.5054\n",
      "Epoch 263/300\n",
      "830/830 [==============================] - 1s 1ms/step - loss: 1.1731 - mse: 1.1731 - mae: 0.4944 - val_loss: 0.9914 - val_mse: 0.9914 - val_mae: 0.5027\n",
      "Epoch 264/300\n",
      "830/830 [==============================] - 1s 1ms/step - loss: 1.1746 - mse: 1.1746 - mae: 0.4948 - val_loss: 0.9950 - val_mse: 0.9950 - val_mae: 0.5049\n",
      "Epoch 265/300\n",
      "830/830 [==============================] - 1s 1ms/step - loss: 1.1726 - mse: 1.1726 - mae: 0.4942 - val_loss: 0.9914 - val_mse: 0.9914 - val_mae: 0.5026\n",
      "Epoch 266/300\n",
      "830/830 [==============================] - 1s 1ms/step - loss: 1.1729 - mse: 1.1729 - mae: 0.4945 - val_loss: 0.9946 - val_mse: 0.9946 - val_mae: 0.5045\n",
      "Epoch 267/300\n",
      "830/830 [==============================] - 1s 997us/step - loss: 1.1717 - mse: 1.1717 - mae: 0.4943 - val_loss: 0.9911 - val_mse: 0.9911 - val_mae: 0.5022\n",
      "Epoch 268/300\n",
      "830/830 [==============================] - 1s 1ms/step - loss: 1.1721 - mse: 1.1721 - mae: 0.4944 - val_loss: 0.9945 - val_mse: 0.9945 - val_mae: 0.5042\n",
      "Epoch 269/300\n",
      "830/830 [==============================] - 1s 1ms/step - loss: 1.1717 - mse: 1.1717 - mae: 0.4944 - val_loss: 0.9918 - val_mse: 0.9918 - val_mae: 0.5024\n",
      "Epoch 270/300\n",
      "830/830 [==============================] - 1s 1ms/step - loss: 1.1712 - mse: 1.1712 - mae: 0.4937 - val_loss: 0.9929 - val_mse: 0.9929 - val_mae: 0.5029\n",
      "Epoch 271/300\n",
      "830/830 [==============================] - 1s 1ms/step - loss: 1.1707 - mse: 1.1707 - mae: 0.4938 - val_loss: 0.9940 - val_mse: 0.9940 - val_mae: 0.5033\n",
      "Epoch 272/300\n",
      "830/830 [==============================] - 1s 1ms/step - loss: 1.1693 - mse: 1.1693 - mae: 0.4929 - val_loss: 0.9914 - val_mse: 0.9914 - val_mae: 0.5017\n",
      "Epoch 273/300\n",
      "830/830 [==============================] - 1s 999us/step - loss: 1.1706 - mse: 1.1706 - mae: 0.4937 - val_loss: 0.9944 - val_mse: 0.9944 - val_mae: 0.5036\n",
      "Epoch 274/300\n",
      "830/830 [==============================] - 1s 999us/step - loss: 1.1698 - mse: 1.1698 - mae: 0.4938 - val_loss: 0.9929 - val_mse: 0.9929 - val_mae: 0.5023\n",
      "Epoch 275/300\n",
      "830/830 [==============================] - 1s 1ms/step - loss: 1.1708 - mse: 1.1708 - mae: 0.4936 - val_loss: 0.9946 - val_mse: 0.9946 - val_mae: 0.5038\n",
      "Epoch 276/300\n",
      "830/830 [==============================] - 1s 1ms/step - loss: 1.1693 - mse: 1.1693 - mae: 0.4933 - val_loss: 0.9903 - val_mse: 0.9903 - val_mae: 0.5008\n",
      "Epoch 277/300\n",
      "830/830 [==============================] - 1s 1ms/step - loss: 1.1706 - mse: 1.1706 - mae: 0.4932 - val_loss: 0.9925 - val_mse: 0.9925 - val_mae: 0.5015\n",
      "Epoch 278/300\n",
      "830/830 [==============================] - 1s 1ms/step - loss: 1.1703 - mse: 1.1703 - mae: 0.4933 - val_loss: 0.9961 - val_mse: 0.9961 - val_mae: 0.5038\n",
      "Epoch 279/300\n",
      "830/830 [==============================] - 1s 1ms/step - loss: 1.1688 - mse: 1.1688 - mae: 0.4931 - val_loss: 0.9925 - val_mse: 0.9925 - val_mae: 0.5015\n",
      "Epoch 280/300\n",
      "830/830 [==============================] - 1s 1ms/step - loss: 1.1695 - mse: 1.1695 - mae: 0.4929 - val_loss: 0.9950 - val_mse: 0.9950 - val_mae: 0.5031\n",
      "Epoch 281/300\n",
      "830/830 [==============================] - 1s 1ms/step - loss: 1.1678 - mse: 1.1678 - mae: 0.4925 - val_loss: 0.9918 - val_mse: 0.9918 - val_mae: 0.5010\n",
      "Epoch 282/300\n",
      "830/830 [==============================] - 1s 1ms/step - loss: 1.1689 - mse: 1.1689 - mae: 0.4930 - val_loss: 0.9949 - val_mse: 0.9949 - val_mae: 0.5030\n",
      "Epoch 283/300\n",
      "830/830 [==============================] - 1s 999us/step - loss: 1.1667 - mse: 1.1667 - mae: 0.4921 - val_loss: 0.9919 - val_mse: 0.9919 - val_mae: 0.5010\n",
      "Epoch 284/300\n",
      "830/830 [==============================] - 1s 1ms/step - loss: 1.1690 - mse: 1.1690 - mae: 0.4928 - val_loss: 0.9946 - val_mse: 0.9946 - val_mae: 0.5027\n",
      "Epoch 285/300\n",
      "830/830 [==============================] - 1s 1ms/step - loss: 1.1655 - mse: 1.1655 - mae: 0.4917 - val_loss: 0.9922 - val_mse: 0.9922 - val_mae: 0.5010\n",
      "Epoch 286/300\n",
      "830/830 [==============================] - 1s 1ms/step - loss: 1.1688 - mse: 1.1688 - mae: 0.4925 - val_loss: 0.9947 - val_mse: 0.9947 - val_mae: 0.5025\n",
      "Epoch 287/300\n",
      "830/830 [==============================] - 1s 1ms/step - loss: 1.1648 - mse: 1.1648 - mae: 0.4914 - val_loss: 0.9920 - val_mse: 0.9920 - val_mae: 0.5007\n",
      "Epoch 288/300\n",
      "830/830 [==============================] - 1s 1ms/step - loss: 1.1678 - mse: 1.1678 - mae: 0.4924 - val_loss: 0.9952 - val_mse: 0.9952 - val_mae: 0.5025\n",
      "Epoch 289/300\n",
      "830/830 [==============================] - 1s 991us/step - loss: 1.1653 - mse: 1.1653 - mae: 0.4916 - val_loss: 0.9920 - val_mse: 0.9920 - val_mae: 0.5005\n",
      "Epoch 290/300\n",
      "830/830 [==============================] - 1s 1ms/step - loss: 1.1677 - mse: 1.1677 - mae: 0.4922 - val_loss: 0.9947 - val_mse: 0.9947 - val_mae: 0.5022\n",
      "Epoch 291/300\n",
      "830/830 [==============================] - 1s 1ms/step - loss: 1.1640 - mse: 1.1640 - mae: 0.4912 - val_loss: 0.9927 - val_mse: 0.9927 - val_mae: 0.5010\n",
      "Epoch 292/300\n",
      "830/830 [==============================] - 1s 1ms/step - loss: 1.1662 - mse: 1.1662 - mae: 0.4922 - val_loss: 0.9959 - val_mse: 0.9959 - val_mae: 0.5027\n",
      "Epoch 293/300\n",
      "830/830 [==============================] - 1s 991us/step - loss: 1.1644 - mse: 1.1644 - mae: 0.4915 - val_loss: 0.9929 - val_mse: 0.9929 - val_mae: 0.5010\n",
      "Epoch 294/300\n",
      "830/830 [==============================] - 1s 1ms/step - loss: 1.1651 - mse: 1.1651 - mae: 0.4919 - val_loss: 0.9953 - val_mse: 0.9953 - val_mae: 0.5027\n",
      "Epoch 295/300\n",
      "830/830 [==============================] - 1s 1ms/step - loss: 1.1639 - mse: 1.1639 - mae: 0.4915 - val_loss: 0.9928 - val_mse: 0.9928 - val_mae: 0.5010\n",
      "Epoch 296/300\n",
      "830/830 [==============================] - 1s 992us/step - loss: 1.1655 - mse: 1.1655 - mae: 0.4919 - val_loss: 0.9945 - val_mse: 0.9945 - val_mae: 0.5021\n",
      "Epoch 297/300\n",
      "830/830 [==============================] - 1s 999us/step - loss: 1.1632 - mse: 1.1632 - mae: 0.4914 - val_loss: 0.9936 - val_mse: 0.9936 - val_mae: 0.5015\n",
      "Epoch 298/300\n",
      "830/830 [==============================] - 1s 1ms/step - loss: 1.1637 - mse: 1.1637 - mae: 0.4915 - val_loss: 0.9947 - val_mse: 0.9947 - val_mae: 0.5020\n",
      "Epoch 299/300\n",
      "830/830 [==============================] - 1s 1ms/step - loss: 1.1633 - mse: 1.1633 - mae: 0.4912 - val_loss: 0.9950 - val_mse: 0.9950 - val_mae: 0.5021\n",
      "Epoch 300/300\n",
      "830/830 [==============================] - 1s 1ms/step - loss: 1.1633 - mse: 1.1633 - mae: 0.4912 - val_loss: 0.9952 - val_mse: 0.9952 - val_mae: 0.5022\n"
     ]
    }
   ],
   "source": [
    "history = model.fit(X_train, Y_train,\n",
    "                    epochs=300, batch_size=10,\n",
    "                    validation_split=0.2,shuffle=False)"
   ]
  },
  {
   "cell_type": "code",
   "execution_count": 14,
   "metadata": {
    "colab": {
     "base_uri": "https://localhost:8080/",
     "height": 265
    },
    "colab_type": "code",
    "id": "d-d1gDeDKseL",
    "outputId": "18dfbd01-7d0e-4024-c553-b6be663a8863"
   },
   "outputs": [
    {
     "data": {
      "image/png": "[encoded data removed]",
      "text/plain": [
       "<Figure size 432x288 with 1 Axes>"
      ]
     },
     "metadata": {
      "needs_background": "light",
      "tags": []
     },
     "output_type": "display_data"
    }
   ],
   "source": [
    "plt.plot(history.history['loss'])\n",
    "plt.show()"
   ]
  },
  {
   "cell_type": "code",
   "execution_count": 21,
   "metadata": {
    "colab": {},
    "colab_type": "code",
    "id": "ImFnlfe8LcHB"
   },
   "outputs": [],
   "source": [
    "Y_hat = model.predict(X_test).flatten()"
   ]
  },
  {
   "cell_type": "code",
   "execution_count": 22,
   "metadata": {
    "colab": {
     "base_uri": "https://localhost:8080/",
     "height": 34
    },
    "colab_type": "code",
    "id": "cfrfEJLmLhhj",
    "outputId": "1a2b849b-e021-4eef-c05f-de42037c4f09"
   },
   "outputs": [
    {
     "data": {
      "text/plain": [
       "7.936802239150266"
      ]
     },
     "execution_count": 22,
     "metadata": {
      "tags": []
     },
     "output_type": "execute_result"
    }
   ],
   "source": [
    "mape(Y_test+1,Y_hat+1)"
   ]
  },
  {
   "cell_type": "code",
   "execution_count": 23,
   "metadata": {
    "colab": {
     "base_uri": "https://localhost:8080/",
     "height": 34
    },
    "colab_type": "code",
    "id": "fExXEkDmLpYQ",
    "outputId": "4a8f9e50-5c4f-42fd-a754-664f8f69b6dd"
   },
   "outputs": [
    {
     "data": {
      "text/plain": [
       "7.779175690872679"
      ]
     },
     "execution_count": 23,
     "metadata": {
      "tags": []
     },
     "output_type": "execute_result"
    }
   ],
   "source": [
    "smape(Y_test+1,Y_hat+1)"
   ]
  },
  {
   "cell_type": "code",
   "execution_count": 24,
   "metadata": {
    "colab": {
     "base_uri": "https://localhost:8080/",
     "height": 34
    },
    "colab_type": "code",
    "id": "sXCg6VF2LsUr",
    "outputId": "cce273eb-8ae8-4f3c-f956-05ea3f223b29"
   },
   "outputs": [
    {
     "data": {
      "text/plain": [
       "0.29073128963427813"
      ]
     },
     "execution_count": 24,
     "metadata": {
      "tags": []
     },
     "output_type": "execute_result"
    }
   ],
   "source": [
    "mae(Y_test+1,Y_hat+1)"
   ]
  },
  {
   "cell_type": "code",
   "execution_count": 27,
   "metadata": {
    "colab": {
     "base_uri": "https://localhost:8080/",
     "height": 265
    },
    "colab_type": "code",
    "id": "TMrVlLLJMixj",
    "outputId": "ba33461a-e75f-4e1a-d255-7a2a6fa14efe"
   },
   "outputs": [
    {
     "data": {
      "image/png": "[encoded data removed]",
      "text/plain": [
       "<Figure size 432x288 with 1 Axes>"
      ]
     },
     "metadata": {
      "needs_background": "light",
      "tags": []
     },
     "output_type": "display_data"
    }
   ],
   "source": [
    "#_ = plt.plot(Y_test)\n",
    "forecast = pd.Series(Y_hat)\n",
    "forecast.index = Y_test.index\n",
    "fig, ax = plt.subplots()\n",
    "#ax.set_ylim(0,10)\n",
    "ax = plt.plot(Y_test,'blue',label='Actual')\n",
    "ax = plt.plot(forecast,'red',label='Forecast')\n",
    "ax = plt.legend(loc=\"upper right\")"
   ]
  }
 ],
 "metadata": {
  "colab": {
   "collapsed_sections": [],
   "name": "FF4lags8features.ipynb",
   "provenance": []
  },
  "kernelspec": {
   "display_name": "Python 3",
   "language": "python",
   "name": "python3"
  },
  "language_info": {
   "codemirror_mode": {
    "name": "ipython",
    "version": 3
   },
   "file_extension": ".py",
   "mimetype": "text/x-python",
   "name": "python",
   "nbconvert_exporter": "python",
   "pygments_lexer": "ipython3",
   "version": "3.7.6"
  }
 },
 "nbformat": 4,
 "nbformat_minor": 4
}
