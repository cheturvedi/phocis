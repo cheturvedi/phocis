{
 "cells": [
  {
   "cell_type": "code",
   "execution_count": 1,
   "metadata": {
    "colab": {
     "base_uri": "https://localhost:8080/",
     "height": 72
    },
    "colab_type": "code",
    "id": "H1I7DsJVHapA",
    "outputId": "ecc0d472-f331-4ca5-ec2a-72b3a30234b1"
   },
   "outputs": [
    {
     "name": "stderr",
     "output_type": "stream",
     "text": [
      "/usr/local/lib/python3.6/dist-packages/statsmodels/tools/_testing.py:19: FutureWarning: pandas.util.testing is deprecated. Use the functions in the public API at pandas.testing instead.\n",
      "  import pandas.util.testing as tm\n"
     ]
    }
   ],
   "source": [
    "import pandas as pd\n",
    "import numpy as np\n",
    "import matplotlib.pyplot as plt\n",
    "import statsmodels.api as sm\n",
    "import pywt\n",
    "\n",
    "from itertools import islice\n",
    "from collections import deque\n",
    "\n",
    "from tensorflow.python.keras.layers import Input, Dense,RNN,LSTMCell\n",
    "from tensorflow.python.keras.models import Sequential"
   ]
  },
  {
   "cell_type": "code",
   "execution_count": 2,
   "metadata": {
    "colab": {},
    "colab_type": "code",
    "id": "CmcTRAteLe8Z"
   },
   "outputs": [],
   "source": [
    "def mape(y_true, y_pred):\n",
    "    return np.mean(np.abs((y_true - y_pred) / y_true)) * 100\n",
    "\n",
    "def smape(A, F):\n",
    "    return 100/len(A) * np.sum(2 * np.abs(F - A) / (np.abs(A) + np.abs(F)))\n",
    "\n",
    "def mae(A,F):\n",
    "    return np.mean(np.abs(A -F))"
   ]
  },
  {
   "cell_type": "code",
   "execution_count": 3,
   "metadata": {
    "colab": {},
    "colab_type": "code",
    "id": "KFeR0ta0ImYB"
   },
   "outputs": [],
   "source": [
    "def sliding_window_iter(iterable, size):\n",
    "    \"\"\"...\"\"\"\n",
    "    iterable = iter(iterable)\n",
    "    window = deque(islice(iterable, size), maxlen=size)\n",
    "    for item in iterable:\n",
    "        yield np.array(window)\n",
    "    window.append(item)\n",
    "    if window:\n",
    "    # needed because if iterable was already empty before the `for`,\n",
    "    # then the window would be yielded twice.\n",
    "        yield np.array(window)"
   ]
  },
  {
   "cell_type": "code",
   "execution_count": 4,
   "metadata": {
    "colab": {},
    "colab_type": "code",
    "id": "sO7fCYQiHiu2"
   },
   "outputs": [],
   "source": [
    "df = pd.read_csv('winProxy.csv',parse_dates=True,index_col=0)"
   ]
  },
  {
   "cell_type": "code",
   "execution_count": 5,
   "metadata": {
    "colab": {},
    "colab_type": "code",
    "id": "l6JVFE8nHnan"
   },
   "outputs": [],
   "source": [
    "#df.CPU.loc[df.CPU > 10] = 10"
   ]
  },
  {
   "cell_type": "code",
   "execution_count": 6,
   "metadata": {
    "colab": {},
    "colab_type": "code",
    "id": "UWmWjdzzHsmF"
   },
   "outputs": [],
   "source": [
    "original = df.CPU"
   ]
  },
  {
   "cell_type": "code",
   "execution_count": 7,
   "metadata": {
    "colab": {},
    "colab_type": "code",
    "id": "a1IvIMlZkCwm"
   },
   "outputs": [],
   "source": [
    "WAVELET = \"haar\"\n",
    "\n",
    "signal = df.CPU.values\n",
    "coeffs = pywt.wavedec(signal, WAVELET)\n",
    "\n",
    "coeffs[1:] = (pywt.threshold(detail,\n",
    "                             value=0.5 * np.std(detail), \n",
    "                             mode=\"soft\" ) for detail in coeffs[1:])\n",
    "reconstructed_signal = pywt.waverec(coeffs, WAVELET)\n",
    "df.CPU = reconstructed_signal[:-1]"
   ]
  },
  {
   "cell_type": "code",
   "execution_count": 8,
   "metadata": {
    "colab": {},
    "colab_type": "code",
    "id": "hp7hPYmFIojG"
   },
   "outputs": [],
   "source": [
    "time_window = 4\n",
    "\n",
    "X = []\n",
    "for row in sliding_window_iter(df.CPU.values,time_window):\n",
    "    X.append(row)\n",
    "\n",
    "X = pd.DataFrame(X[:-1])\n",
    "Y = df.CPU.iloc[time_window:]"
   ]
  },
  {
   "cell_type": "code",
   "execution_count": 9,
   "metadata": {
    "colab": {},
    "colab_type": "code",
    "id": "wop5LlC0IyKH"
   },
   "outputs": [],
   "source": [
    "X['hour'] = df.index.hour[time_window:]\n",
    "X['weekday'] = df.index.weekday[time_window:]\n",
    "X['IOBalance'] = df.IOBalance.to_numpy()[time_window:]\n",
    "X['diskwrite'] = df.diskwrite.to_numpy()[time_window:]"
   ]
  },
  {
   "cell_type": "code",
   "execution_count": 10,
   "metadata": {
    "colab": {},
    "colab_type": "code",
    "id": "ZWU9mqXgIXF7"
   },
   "outputs": [],
   "source": [
    "train_size = round(len(X) * 0.8)\n",
    "X_train = X.iloc[:train_size,:]\n",
    "Y_train = Y[:train_size]"
   ]
  },
  {
   "cell_type": "code",
   "execution_count": 11,
   "metadata": {
    "colab": {},
    "colab_type": "code",
    "id": "ZljLBCCvLVzV"
   },
   "outputs": [],
   "source": [
    "steps = len(X) - train_size#6\n",
    "X_test = X.iloc[train_size:train_size+steps,:]\n",
    "Y_test = Y[train_size:train_size+steps]"
   ]
  },
  {
   "cell_type": "code",
   "execution_count": 12,
   "metadata": {
    "colab": {},
    "colab_type": "code",
    "id": "xGCRM3nxIaZt"
   },
   "outputs": [],
   "source": [
    "model = Sequential()\n",
    "model.add(Dense(8, input_dim=8, kernel_initializer='normal', activation='relu'))\n",
    "model.add(Dense(4, kernel_initializer='normal', activation='relu'))\n",
    "model.add(Dense(1, kernel_initializer='normal'))\n",
    "#model.add(RNN(LSTMCell(4)))\n",
    "\n",
    "\n",
    "model.compile(loss='mean_squared_error',\n",
    "                optimizer='adam',\n",
    "                metrics = ['mse','mae']\n",
    "              )"
   ]
  },
  {
   "cell_type": "code",
   "execution_count": 13,
   "metadata": {
    "colab": {},
    "colab_type": "code",
    "id": "dCYJGI1vJ3fp"
   },
   "outputs": [],
   "source": [
    "history = model.fit(X_train, Y_train,\n",
    "                    epochs=300, batch_size=10,\n",
    "                    validation_split=0.2,shuffle=False,verbose=0)"
   ]
  },
  {
   "cell_type": "code",
   "execution_count": 14,
   "metadata": {
    "colab": {
     "base_uri": "https://localhost:8080/",
     "height": 265
    },
    "colab_type": "code",
    "id": "d-d1gDeDKseL",
    "outputId": "8c4ef1d8-2ea4-4a23-c9ba-3ad34a5160ae"
   },
   "outputs": [
    {
     "data": {
      "image/png": "[encoded data removed]",
      "text/plain": [
       "<Figure size 432x288 with 1 Axes>"
      ]
     },
     "metadata": {
      "needs_background": "light",
      "tags": []
     },
     "output_type": "display_data"
    }
   ],
   "source": [
    "plt.plot(history.history['loss'])\n",
    "plt.show()"
   ]
  },
  {
   "cell_type": "code",
   "execution_count": 15,
   "metadata": {
    "colab": {},
    "colab_type": "code",
    "id": "ImFnlfe8LcHB"
   },
   "outputs": [],
   "source": [
    "Y_hat = model.predict(X_test).flatten()"
   ]
  },
  {
   "cell_type": "code",
   "execution_count": 16,
   "metadata": {
    "colab": {
     "base_uri": "https://localhost:8080/",
     "height": 34
    },
    "colab_type": "code",
    "id": "cfrfEJLmLhhj",
    "outputId": "cc26ca99-2116-4a09-cb51-8c3e698e8ed2"
   },
   "outputs": [
    {
     "data": {
      "text/plain": [
       "24.70758774873226"
      ]
     },
     "execution_count": 16,
     "metadata": {
      "tags": []
     },
     "output_type": "execute_result"
    }
   ],
   "source": [
    "mape(Y_test+1,Y_hat+1)"
   ]
  },
  {
   "cell_type": "code",
   "execution_count": 17,
   "metadata": {
    "colab": {
     "base_uri": "https://localhost:8080/",
     "height": 34
    },
    "colab_type": "code",
    "id": "fExXEkDmLpYQ",
    "outputId": "777457f1-0332-477c-f8a5-3cdadc212312"
   },
   "outputs": [
    {
     "data": {
      "text/plain": [
       "24.345897567423577"
      ]
     },
     "execution_count": 17,
     "metadata": {
      "tags": []
     },
     "output_type": "execute_result"
    }
   ],
   "source": [
    "smape(Y_test+1,Y_hat+1)"
   ]
  },
  {
   "cell_type": "code",
   "execution_count": 18,
   "metadata": {
    "colab": {
     "base_uri": "https://localhost:8080/",
     "height": 34
    },
    "colab_type": "code",
    "id": "sXCg6VF2LsUr",
    "outputId": "1123f7b5-c31b-43db-86e1-f5ea9447b5ae"
   },
   "outputs": [
    {
     "data": {
      "text/plain": [
       "0.6952772738345426"
      ]
     },
     "execution_count": 18,
     "metadata": {
      "tags": []
     },
     "output_type": "execute_result"
    }
   ],
   "source": [
    "mae(Y_test+1,Y_hat+1)"
   ]
  },
  {
   "cell_type": "code",
   "execution_count": 19,
   "metadata": {
    "colab": {
     "base_uri": "https://localhost:8080/",
     "height": 266
    },
    "colab_type": "code",
    "id": "TMrVlLLJMixj",
    "outputId": "8b50d010-e33e-424e-8c5b-ae1db10b380e"
   },
   "outputs": [
    {
     "data": {
      "image/png": "[encoded data removed]",
      "text/plain": [
       "<Figure size 432x288 with 1 Axes>"
      ]
     },
     "metadata": {
      "needs_background": "light",
      "tags": []
     },
     "output_type": "display_data"
    }
   ],
   "source": [
    "#_ = plt.plot(Y_test)\n",
    "forecast = pd.Series(Y_hat)\n",
    "forecast.index = Y_test.index\n",
    "fig, ax = plt.subplots()\n",
    "#ax.set_ylim(0,10)\n",
    "ax = plt.plot(Y_test,'blue',label='Actual')\n",
    "ax = plt.plot(forecast,'red',label='Forecast')\n",
    "ax = plt.legend(loc=\"upper right\")"
   ]
  }
 ],
 "metadata": {
  "colab": {
   "collapsed_sections": [],
   "name": "FF4lags8features.ipynb",
   "provenance": []
  },
  "kernelspec": {
   "display_name": "Python 3",
   "language": "python",
   "name": "python3"
  },
  "language_info": {
   "codemirror_mode": {
    "name": "ipython",
    "version": 3
   },
   "file_extension": ".py",
   "mimetype": "text/x-python",
   "name": "python",
   "nbconvert_exporter": "python",
   "pygments_lexer": "ipython3",
   "version": "3.7.6"
  }
 },
 "nbformat": 4,
 "nbformat_minor": 4
}
