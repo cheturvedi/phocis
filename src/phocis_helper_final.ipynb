{
 "cells": [
  {
   "cell_type": "code",
   "execution_count": null,
   "metadata": {
    "colab": {
     "base_uri": "https://localhost:8080/",
     "height": 52
    },
    "colab_type": "code",
    "id": "8xfWfovKDwGt",
    "outputId": "93b04ebb-6345-4d2f-926c-ad8f436543bc"
   },
   "outputs": [
    {
     "name": "stdout",
     "output_type": "stream",
     "text": [
      "Uninstalling statsmodels-0.10.2:\n",
      "  Successfully uninstalled statsmodels-0.10.2\n"
     ]
    }
   ],
   "source": [
    "!pip uninstall statsmodels -y\n",
    "\n"
   ]
  },
  {
   "cell_type": "code",
   "execution_count": null,
   "metadata": {
    "colab": {
     "base_uri": "https://localhost:8080/",
     "height": 471
    },
    "colab_type": "code",
    "id": "eUMJajUSD4ob",
    "outputId": "716940de-d64f-43a9-d66e-b57185bfcac8"
   },
   "outputs": [
    {
     "name": "stdout",
     "output_type": "stream",
     "text": [
      "Collecting git+https://github.com/statsmodels/statsmodels\n",
      "  Cloning https://github.com/statsmodels/statsmodels to /tmp/pip-req-build-97r50rwj\n",
      "  Running command git clone -q https://github.com/statsmodels/statsmodels /tmp/pip-req-build-97r50rwj\n",
      "  Installing build dependencies ... \u001b[?25l\u001b[?25hdone\n",
      "  Getting requirements to build wheel ... \u001b[?25l\u001b[?25hdone\n",
      "    Preparing wheel metadata ... \u001b[?25l\u001b[?25hdone\n",
      "Requirement already satisfied: patsy>=0.5 in /usr/local/lib/python3.6/dist-packages (from statsmodels==0.13.0.dev0+2.g54f7c05be) (0.5.1)\n",
      "Requirement already satisfied: pandas>=0.21 in /usr/local/lib/python3.6/dist-packages (from statsmodels==0.13.0.dev0+2.g54f7c05be) (1.0.5)\n",
      "Requirement already satisfied: numpy>=1.15 in /usr/local/lib/python3.6/dist-packages (from statsmodels==0.13.0.dev0+2.g54f7c05be) (1.18.5)\n",
      "Requirement already satisfied: scipy>=1.1 in /usr/local/lib/python3.6/dist-packages (from statsmodels==0.13.0.dev0+2.g54f7c05be) (1.4.1)\n",
      "Requirement already satisfied: six in /usr/local/lib/python3.6/dist-packages (from patsy>=0.5->statsmodels==0.13.0.dev0+2.g54f7c05be) (1.15.0)\n",
      "Requirement already satisfied: python-dateutil>=2.6.1 in /usr/local/lib/python3.6/dist-packages (from pandas>=0.21->statsmodels==0.13.0.dev0+2.g54f7c05be) (2.8.1)\n",
      "Requirement already satisfied: pytz>=2017.2 in /usr/local/lib/python3.6/dist-packages (from pandas>=0.21->statsmodels==0.13.0.dev0+2.g54f7c05be) (2018.9)\n",
      "Building wheels for collected packages: statsmodels\n",
      "  Building wheel for statsmodels (PEP 517) ... \u001b[?25l\u001b[?25hdone\n",
      "  Created wheel for statsmodels: filename=statsmodels-0.13.0.dev0+2.g54f7c05be-cp36-cp36m-linux_x86_64.whl size=10325309 sha256=f85b89dfee60eae00658c8d3834bb7660b4f9a357e87d0e1aa59b4e472c5571e\n",
      "  Stored in directory: /tmp/pip-ephem-wheel-cache-_8qpee8n/wheels/7d/ad/45/ac1a03bd759c2fa74c486e2b1950d94b55f511b4c2b0418bd5\n",
      "Successfully built statsmodels\n",
      "Installing collected packages: statsmodels\n",
      "Successfully installed statsmodels-0.13.0.dev0+2.g54f7c05be\n"
     ]
    },
    {
     "data": {
      "application/vnd.colab-display-data+json": {
       "pip_warning": {
        "packages": [
         "statsmodels"
        ]
       }
      }
     },
     "metadata": {
      "tags": []
     },
     "output_type": "display_data"
    }
   ],
   "source": [
    "pip install git+https://github.com/statsmodels/statsmodels"
   ]
  },
  {
   "cell_type": "code",
   "execution_count": null,
   "metadata": {
    "colab": {
     "base_uri": "https://localhost:8080/",
     "height": 72
    },
    "colab_type": "code",
    "id": "nTp4KYxidilo",
    "outputId": "eff3ec23-b430-42df-e82b-0717a0f92c37"
   },
   "outputs": [
    {
     "name": "stderr",
     "output_type": "stream",
     "text": [
      "/usr/local/lib/python3.6/dist-packages/statsmodels/tools/_testing.py:19: FutureWarning: pandas.util.testing is deprecated. Use the functions in the public API at pandas.testing instead.\n",
      "  import pandas.util.testing as tm\n"
     ]
    }
   ],
   "source": [
    "import pandas as pd\n",
    "import numpy as np\n",
    "import matplotlib.pyplot as plt\n",
    "import statsmodels.api as sm\n",
    "import seaborn as sns\n",
    "import pywt\n",
    "\n",
    "from itertools import islice\n",
    "from collections import deque\n",
    "\n",
    "from tensorflow.python.keras.layers import Input, Dense,RNN,LSTMCell\n",
    "from tensorflow.python.keras.models import Sequential\n",
    "from tensorflow.keras.losses import mean_absolute_percentage_error,mae\n",
    "\n",
    "from statsmodels.tsa.stattools import adfuller\n",
    "from statsmodels.graphics.tsaplots import plot_acf,plot_pacf\n",
    "from statsmodels.tsa.arima_model import ARIMA\n",
    "from statsmodels.tsa import statespace\n",
    "\n",
    "from pandas.plotting import autocorrelation_plot\n",
    "\n",
    "from datetime import datetime\n",
    "from sklearn.metrics import classification_report,confusion_matrix"
   ]
  },
  {
   "cell_type": "code",
   "execution_count": null,
   "metadata": {
    "colab": {},
    "colab_type": "code",
    "id": "RS-GLJODgg0M"
   },
   "outputs": [],
   "source": [
    "def mape(y_true, y_pred):\n",
    "    return np.mean(np.abs((y_true - y_pred) / y_true)) * 100\n",
    "\n",
    "def smape(A, F):\n",
    "    return 100/len(A) * np.sum(2 * np.abs(F - A) / (np.abs(A) + np.abs(F)))\n",
    "\n",
    "def mae(A,F):\n",
    "    return np.mean(np.abs(A -F))\n",
    "\n",
    "def get_family(wave):\n",
    "  if 'bior' in wave:\n",
    "    return 'bior'\n",
    "  elif 'coif' in wave:\n",
    "    return 'coif'\n",
    "  elif 'db' in wave:\n",
    "    return 'db'\n",
    "  elif 'dmey' in wave:\n",
    "    return 'dmey'\n",
    "  elif 'rbio' in wave:\n",
    "    return 'rbio'\n",
    "  elif 'sym' in wave:\n",
    "    return 'sym'\n",
    "  else:\n",
    "    return 'haar'\n",
    "\n",
    "def denoise(original,WAVELET):\n",
    "\n",
    "  signal = original.values\n",
    "\n",
    "  coeffs = pywt.wavedec(signal, WAVELET)\n",
    "  coeffs[1:] = (pywt.threshold(detail,\n",
    "                              value=0.5 * np.std(detail), \n",
    "                              mode=\"soft\" ) for detail in coeffs[1:])\n",
    "  reconstructed_signal = pywt.waverec(coeffs, WAVELET)\n",
    "  return pd.Series(reconstructed_signal[:-1],index=original.index)\n",
    "\n",
    "\n",
    "def window(seq, n=4):\n",
    "  it = iter(seq)\n",
    "  result = tuple(islice(it, n))\n",
    "  if len(result) == n:\n",
    "    yield np.array(result)\n",
    "  for elem in it:\n",
    "    result = result[1:] + (elem,)\n",
    "    yield np.array(result)\n"
   ]
  },
  {
   "cell_type": "code",
   "execution_count": null,
   "metadata": {
    "colab": {},
    "colab_type": "code",
    "id": "qG4ZwWmHic3t"
   },
   "outputs": [],
   "source": [
    "def percentage_scaler(signal,low=0,high=100):\n",
    "  minV = np.min(signal)\n",
    "  maxV = np.max(signal)\n",
    "  denom = maxV - minV\n",
    "\n",
    "  scaled_signal = low + ((signal - minV )* (high-low)) / denom \n",
    "\n",
    "  return round(scaled_signal)\n",
    "\n",
    "def get_label(x):\n",
    "  if x == 0.0:\n",
    "    return 'ZERO'\n",
    "  if x <= SCALE_UP_WATER_MARK:\n",
    "    return 'NORMAL'\n",
    "  else :\n",
    "    return 'HIGH'"
   ]
  },
  {
   "cell_type": "code",
   "execution_count": null,
   "metadata": {
    "colab": {},
    "colab_type": "code",
    "id": "voET6z7A9n42"
   },
   "outputs": [],
   "source": [
    "SCALE_UP_WATER_MARK = 8"
   ]
  },
  {
   "cell_type": "code",
   "execution_count": null,
   "metadata": {
    "colab": {},
    "colab_type": "code",
    "id": "YwEpHrVSgmfc"
   },
   "outputs": [],
   "source": [
    "df = pd.read_csv('winProxy.csv',parse_dates=True,index_col=0)\n",
    "original = df.CPU\n",
    "df['smooth_CPU'] = denoise(original,'db38')\n",
    "\n",
    "df.diskwrite = df.diskwrite.shift(periods=1)\n",
    "df.diskwrite = df.diskwrite.fillna(0)\n",
    "#df[[\"CPU\",\"diskwrite\"]].tail()\n",
    "\n",
    "df.IOBalance = df.IOBalance.shift(periods=1)\n",
    "df.IOBalance = df.IOBalance.fillna(0)\n",
    "\n",
    "df.diskwrite /= 100"
   ]
  },
  {
   "cell_type": "code",
   "execution_count": null,
   "metadata": {
    "colab": {},
    "colab_type": "code",
    "id": "l_Iomiqs2Ylk"
   },
   "outputs": [],
   "source": [
    "#pywt.wavelist(kind='discrete')\n",
    "pass"
   ]
  },
  {
   "cell_type": "code",
   "execution_count": null,
   "metadata": {
    "colab": {
     "base_uri": "https://localhost:8080/",
     "height": 281
    },
    "colab_type": "code",
    "id": "wc-PKa4i1zuo",
    "outputId": "495c8ee9-7c9a-4d98-c8a6-bb45025c040b"
   },
   "outputs": [
    {
     "data": {
      "image/png": "[encoded data removed]",
      "text/plain": [
       "<Figure size 432x288 with 4 Axes>"
      ]
     },
     "metadata": {
      "needs_background": "light",
      "tags": []
     },
     "output_type": "display_data"
    }
   ],
   "source": [
    "fig,axs= plt.subplots(2,2)\n",
    "\n",
    "\n",
    "\n",
    "#for ele in ['coif1','sym2','db2','haar']:\n",
    "[phi,psi,x] = pywt.Wavelet('coif1').wavefun()\n",
    "axs[0,0].plot(x,psi)\n",
    "axs[0,0].set_title('Coiflet')\n",
    "axs[0,0].set_xticks([])\n",
    "[phi,psi,x] = pywt.Wavelet('sym2').wavefun()\n",
    "axs[0,1].plot(x,psi)\n",
    "axs[0,1].set_title('Symmlet')\n",
    "[phi,psi,x] = pywt.Wavelet('db38').wavefun()\n",
    "axs[1,0].plot(x,psi)\n",
    "axs[1,0].set_title('Daubechies')\n",
    "[phi,psi,x] = pywt.Wavelet('haar').wavefun()\n",
    "axs[1,1].plot(x,psi)\n",
    "axs[1,1].set_title('Haar')\n",
    "\n",
    "\n",
    "\n",
    "plt.show()"
   ]
  },
  {
   "cell_type": "code",
   "execution_count": null,
   "metadata": {
    "colab": {
     "base_uri": "https://localhost:8080/",
     "height": 279
    },
    "colab_type": "code",
    "id": "4JgJKYGBrDsv",
    "outputId": "e8ce3263-f97b-425d-a598-e8a88bf4b635"
   },
   "outputs": [
    {
     "data": {
      "image/png": "[encoded data removed]",
      "text/plain": [
       "<Figure size 432x288 with 1 Axes>"
      ]
     },
     "metadata": {
      "needs_background": "light",
      "tags": []
     },
     "output_type": "display_data"
    }
   ],
   "source": [
    "#time_index = pd.date_range(start='2020-06-01T00:00:00',end='2020-07-16T00:00:00',freq='5T')\n",
    "#df.index = time_index\n",
    "\n",
    "ax = df.CPU.hist(bins=20,range=(0,20))\n",
    "ax.set_xlabel('CPU %')\n",
    "ax.set_ylabel('Count')\n",
    "plt.show()"
   ]
  },
  {
   "cell_type": "code",
   "execution_count": null,
   "metadata": {
    "colab": {},
    "colab_type": "code",
    "id": "5HYJ6-tELzk0"
   },
   "outputs": [],
   "source": [
    "#adfuller(df.CPU)\n",
    "pass"
   ]
  },
  {
   "cell_type": "code",
   "execution_count": null,
   "metadata": {
    "colab": {},
    "colab_type": "code",
    "id": "DPfW6QEWVzyD"
   },
   "outputs": [],
   "source": [
    "#df.CPU.plot()\n",
    "pass"
   ]
  },
  {
   "cell_type": "markdown",
   "metadata": {
    "colab_type": "text",
    "id": "Rs6NVFzrsXaw"
   },
   "source": [
    "# RW"
   ]
  },
  {
   "cell_type": "code",
   "execution_count": null,
   "metadata": {
    "colab": {},
    "colab_type": "code",
    "id": "CK1S-pBiS_vr"
   },
   "outputs": [],
   "source": [
    "train_size = round(len(df) * 0.8)\n",
    "\n",
    "Y_test = original[train_size:].values\n",
    "\n",
    "rw_forecast = ((original[train_size-1:]).shift(1)[1:]).values"
   ]
  },
  {
   "cell_type": "code",
   "execution_count": null,
   "metadata": {
    "colab": {},
    "colab_type": "code",
    "id": "2_sxEkHuLdyA"
   },
   "outputs": [],
   "source": [
    "damp_forecast = np.minimum(SCALE_UP_WATER_MARK+0.01, rw_forecast)"
   ]
  },
  {
   "cell_type": "code",
   "execution_count": null,
   "metadata": {
    "colab": {
     "base_uri": "https://localhost:8080/",
     "height": 69
    },
    "colab_type": "code",
    "id": "k6fihhpOsS4E",
    "outputId": "d4516dc8-1bfb-4ec3-f7d4-777c97fe1b9a"
   },
   "outputs": [
    {
     "name": "stdout",
     "output_type": "stream",
     "text": [
      "MAPE :  6.67908647322508\n",
      "SMAPE :  4.328813232318384\n",
      "MAE :  0.3488425925925926\n"
     ]
    }
   ],
   "source": [
    "print(\"MAPE : \",mape(Y_test+1,rw_forecast+1))\n",
    "print(\"SMAPE : \",smape(Y_test+1,rw_forecast+1))\n",
    "print(\"MAE : \",mae(Y_test+1,rw_forecast+1))"
   ]
  },
  {
   "cell_type": "code",
   "execution_count": null,
   "metadata": {
    "colab": {
     "base_uri": "https://localhost:8080/",
     "height": 69
    },
    "colab_type": "code",
    "id": "kMHC2YQRLpKJ",
    "outputId": "00a6d949-9064-407d-d46f-cd1e82b037f6"
   },
   "outputs": [
    {
     "name": "stdout",
     "output_type": "stream",
     "text": [
      "MAPE :  5.248347961165183\n",
      "SMAPE :  4.080338640982604\n",
      "MAE :  0.2833500514402006\n"
     ]
    }
   ],
   "source": [
    "print(\"MAPE : \",mape(Y_test+1,damp_forecast+1))\n",
    "print(\"SMAPE : \",smape(Y_test+1,damp_forecast+1))\n",
    "print(\"MAE : \",mae(Y_test+1,damp_forecast+1))"
   ]
  },
  {
   "cell_type": "code",
   "execution_count": null,
   "metadata": {
    "colab": {
     "base_uri": "https://localhost:8080/",
     "height": 243
    },
    "colab_type": "code",
    "id": "is4FOx0osmJC",
    "outputId": "dfca8e1f-9c32-4ec6-baac-7d10e437fe40"
   },
   "outputs": [
    {
     "name": "stdout",
     "output_type": "stream",
     "text": [
      "              precision    recall  f1-score   support\n",
      "\n",
      "        HIGH       0.30      0.30      0.30        27\n",
      "      NORMAL       0.97      0.97      0.97       748\n",
      "        ZERO       1.00      0.99      0.99      1817\n",
      "\n",
      "    accuracy                           0.98      2592\n",
      "   macro avg       0.75      0.75      0.75      2592\n",
      "weighted avg       0.98      0.98      0.98      2592\n",
      "\n"
     ]
    },
    {
     "data": {
      "text/plain": [
       "array([[   8,   13,    6],\n",
       "       [  19,  726,    3],\n",
       "       [   0,   10, 1807]])"
      ]
     },
     "execution_count": 41,
     "metadata": {
      "tags": []
     },
     "output_type": "execute_result"
    }
   ],
   "source": [
    "Y_test_labels = [get_label(x) for x in Y_test]\n",
    "rw_test_labels = [get_label(x) for x in rw_forecast]\n",
    "\n",
    "print(classification_report(Y_test_labels,rw_test_labels))\n",
    "confusion_matrix(Y_test_labels,rw_test_labels)"
   ]
  },
  {
   "cell_type": "code",
   "execution_count": null,
   "metadata": {
    "colab": {
     "base_uri": "https://localhost:8080/",
     "height": 243
    },
    "colab_type": "code",
    "id": "MM8PChveMTDm",
    "outputId": "afa52a12-2412-431a-9d38-7ca86f388308"
   },
   "outputs": [
    {
     "name": "stdout",
     "output_type": "stream",
     "text": [
      "              precision    recall  f1-score   support\n",
      "\n",
      "        HIGH       0.30      0.30      0.30        27\n",
      "      NORMAL       0.97      0.97      0.97       748\n",
      "        ZERO       1.00      0.99      0.99      1817\n",
      "\n",
      "    accuracy                           0.98      2592\n",
      "   macro avg       0.75      0.75      0.75      2592\n",
      "weighted avg       0.98      0.98      0.98      2592\n",
      "\n"
     ]
    },
    {
     "data": {
      "text/plain": [
       "array([[   8,   13,    6],\n",
       "       [  19,  726,    3],\n",
       "       [   0,   10, 1807]])"
      ]
     },
     "execution_count": 42,
     "metadata": {
      "tags": []
     },
     "output_type": "execute_result"
    }
   ],
   "source": [
    "Y_test_labels = [get_label(x) for x in Y_test]\n",
    "damp_labels = [get_label(x) for x in damp_forecast]\n",
    "\n",
    "print(classification_report(Y_test_labels,damp_labels))\n",
    "confusion_matrix(Y_test_labels,damp_labels)"
   ]
  },
  {
   "cell_type": "markdown",
   "metadata": {
    "colab_type": "text",
    "id": "qIZU6K83tmQB"
   },
   "source": [
    "# AR"
   ]
  },
  {
   "cell_type": "code",
   "execution_count": null,
   "metadata": {
    "colab": {},
    "colab_type": "code",
    "id": "6hXbVW_9zg4B"
   },
   "outputs": [],
   "source": [
    "'''ma_forecast = []\n",
    "training_endog = df.CPU[:train_size]\n",
    "mod = sm.tsa.statespace.SARIMAX(df.CPU[:train_size], \n",
    "                          order=(4,0,0),freq='5T')\n",
    "                          #exog = train.diskwrite.values  )\n",
    "                          #seasonal_order=(0,1,6,288))\n",
    "res = mod.fit()\n",
    "ma_forecast.append(res.forecast(1)[0])'''\n",
    "\n",
    "'''window_size = 4\n",
    "MA = []\n",
    "for row in window(original[train_size-4:-1],window_size):\n",
    "    MA.append(row)\n",
    "\n",
    "#print(MA[-1])\n",
    "ma_forecast = pd.Series([np.mean(x) for x in MA])'''\n",
    "\n",
    "pass"
   ]
  },
  {
   "cell_type": "code",
   "execution_count": null,
   "metadata": {
    "colab": {},
    "colab_type": "code",
    "id": "Lk388_KnHaPf"
   },
   "outputs": [],
   "source": [
    "ar_forecast = []\n",
    "training_endog = df.CPU.values[:train_size]\n",
    "mod = sm.tsa.statespace.SARIMAX(training_endog, \n",
    "                          order=(3,0,0))\n",
    "\n",
    "res = mod.fit()\n",
    "val = np.maximum(0,res.forecast()[0])\n",
    "ar_forecast.append(round(val))\n",
    "\n",
    "\n",
    "for i in range(0,len(df)-train_size):\n",
    "  res = res.extend(df.CPU.values[train_size+i:train_size+i+1])\n",
    "  val = np.maximum(0,res.forecast()[0])\n",
    "  ar_forecast.append(round(val))\n",
    "\n",
    "ar_forecast = np.array(ar_forecast)[:-1]\n",
    "\n",
    "print(\"MAPE : \",mape(Y_test+1,ar_forecast+1))\n",
    "print(\"SMAPE : \",smape(Y_test+1,ar_forecast+1))\n",
    "print(\"MAE : \",mae(Y_test+1,ar_forecast+1))\n",
    "\n"
   ]
  },
  {
   "cell_type": "code",
   "execution_count": null,
   "metadata": {
    "colab": {
     "base_uri": "https://localhost:8080/",
     "height": 243
    },
    "colab_type": "code",
    "id": "kL_tDOQuD0PM",
    "outputId": "d2b0a6b2-1729-4b30-a5da-113efd84d900"
   },
   "outputs": [
    {
     "name": "stdout",
     "output_type": "stream",
     "text": [
      "              precision    recall  f1-score   support\n",
      "\n",
      "        HIGH       0.33      0.22      0.27        27\n",
      "     OPTIMAL       0.95      0.98      0.96       748\n",
      "        ZERO       0.99      0.99      0.99      1817\n",
      "\n",
      "    accuracy                           0.98      2592\n",
      "   macro avg       0.76      0.73      0.74      2592\n",
      "weighted avg       0.97      0.98      0.97      2592\n",
      "\n"
     ]
    },
    {
     "data": {
      "text/plain": [
       "array([[   6,   15,    6],\n",
       "       [  12,  733,    3],\n",
       "       [   0,   27, 1790]])"
      ]
     },
     "execution_count": 100,
     "metadata": {
      "tags": []
     },
     "output_type": "execute_result"
    }
   ],
   "source": [
    "ar_test_labels = [get_label(x) for x in ar_forecast]\n",
    "\n",
    "print(classification_report(Y_test_labels,ar_test_labels))\n",
    "confusion_matrix(Y_test_labels,ar_test_labels)"
   ]
  },
  {
   "cell_type": "markdown",
   "metadata": {
    "colab_type": "text",
    "id": "eWMf9wwgvXdE"
   },
   "source": [
    "# ANN"
   ]
  },
  {
   "cell_type": "code",
   "execution_count": null,
   "metadata": {
    "colab": {},
    "colab_type": "code",
    "id": "NfH-8bTgvaCd"
   },
   "outputs": [],
   "source": [
    "time_window = 4\n",
    "input_dims = 6\n",
    "X = []\n",
    "for row in window(df.CPU.values,time_window):\n",
    "    X.append(row)\n",
    "\n",
    "X = pd.DataFrame(X[:-1])\n",
    "X.index = df.index[time_window:]\n",
    "Y = df.CPU.iloc[time_window:]\n",
    "\n",
    "\n",
    "#X['hour'] = df.index.hour[time_window:]\n",
    "#X['weekday'] = df.index.weekday[time_window:]\n",
    "X['IOBalance'] = df.IOBalance.to_numpy()[time_window:]\n",
    "X['diskwrite'] = df.diskwrite.to_numpy()[time_window:]"
   ]
  },
  {
   "cell_type": "code",
   "execution_count": null,
   "metadata": {
    "colab": {},
    "colab_type": "code",
    "id": "7t7_-phVvfTe"
   },
   "outputs": [],
   "source": [
    "X_train = X.iloc[:train_size,:]\n",
    "Y_train = Y[:train_size]"
   ]
  },
  {
   "cell_type": "code",
   "execution_count": null,
   "metadata": {
    "colab": {},
    "colab_type": "code",
    "id": "flTw1-ZnvikF"
   },
   "outputs": [],
   "source": [
    "#np.random.seed(42)\n",
    "activation_fn = 'relu'\n",
    "\n",
    "model = Sequential()\n",
    "model.add(Dense(8, input_dim=input_dims,  activation=activation_fn))\n",
    "model.add(Dense(4, activation=activation_fn))\n",
    "model.add(Dense(1 ))\n",
    "\n",
    "model.compile(loss='mae',\n",
    "                optimizer='adam',\n",
    "                metrics = ['mae']\n",
    "              )"
   ]
  },
  {
   "cell_type": "code",
   "execution_count": null,
   "metadata": {
    "colab": {},
    "colab_type": "code",
    "id": "IQO0srZRvlqU"
   },
   "outputs": [],
   "source": [
    "history = model.fit(X_train, Y_train,\n",
    "                    epochs=50, batch_size=32,\n",
    "                    validation_split=0.2,shuffle=False,verbose=0)"
   ]
  },
  {
   "cell_type": "code",
   "execution_count": null,
   "metadata": {
    "colab": {},
    "colab_type": "code",
    "id": "MRf-Yd79-7t2"
   },
   "outputs": [],
   "source": [
    "'''plt.plot(history.history['val_loss'])\n",
    "plt.plot(history.history['mae'])\n",
    "plt.show()'''\n",
    "\n",
    "pass"
   ]
  },
  {
   "cell_type": "code",
   "execution_count": null,
   "metadata": {
    "colab": {},
    "colab_type": "code",
    "id": "PsOenhxdIY5W"
   },
   "outputs": [],
   "source": [
    "'''train_forecast = model.predict(X_train).flatten()\n",
    "mae(Y_train,train_forecast)'''\n",
    "pass"
   ]
  },
  {
   "cell_type": "code",
   "execution_count": null,
   "metadata": {
    "colab": {
     "base_uri": "https://localhost:8080/",
     "height": 69
    },
    "colab_type": "code",
    "id": "KNVZy4hDwMBB",
    "outputId": "18ed87aa-cc48-4cd1-cc1d-7166fdde7fc8"
   },
   "outputs": [
    {
     "name": "stdout",
     "output_type": "stream",
     "text": [
      "MAPE :  5.588379823680037\n",
      "SMAPE :  4.6308591259158565\n",
      "MAE :  0.31621639873712293\n"
     ]
    }
   ],
   "source": [
    "X_test = X[train_size-4:]\n",
    "\n",
    "ann_forecast = model.predict(X_test).flatten()\n",
    "print(\"MAPE : \",mape(Y_test+1,ann_forecast+1))\n",
    "print(\"SMAPE : \",smape(Y_test+1,ann_forecast+1))\n",
    "print(\"MAE : \",mae(Y_test+1,ann_forecast+1))"
   ]
  },
  {
   "cell_type": "code",
   "execution_count": null,
   "metadata": {
    "colab": {},
    "colab_type": "code",
    "id": "hcbjsjPSNgpG"
   },
   "outputs": [],
   "source": [
    "'''Watermark =8\n",
    "print(\"Total usage under water mark\", (Y_test < Watermark).sum())\n",
    "print(\"Usage under water mark according to RW:\",((Y_test < Watermark) & (rw_forecast < Watermark) ).sum())\n",
    "print(\"Usage under water mark according to ANN:\",((Y_test < Watermark) & (ann_forecast < Watermark) ).sum())\n",
    "print(\"Usage under water mark according to AR:\",((Y_test < Watermark) & (ar_forecast < Watermark) ).sum())\n",
    "\n",
    "print(\"Total usage under water mark\", (Y_test < Watermark).sum())\n",
    "print(\"Usage not under water mark according to RW:\",((Y_test < Watermark) & ~(rw_forecast < Watermark) ).sum())\n",
    "print(\"Usage not under water mark according to ANN:\",((Y_test < Watermark) & ~(ann_forecast < Watermark) ).sum())\n",
    "print(\"Usage not under water mark according to AR:\",((Y_test < Watermark) & ~(ar_forecast < Watermark) ).sum())'''\n",
    "pass"
   ]
  },
  {
   "cell_type": "code",
   "execution_count": null,
   "metadata": {
    "colab": {
     "base_uri": "https://localhost:8080/",
     "height": 243
    },
    "colab_type": "code",
    "id": "PB-vAeY8xbo_",
    "outputId": "4b4244ce-05b8-48e1-eb25-c38435c115d3"
   },
   "outputs": [
    {
     "name": "stdout",
     "output_type": "stream",
     "text": [
      "              precision    recall  f1-score   support\n",
      "\n",
      "        HIGH       0.42      0.19      0.26        27\n",
      "      NORMAL       0.97      0.99      0.98       748\n",
      "        ZERO       1.00      0.99      0.99      1817\n",
      "\n",
      "    accuracy                           0.98      2592\n",
      "   macro avg       0.79      0.72      0.74      2592\n",
      "weighted avg       0.98      0.98      0.98      2592\n",
      "\n"
     ]
    },
    {
     "data": {
      "text/plain": [
       "array([[   5,   16,    6],\n",
       "       [   7,  738,    3],\n",
       "       [   0,   10, 1807]])"
      ]
     },
     "execution_count": 43,
     "metadata": {
      "tags": []
     },
     "output_type": "execute_result"
    }
   ],
   "source": [
    "ann_test_labels = [get_label(round(x)) for x in ann_forecast]\n",
    "\n",
    "print(classification_report(Y_test_labels,ann_test_labels))\n",
    "confusion_matrix(Y_test_labels,ann_test_labels)"
   ]
  },
  {
   "cell_type": "markdown",
   "metadata": {
    "colab_type": "text",
    "id": "GHRqf6858tAs"
   },
   "source": [
    "# Visualizations"
   ]
  },
  {
   "cell_type": "code",
   "execution_count": null,
   "metadata": {
    "colab": {
     "base_uri": "https://localhost:8080/",
     "height": 265
    },
    "colab_type": "code",
    "id": "9yCAJf-Q8tAy",
    "outputId": "db65a067-38ac-48b5-f126-d17e1ba77a3d"
   },
   "outputs": [
    {
     "data": {
      "image/png": "[encoded data removed]",
      "text/plain": [
       "<Figure size 432x288 with 1 Axes>"
      ]
     },
     "metadata": {
      "needs_background": "light",
      "tags": []
     },
     "output_type": "display_data"
    }
   ],
   "source": [
    "test_index = original[train_size:].index\n",
    "\n",
    "labs = ['12:00','12:30','13:00','13:30','14:00','14:30','15:00','15:30','16:00']\n",
    "fig,ax = plt.subplots()\n",
    "ax.set_xticklabels(labs)\n",
    "ax.set_ylim(0,15)\n",
    "#ax.set_yticklabels([0,5,10,15])\n",
    "\n",
    "# imp: 0,50 200,250 300,350 750,800 870,900 1250,1300 1570,1620 1860,1930\n",
    "start = 1860\n",
    "end = 1930\n",
    "_ = ax.plot(pd.Series(Y_test[start:end],index = test_index[start:end]),linewidth=2.5,label='Test CPU',alpha=0.7)\n",
    "#_ = ax.axhline(y=SCALE_UP_WATER_MARK, linewidth=0.5,label='Watermark')\n",
    "_ = ax.plot(pd.Series(rw_forecast[start:end],index = test_index[start:end]),linewidth=2,alpha = 0.5,linestyle='dotted',label = 'Random Walk')\n",
    "#_ = ax.plot(pd.Series(arima_forecast[start:end] ,index = test_index[start:end]),linewidth=1.5,linestyle='dashed',label = 'Exog ARIMA (3,1,6) ')\n",
    "_ = ax.plot(pd.Series(damp_forecast[start:end] ,index = test_index[start:end]),linewidth=1.5,linestyle='dotted',label = 'Damped Random Walk')\n",
    "_ = ax.plot(pd.Series(ann_forecast[start:end] ,index = test_index[start:end]),linewidth=2,alpha=0.5, label = 'ANN (4 lags)')\n",
    "\n",
    "plt.legend()#loc='upper left'\n",
    "\n",
    "plt.show()"
   ]
  },
  {
   "cell_type": "code",
   "execution_count": null,
   "metadata": {
    "colab": {
     "base_uri": "https://localhost:8080/",
     "height": 265
    },
    "colab_type": "code",
    "id": "ebBVuK6l2C5D",
    "outputId": "28a68220-9f1c-422d-dff5-b695733691a2"
   },
   "outputs": [
    {
     "data": {
      "image/png": "[encoded data removed]",
      "text/plain": [
       "<Figure size 432x288 with 1 Axes>"
      ]
     },
     "metadata": {
      "needs_background": "light",
      "tags": []
     },
     "output_type": "display_data"
    }
   ],
   "source": [
    "test_index = original[train_size:].index\n",
    "\n",
    "labs = ['12:00','12:30','13:00','13:30','14:00','14:30','15:00','15:30','16:00']\n",
    "fig,ax = plt.subplots()\n",
    "ax.set_xticklabels(labs)\n",
    "ax.set_ylim(0,15)\n",
    "start = 1860\n",
    "end = 1930\n",
    "#_ = ax.plot(pd.Series(Y_test[start:end],index = test_index[start:end]),linewidth=2.5,label='Test CPU',alpha=0.7)\n",
    "_ = ax.plot(test_index[start:end],Y_test[start:end], label='Test CPU',linewidth=2.5,alpha=0.7)\n",
    "_ = ax.plot(test_index[start:end],rw_forecast[start:end],'.-', label='Random Walk',alpha=0.5)\n",
    "_ = ax.plot(test_index[start:end],damp_forecast[start:end],'s-', label='Damped Random Walk',alpha=0.4)\n",
    "_ = ax.plot(test_index[start:end],ann_forecast[start:end],'d-', label='Proposed ANN',alpha=0.4)\n",
    "plt.legend()#loc='upper left'\n",
    "\n",
    "plt.show()"
   ]
  },
  {
   "cell_type": "code",
   "execution_count": null,
   "metadata": {
    "colab": {
     "base_uri": "https://localhost:8080/",
     "height": 35
    },
    "colab_type": "code",
    "id": "8GUrzGjA7ZG1",
    "outputId": "91433643-868b-431a-a6ba-933fd984064d"
   },
   "outputs": [
    {
     "data": {
      "text/plain": [
       "0.005401234567901234"
      ]
     },
     "execution_count": 88,
     "metadata": {
      "tags": []
     },
     "output_type": "execute_result"
    }
   ],
   "source": [
    "np.range(ann_forecast)"
   ]
  },
  {
   "cell_type": "markdown",
   "metadata": {
    "colab_type": "text",
    "id": "eANGOQKXCi3J"
   },
   "source": [
    "# Classification report"
   ]
  },
  {
   "cell_type": "code",
   "execution_count": null,
   "metadata": {
    "colab": {
     "base_uri": "https://localhost:8080/",
     "height": 265
    },
    "colab_type": "code",
    "id": "Pdwjet6ICmdG",
    "outputId": "bf333dbd-3ea3-44f8-ec08-006678578f09"
   },
   "outputs": [
    {
     "data": {
      "image/png": "[encoded data removed]",
      "text/plain": [
       "<Figure size 432x288 with 2 Axes>"
      ]
     },
     "metadata": {
      "needs_background": "light",
      "tags": []
     },
     "output_type": "display_data"
    }
   ],
   "source": [
    "ann_report = classification_report(Y_test_labels,ann_test_labels,\n",
    "                                   output_dict=True)\n",
    "\n",
    "sns.heatmap(pd.DataFrame(ann_report).iloc[:-1, :].T, annot=True)\n",
    "\n",
    "plt.show()"
   ]
  },
  {
   "cell_type": "code",
   "execution_count": null,
   "metadata": {
    "colab": {
     "base_uri": "https://localhost:8080/",
     "height": 265
    },
    "colab_type": "code",
    "id": "eEP7YZXuFi_F",
    "outputId": "194bfcb7-9855-48b7-9450-41b5a71b034d"
   },
   "outputs": [
    {
     "data": {
      "image/png": "[encoded data removed]",
      "text/plain": [
       "<Figure size 432x288 with 2 Axes>"
      ]
     },
     "metadata": {
      "needs_background": "light",
      "tags": []
     },
     "output_type": "display_data"
    }
   ],
   "source": [
    "ar_report = classification_report(Y_test_labels,ar_test_labels,\n",
    "                                   output_dict=True)\n",
    "\n",
    "sns.heatmap(pd.DataFrame(ar_report).iloc[:-1, :].T, annot=True)\n",
    "\n",
    "plt.show()"
   ]
  },
  {
   "cell_type": "code",
   "execution_count": null,
   "metadata": {
    "colab": {
     "base_uri": "https://localhost:8080/",
     "height": 265
    },
    "colab_type": "code",
    "id": "8NEcEiSQFy_g",
    "outputId": "b8e1d23d-50d2-44cf-88e7-ed474464d642"
   },
   "outputs": [
    {
     "data": {
      "image/png": "[encoded data removed]",
      "text/plain": [
       "<Figure size 432x288 with 2 Axes>"
      ]
     },
     "metadata": {
      "needs_background": "light",
      "tags": []
     },
     "output_type": "display_data"
    }
   ],
   "source": [
    "rw_report = classification_report(Y_test_labels,rw_test_labels,\n",
    "                                   output_dict=True)\n",
    "\n",
    "sns.heatmap(pd.DataFrame(rw_report).iloc[:-1, :].T, annot=True)\n",
    "\n",
    "plt.show()"
   ]
  },
  {
   "cell_type": "markdown",
   "metadata": {
    "colab_type": "text",
    "id": "l0YWfcW-g7UZ"
   },
   "source": [
    "# CPU signal vs smoothed signal"
   ]
  },
  {
   "cell_type": "code",
   "execution_count": null,
   "metadata": {
    "colab": {},
    "colab_type": "code",
    "id": "LScyGondgzW1"
   },
   "outputs": [],
   "source": [
    "sample_start_date = '2020-06-18T11:30:00'\n",
    "sample_end_date = '2020-06-18T17:00:00'\n",
    "\n",
    "\n",
    "sample_set = (original.index > np.datetime64(sample_start_date)) & (original.index < np.datetime64(sample_end_date))\n",
    "sample_index = original.index[sample_set]"
   ]
  },
  {
   "cell_type": "code",
   "execution_count": null,
   "metadata": {
    "colab": {},
    "colab_type": "code",
    "id": "C_vJG6dojRRa"
   },
   "outputs": [],
   "source": [
    "scaled_diskwrite = percentage_scaler(df.diskwrite)\n",
    "scaled_diskread = percentage_scaler(df.diskread)"
   ]
  },
  {
   "cell_type": "code",
   "execution_count": null,
   "metadata": {
    "colab": {},
    "colab_type": "code",
    "id": "LVsN2h5lhhAs"
   },
   "outputs": [],
   "source": [
    "original_sample = original[sample_set]\n",
    "smoothed_sample = df['smooth_CPU'][sample_set]"
   ]
  },
  {
   "cell_type": "code",
   "execution_count": null,
   "metadata": {
    "colab": {
     "base_uri": "https://localhost:8080/",
     "height": 252
    },
    "colab_type": "code",
    "id": "5gURfnzbhC_G",
    "outputId": "afbd42f4-fd3b-4e23-b79e-6fdc41de921a"
   },
   "outputs": [
    {
     "data": {
      "image/png": "[encoded data removed]",
      "text/plain": [
       "<Figure size 432x288 with 1 Axes>"
      ]
     },
     "metadata": {
      "needs_background": "light",
      "tags": []
     },
     "output_type": "display_data"
    }
   ],
   "source": [
    "fig,ax = plt.subplots()\n",
    "\n",
    "_ = ax.plot(pd.Series(original_sample,index = sample_index),linewidth=2,label='Original CPU',alpha=0.5)\n",
    "_ = ax.plot(pd.Series(smoothed_sample ,index = sample_index),linewidth=2.5,alpha=0.7, label = 'Smoothed CPU')\n",
    "ax.set_xticks([])\n",
    "plt.legend(loc='upper right')\n",
    "\n",
    "plt.show()"
   ]
  },
  {
   "cell_type": "markdown",
   "metadata": {
    "colab_type": "text",
    "id": "BQuOyV1Mlxop"
   },
   "source": [
    "# CPU vs Diskwrites"
   ]
  },
  {
   "cell_type": "code",
   "execution_count": null,
   "metadata": {
    "colab": {},
    "colab_type": "code",
    "id": "i3iobrQsl4xE"
   },
   "outputs": [],
   "source": [
    "sample_writes = df.diskwrite[sample_set]"
   ]
  },
  {
   "cell_type": "code",
   "execution_count": null,
   "metadata": {
    "colab": {
     "base_uri": "https://localhost:8080/",
     "height": 252
    },
    "colab_type": "code",
    "id": "ljcH1YoBmDXi",
    "outputId": "e24bdfd4-0084-46cf-964c-ab1e79d7a298"
   },
   "outputs": [
    {
     "data": {
      "image/png": "[encoded data removed]",
      "text/plain": [
       "<Figure size 432x288 with 1 Axes>"
      ]
     },
     "metadata": {
      "needs_background": "light",
      "tags": []
     },
     "output_type": "display_data"
    }
   ],
   "source": [
    "fig,ax = plt.subplots()\n",
    "\n",
    "_ = ax.plot(pd.Series(original_sample,index = sample_index),linewidth=2.5,label='Original CPU',alpha=0.7)\n",
    "_ = ax.plot(pd.Series(sample_writes ,index = sample_index),linewidth=2,alpha=0.7, label = 'Scaled disk writes')\n",
    "ax.set_xticks([])\n",
    "\n",
    "plt.legend(loc='upper right')\n",
    "\n",
    "plt.show()"
   ]
  },
  {
   "cell_type": "markdown",
   "metadata": {
    "colab_type": "text",
    "id": "6GhoSNbomV-h"
   },
   "source": [
    "# CPU vs disk read"
   ]
  },
  {
   "cell_type": "code",
   "execution_count": null,
   "metadata": {
    "colab": {},
    "colab_type": "code",
    "id": "swzZK11Cmcu_"
   },
   "outputs": [],
   "source": [
    "sample_reads = df.diskread[sample_set]"
   ]
  },
  {
   "cell_type": "code",
   "execution_count": null,
   "metadata": {
    "colab": {
     "base_uri": "https://localhost:8080/",
     "height": 265
    },
    "colab_type": "code",
    "id": "GPofgObomh5j",
    "outputId": "49de23e1-596d-45ad-e434-ab0b583bb43e"
   },
   "outputs": [
    {
     "data": {
      "image/png": "[encoded data removed]",
      "text/plain": [
       "<Figure size 432x288 with 1 Axes>"
      ]
     },
     "metadata": {
      "needs_background": "light",
      "tags": []
     },
     "output_type": "display_data"
    }
   ],
   "source": [
    "fig,ax = plt.subplots()\n",
    "\n",
    "_ = ax.plot(pd.Series(original_sample,index = sample_index),linewidth=2.5,label='Original CPU',alpha=0.7)\n",
    "_ = ax.plot(pd.Series(sample_writes ,index = sample_index),linewidth=2,alpha=0.7, label = 'Scaled disk reads')\n",
    "\n",
    "plt.legend(loc='upper right')\n",
    "\n",
    "plt.show()"
   ]
  }
 ],
 "metadata": {
  "colab": {
   "collapsed_sections": [],
   "name": "phocis-helper.ipynb",
   "provenance": [],
   "toc_visible": true
  },
  "kernelspec": {
   "display_name": "Python 3",
   "language": "python",
   "name": "python3"
  },
  "language_info": {
   "codemirror_mode": {
    "name": "ipython",
    "version": 3
   },
   "file_extension": ".py",
   "mimetype": "text/x-python",
   "name": "python",
   "nbconvert_exporter": "python",
   "pygments_lexer": "ipython3",
   "version": "3.7.6"
  }
 },
 "nbformat": 4,
 "nbformat_minor": 4
}
