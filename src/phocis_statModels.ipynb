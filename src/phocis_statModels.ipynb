{
  "nbformat": 4,
  "nbformat_minor": 0,
  "metadata": {
    "colab": {
      "name": "phocis-linearModels.ipynb",
      "provenance": [],
      "collapsed_sections": [],
      "toc_visible": true
    },
    "kernelspec": {
      "name": "python3",
      "display_name": "Python 3"
    }
  },
  "cells": [
    {
      "cell_type": "code",
      "metadata": {
        "id": "v6QMGZ1Vf2tx",
        "colab_type": "code",
        "colab": {
          "base_uri": "https://localhost:8080/",
          "height": 52
        },
        "outputId": "418538b1-ee26-468e-df14-85c86e9d1204"
      },
      "source": [
        "!pip uninstall statsmodels -y\n"
      ],
      "execution_count": null,
      "outputs": [
        {
          "output_type": "stream",
          "text": [
            "Uninstalling statsmodels-0.10.2:\n",
            "  Successfully uninstalled statsmodels-0.10.2\n"
          ],
          "name": "stdout"
        }
      ]
    },
    {
      "cell_type": "code",
      "metadata": {
        "id": "Mamwht5Wf_8c",
        "colab_type": "code",
        "colab": {
          "base_uri": "https://localhost:8080/",
          "height": 384
        },
        "outputId": "da7b3893-4070-4381-c710-71457486fb46"
      },
      "source": [
        "pip install git+https://github.com/statsmodels/statsmodels"
      ],
      "execution_count": null,
      "outputs": [
        {
          "output_type": "stream",
          "text": [
            "Collecting git+https://github.com/statsmodels/statsmodels\n",
            "  Cloning https://github.com/statsmodels/statsmodels to /tmp/pip-req-build-bmiytwqx\n",
            "  Running command git clone -q https://github.com/statsmodels/statsmodels /tmp/pip-req-build-bmiytwqx\n",
            "  Installing build dependencies ... \u001b[?25l\u001b[?25hdone\n",
            "  Getting requirements to build wheel ... \u001b[?25l\u001b[?25hdone\n",
            "    Preparing wheel metadata ... \u001b[?25l\u001b[?25hdone\n",
            "Requirement already satisfied: pandas>=0.21 in /usr/local/lib/python3.6/dist-packages (from statsmodels==0.13.0.dev0+2.g54f7c05be) (1.0.5)\n",
            "Requirement already satisfied: numpy>=1.15 in /usr/local/lib/python3.6/dist-packages (from statsmodels==0.13.0.dev0+2.g54f7c05be) (1.18.5)\n",
            "Requirement already satisfied: patsy>=0.5 in /usr/local/lib/python3.6/dist-packages (from statsmodels==0.13.0.dev0+2.g54f7c05be) (0.5.1)\n",
            "Requirement already satisfied: scipy>=1.1 in /usr/local/lib/python3.6/dist-packages (from statsmodels==0.13.0.dev0+2.g54f7c05be) (1.4.1)\n",
            "Requirement already satisfied: pytz>=2017.2 in /usr/local/lib/python3.6/dist-packages (from pandas>=0.21->statsmodels==0.13.0.dev0+2.g54f7c05be) (2018.9)\n",
            "Requirement already satisfied: python-dateutil>=2.6.1 in /usr/local/lib/python3.6/dist-packages (from pandas>=0.21->statsmodels==0.13.0.dev0+2.g54f7c05be) (2.8.1)\n",
            "Requirement already satisfied: six in /usr/local/lib/python3.6/dist-packages (from patsy>=0.5->statsmodels==0.13.0.dev0+2.g54f7c05be) (1.15.0)\n",
            "Building wheels for collected packages: statsmodels\n",
            "  Building wheel for statsmodels (PEP 517) ... \u001b[?25l\u001b[?25hdone\n",
            "  Created wheel for statsmodels: filename=statsmodels-0.13.0.dev0+2.g54f7c05be-cp36-cp36m-linux_x86_64.whl size=10325309 sha256=d15dc73d9493f7a67cdd6db9968b4a006dc2bafb213eec9cf831f9c736e47a84\n",
            "  Stored in directory: /tmp/pip-ephem-wheel-cache-rti0xck4/wheels/7d/ad/45/ac1a03bd759c2fa74c486e2b1950d94b55f511b4c2b0418bd5\n",
            "Successfully built statsmodels\n",
            "Installing collected packages: statsmodels\n",
            "Successfully installed statsmodels-0.13.0.dev0+2.g54f7c05be\n"
          ],
          "name": "stdout"
        }
      ]
    },
    {
      "cell_type": "code",
      "metadata": {
        "id": "ZOuVIjgvfJx9",
        "colab_type": "code",
        "colab": {}
      },
      "source": [
        "import pandas as pd\n",
        "import numpy as np\n",
        "import matplotlib.pyplot as plt\n",
        "import statsmodels.api as sm\n",
        "import seaborn as sns\n",
        "import pywt\n",
        "\n",
        "from itertools import islice\n",
        "from collections import deque\n",
        "\n",
        "from tensorflow.python.keras.layers import Input, Dense,RNN,LSTMCell\n",
        "from tensorflow.python.keras.models import Sequential\n",
        "from tensorflow.keras.losses import mean_absolute_percentage_error,mae\n",
        "\n",
        "from statsmodels.tsa.stattools import adfuller\n",
        "from statsmodels.graphics.tsaplots import plot_acf,plot_pacf\n",
        "from statsmodels.tsa.arima_model import ARIMA\n",
        "from statsmodels.tsa import statespace\n",
        "\n",
        "from pandas.plotting import autocorrelation_plot\n",
        "\n",
        "from datetime import datetime\n",
        "from sklearn.metrics import classification_report,confusion_matrix"
      ],
      "execution_count": null,
      "outputs": []
    },
    {
      "cell_type": "code",
      "metadata": {
        "id": "27LqwhLTfUVA",
        "colab_type": "code",
        "colab": {}
      },
      "source": [
        "def mape(y_true, y_pred):\n",
        "    return np.mean(np.abs((y_true - y_pred) / y_true)) * 100\n",
        "\n",
        "def smape(A, F):\n",
        "    return 100/len(A) * np.sum(2 * np.abs(F - A) / (np.abs(A) + np.abs(F)))\n",
        "\n",
        "def mae(A,F):\n",
        "    return np.mean(np.abs(A -F))\n",
        "\n",
        "def get_family(wave):\n",
        "  if 'bior' in wave:\n",
        "    return 'bior'\n",
        "  elif 'coif' in wave:\n",
        "    return 'coif'\n",
        "  elif 'db' in wave:\n",
        "    return 'db'\n",
        "  elif 'dmey' in wave:\n",
        "    return 'dmey'\n",
        "  elif 'rbio' in wave:\n",
        "    return 'rbio'\n",
        "  elif 'sym' in wave:\n",
        "    return 'sym'\n",
        "  else:\n",
        "    return 'haar'\n",
        "\n",
        "def denoise(original,WAVELET):\n",
        "\n",
        "  signal = original.values\n",
        "\n",
        "  coeffs = pywt.wavedec(signal, WAVELET)\n",
        "  coeffs[1:] = (pywt.threshold(detail,\n",
        "                              value=0.5 * np.std(detail), \n",
        "                              mode=\"soft\" ) for detail in coeffs[1:])\n",
        "  reconstructed_signal = pywt.waverec(coeffs, WAVELET)\n",
        "  return pd.Series(reconstructed_signal[:-1],index=original.index)\n",
        "\n",
        "\n",
        "def window(seq, n=4):\n",
        "  it = iter(seq)\n",
        "  result = tuple(islice(it, n))\n",
        "  if len(result) == n:\n",
        "    yield np.array(result)\n",
        "  for elem in it:\n",
        "    result = result[1:] + (elem,)\n",
        "    yield np.array(result)\n",
        "\n",
        "def percentage_scaler(signal,low=0,high=100):\n",
        "  minV = np.min(signal)\n",
        "  maxV = np.max(signal)\n",
        "  denom = maxV - minV\n",
        "\n",
        "  scaled_signal = low + ((signal - minV )* (high-low)) / denom \n",
        "\n",
        "  return round(scaled_signal)\n",
        "\n",
        "def get_label(x):\n",
        "  if x == 0.0:\n",
        "    return 'ZERO'\n",
        "  elif x < SCALE_UP_WATER_MARK:\n",
        "    return 'STAY'\n",
        "  else :\n",
        "    return 'SCALE UP'"
      ],
      "execution_count": null,
      "outputs": []
    },
    {
      "cell_type": "code",
      "metadata": {
        "id": "AErEb1hIfbVx",
        "colab_type": "code",
        "colab": {}
      },
      "source": [
        "SCALE_UP_WATER_MARK = 8"
      ],
      "execution_count": null,
      "outputs": []
    },
    {
      "cell_type": "code",
      "metadata": {
        "id": "QVY7F1WZfd0t",
        "colab_type": "code",
        "colab": {}
      },
      "source": [
        "df = pd.read_csv('winProxy.csv',parse_dates=True,index_col=0)\n",
        "original = df.CPU\n",
        "df['smooth_CPU'] = denoise(original,'db38')\n",
        "\n",
        "df.diskwrite = df.diskwrite.shift(periods=1)\n",
        "df.diskwrite = df.diskwrite.fillna(0)\n",
        "#df[[\"CPU\",\"diskwrite\"]].tail()\n",
        "\n",
        "df.IOBalance = df.IOBalance.shift(periods=1)\n",
        "df.IOBalance = df.IOBalance.fillna(0)\n",
        "\n",
        "train_size = round(len(df) * 0.8)\n",
        "Y_test = original[train_size:].values\n",
        "Y_test_labels = [get_label(x) for x in Y_test]"
      ],
      "execution_count": null,
      "outputs": []
    },
    {
      "cell_type": "markdown",
      "metadata": {
        "id": "2twz8oj0flzM",
        "colab_type": "text"
      },
      "source": [
        "# AR"
      ]
    },
    {
      "cell_type": "code",
      "metadata": {
        "id": "K1LswFRXfnxd",
        "colab_type": "code",
        "colab": {}
      },
      "source": [
        "ar_forecast = []\n",
        "training_endog = df.CPU.values[:train_size]\n",
        "mod = sm.tsa.statespace.SARIMAX(training_endog, \n",
        "                          order=(3,0,0))\n",
        "\n",
        "res = mod.fit()\n",
        "val = np.maximum(0,res.forecast()[0])\n",
        "ar_forecast.append(round(val))"
      ],
      "execution_count": null,
      "outputs": []
    },
    {
      "cell_type": "code",
      "metadata": {
        "id": "Q7NCBKXPfv25",
        "colab_type": "code",
        "colab": {}
      },
      "source": [
        "\n",
        "for i in range(0,len(df)-train_size):\n",
        "  res = res.extend(df.CPU.values[train_size+i:train_size+i+1])\n",
        "  val = np.maximum(0,res.forecast()[0])\n",
        "  ar_forecast.append(round(val))\n",
        "\n",
        "ar_forecast = np.array(ar_forecast)[:-1]"
      ],
      "execution_count": null,
      "outputs": []
    },
    {
      "cell_type": "code",
      "metadata": {
        "id": "3SZEjRSxiAVe",
        "colab_type": "code",
        "colab": {
          "base_uri": "https://localhost:8080/",
          "height": 69
        },
        "outputId": "d3dc0926-c8c7-44b7-d940-4151229cfe5f"
      },
      "source": [
        "print(\"MAPE : \",mape(Y_test+1,ar_forecast+1))\n",
        "print(\"SMAPE : \",smape(Y_test+1,ar_forecast+1))\n",
        "print(\"MAE : \",mae(Y_test+1,ar_forecast+1))"
      ],
      "execution_count": null,
      "outputs": [
        {
          "output_type": "stream",
          "text": [
            "MAPE :  7.3358471019542115\n",
            "SMAPE :  5.503462565944924\n",
            "MAE :  0.3678755144031635\n"
          ],
          "name": "stdout"
        }
      ]
    },
    {
      "cell_type": "code",
      "metadata": {
        "id": "q0J47DorGplG",
        "colab_type": "code",
        "colab": {
          "base_uri": "https://localhost:8080/",
          "height": 35
        },
        "outputId": "75860252-fb82-4183-bddd-8564ef656892"
      },
      "source": [
        "(Y_test[np.abs(Y_test - ar_forecast) > 0.48] > 8).sum()"
      ],
      "execution_count": null,
      "outputs": [
        {
          "output_type": "execute_result",
          "data": {
            "text/plain": [
              "27"
            ]
          },
          "metadata": {
            "tags": []
          },
          "execution_count": 10
        }
      ]
    },
    {
      "cell_type": "code",
      "metadata": {
        "id": "RIyNxQcyNmzz",
        "colab_type": "code",
        "colab": {
          "base_uri": "https://localhost:8080/",
          "height": 35
        },
        "outputId": "5a47a05c-7214-4d2e-fcac-75d800802b39"
      },
      "source": [
        "(ar_forecast > 20).sum()"
      ],
      "execution_count": null,
      "outputs": [
        {
          "output_type": "execute_result",
          "data": {
            "text/plain": [
              "1"
            ]
          },
          "metadata": {
            "tags": []
          },
          "execution_count": 11
        }
      ]
    },
    {
      "cell_type": "code",
      "metadata": {
        "id": "LMQyZX6BiJyQ",
        "colab_type": "code",
        "colab": {
          "base_uri": "https://localhost:8080/",
          "height": 243
        },
        "outputId": "4f23f6e1-3fbd-4819-c3d8-271531dc0e2d"
      },
      "source": [
        "ar_test_labels = [get_label(x) for x in ar_forecast]\n",
        "\n",
        "print(classification_report(Y_test_labels,ar_test_labels))\n",
        "confusion_matrix(Y_test_labels,ar_test_labels)"
      ],
      "execution_count": null,
      "outputs": [
        {
          "output_type": "stream",
          "text": [
            "              precision    recall  f1-score   support\n",
            "\n",
            "    SCALE UP       0.28      0.23      0.25        30\n",
            "        STAY       0.94      0.97      0.96       745\n",
            "        ZERO       0.99      0.99      0.99      1817\n",
            "\n",
            "    accuracy                           0.97      2592\n",
            "   macro avg       0.74      0.73      0.73      2592\n",
            "weighted avg       0.97      0.97      0.97      2592\n",
            "\n"
          ],
          "name": "stdout"
        },
        {
          "output_type": "execute_result",
          "data": {
            "text/plain": [
              "array([[   7,   17,    6],\n",
              "       [  18,  724,    3],\n",
              "       [   0,   27, 1790]])"
            ]
          },
          "metadata": {
            "tags": []
          },
          "execution_count": 12
        }
      ]
    },
    {
      "cell_type": "markdown",
      "metadata": {
        "id": "MKv04HsCiSvi",
        "colab_type": "text"
      },
      "source": [
        "# MA"
      ]
    },
    {
      "cell_type": "code",
      "metadata": {
        "id": "RO6yLjr4iWZ4",
        "colab_type": "code",
        "colab": {
          "base_uri": "https://localhost:8080/",
          "height": 69
        },
        "outputId": "fdd56a8f-db5e-4509-b8f5-158dd97a4da1"
      },
      "source": [
        "ma_forecast = []\n",
        "training_endog = df.CPU.values[:train_size]\n",
        "mod = sm.tsa.statespace.SARIMAX(training_endog, \n",
        "                          order=(0,0,12))\n",
        "\n",
        "res = mod.fit()\n",
        "val = np.maximum(0,res.forecast()[0])\n",
        "ma_forecast.append(round(val))\n",
        "\n",
        "\n",
        "for i in range(0,len(df)-train_size):\n",
        "  res = res.extend(df.CPU.values[train_size+i:train_size+i+1])\n",
        "  val = np.maximum(0,res.forecast()[0])\n",
        "  ma_forecast.append(round(val))\n",
        "\n",
        "ma_forecast = np.array(ma_forecast)[:-1]\n",
        "\n",
        "print(\"MAPE : \",mape(Y_test+1,ma_forecast+1))\n",
        "print(\"SMAPE : \",smape(Y_test+1,ma_forecast+1))\n",
        "print(\"MAE : \",mae(Y_test+1,ma_forecast+1))"
      ],
      "execution_count": null,
      "outputs": [
        {
          "output_type": "stream",
          "text": [
            "MAPE :  9.127536222996472\n",
            "SMAPE :  8.30727301484553\n",
            "MAE :  0.48091563785995367\n"
          ],
          "name": "stdout"
        }
      ]
    },
    {
      "cell_type": "code",
      "metadata": {
        "id": "hpLBNWGaiarZ",
        "colab_type": "code",
        "colab": {}
      },
      "source": [
        ""
      ],
      "execution_count": null,
      "outputs": []
    },
    {
      "cell_type": "code",
      "metadata": {
        "id": "L4AZQiPFiiX8",
        "colab_type": "code",
        "colab": {}
      },
      "source": [
        ""
      ],
      "execution_count": null,
      "outputs": []
    },
    {
      "cell_type": "code",
      "metadata": {
        "id": "klco0Pu3injK",
        "colab_type": "code",
        "colab": {
          "base_uri": "https://localhost:8080/",
          "height": 243
        },
        "outputId": "0b1b800a-ad2a-488d-b52c-99454dad1e9a"
      },
      "source": [
        "ma_test_labels = [get_label(x) for x in ma_forecast]\n",
        "\n",
        "print(classification_report(Y_test_labels,ma_test_labels))\n",
        "confusion_matrix(Y_test_labels,ma_test_labels)"
      ],
      "execution_count": null,
      "outputs": [
        {
          "output_type": "stream",
          "text": [
            "              precision    recall  f1-score   support\n",
            "\n",
            "    SCALE UP       0.35      0.23      0.28        30\n",
            "        STAY       0.96      0.97      0.97       745\n",
            "        ZERO       0.99      0.99      0.99      1817\n",
            "\n",
            "    accuracy                           0.98      2592\n",
            "   macro avg       0.77      0.73      0.75      2592\n",
            "weighted avg       0.98      0.98      0.98      2592\n",
            "\n"
          ],
          "name": "stdout"
        },
        {
          "output_type": "execute_result",
          "data": {
            "text/plain": [
              "array([[   7,   17,    6],\n",
              "       [  13,  726,    6],\n",
              "       [   0,   16, 1801]])"
            ]
          },
          "metadata": {
            "tags": []
          },
          "execution_count": 14
        }
      ]
    },
    {
      "cell_type": "markdown",
      "metadata": {
        "id": "4ufCcLSMj2Kc",
        "colab_type": "text"
      },
      "source": [
        "# ARMA"
      ]
    },
    {
      "cell_type": "code",
      "metadata": {
        "id": "qq5eH0Sgj48R",
        "colab_type": "code",
        "colab": {
          "base_uri": "https://localhost:8080/",
          "height": 72
        },
        "outputId": "f4eaa979-8b18-49ac-fc6f-ce32e9efd9ba"
      },
      "source": [
        "arma_forecast = []\n",
        "training_endog = df.CPU.values[:train_size]\n",
        "mod = sm.tsa.statespace.SARIMAX(training_endog, \n",
        "                          order=(4,0,4))\n",
        "\n",
        "res = mod.fit()\n",
        "val = np.maximum(0,res.forecast()[0])\n",
        "arma_forecast.append(round(val))"
      ],
      "execution_count": null,
      "outputs": [
        {
          "output_type": "stream",
          "text": [
            "/usr/local/lib/python3.6/dist-packages/statsmodels/base/model.py:568: ConvergenceWarning: Maximum Likelihood optimization failed to converge. Check mle_retvals\n",
            "  ConvergenceWarning)\n"
          ],
          "name": "stderr"
        }
      ]
    },
    {
      "cell_type": "code",
      "metadata": {
        "id": "KzWkvzgZkCEB",
        "colab_type": "code",
        "colab": {}
      },
      "source": [
        "\n",
        "for i in range(0,len(df)-train_size):\n",
        "  res = res.extend(df.CPU.values[train_size+i:train_size+i+1])\n",
        "  val = np.maximum(0,res.forecast()[0])\n",
        "  arma_forecast.append(round(val))\n",
        "\n",
        "arma_forecast = np.array(arma_forecast)[:-1]"
      ],
      "execution_count": null,
      "outputs": []
    },
    {
      "cell_type": "code",
      "metadata": {
        "id": "6myCOyC_kJim",
        "colab_type": "code",
        "colab": {
          "base_uri": "https://localhost:8080/",
          "height": 69
        },
        "outputId": "3df5d25b-ca6e-444e-d9e4-5e1a9e0ac589"
      },
      "source": [
        "print(\"MAPE : \",mape(Y_test+1,arma_forecast+1))\n",
        "print(\"SMAPE : \",smape(Y_test+1,arma_forecast+1))\n",
        "print(\"MAE : \",mae(Y_test+1,arma_forecast+1))"
      ],
      "execution_count": null,
      "outputs": [
        {
          "output_type": "stream",
          "text": [
            "MAPE :  8.936535518180477\n",
            "SMAPE :  6.510509046315533\n",
            "MAE :  0.36586934156365736\n"
          ],
          "name": "stdout"
        }
      ]
    },
    {
      "cell_type": "code",
      "metadata": {
        "id": "jtbCi8GkkPq8",
        "colab_type": "code",
        "colab": {
          "base_uri": "https://localhost:8080/",
          "height": 243
        },
        "outputId": "f60b7ac7-215d-40eb-c36d-a85064078563"
      },
      "source": [
        "arma_test_labels = [get_label(x) for x in arma_forecast]\n",
        "\n",
        "print(classification_report(Y_test_labels,arma_test_labels))\n",
        "confusion_matrix(Y_test_labels,arma_test_labels)"
      ],
      "execution_count": null,
      "outputs": [
        {
          "output_type": "stream",
          "text": [
            "              precision    recall  f1-score   support\n",
            "\n",
            "    SCALE UP       0.33      0.23      0.27        30\n",
            "        STAY       0.89      0.98      0.93       745\n",
            "        ZERO       1.00      0.96      0.98      1817\n",
            "\n",
            "    accuracy                           0.96      2592\n",
            "   macro avg       0.74      0.72      0.73      2592\n",
            "weighted avg       0.96      0.96      0.96      2592\n",
            "\n"
          ],
          "name": "stdout"
        },
        {
          "output_type": "execute_result",
          "data": {
            "text/plain": [
              "array([[   7,   17,    6],\n",
              "       [  14,  729,    2],\n",
              "       [   0,   74, 1743]])"
            ]
          },
          "metadata": {
            "tags": []
          },
          "execution_count": 18
        }
      ]
    },
    {
      "cell_type": "markdown",
      "metadata": {
        "id": "nhzZlwS1i5A4",
        "colab_type": "text"
      },
      "source": [
        "# Visualizing forecasts"
      ]
    },
    {
      "cell_type": "code",
      "metadata": {
        "id": "2gs1khayi9_j",
        "colab_type": "code",
        "colab": {
          "base_uri": "https://localhost:8080/",
          "height": 265
        },
        "outputId": "c62580f7-5b98-4e6e-df54-b870e4070c64"
      },
      "source": [
        "test_index = original[train_size:].index\n",
        "\n",
        "labs = ['12:00','12:30','13:00','13:30','14:00','14:30','15:00','15:30','16:00']\n",
        "fig,ax = plt.subplots()\n",
        "ax.set_xticklabels(labs)\n",
        "#ax.set_ylim(0,15)\n",
        "\n",
        "# imp: 0,50 200,250 300,350 750,800 870,900\n",
        "start = 1860\n",
        "end = 1930\n",
        "_ = ax.plot(pd.Series(Y_test[start:end],index = test_index[start:end]),linewidth=2.5,label='Test CPU',alpha=0.7)\n",
        "#_ = ax.plot(pd.Series(rw_forecast[start:end],index = test_index[start:end]),linewidth=1,linestyle='dotted',label = 'RW')\n",
        "#_ = ax.plot(pd.Series(arima_forecast[start:end] ,index = test_index[start:end]),linewidth=1.5,linestyle='dashed',label = 'Exog ARIMA (3,1,6) ')\n",
        "_ = ax.plot(pd.Series(ar_forecast[start:end] ,index = test_index[start:end]),linewidth=1.5,linestyle='dashed',label = '3 lag AR',alpha=0.7)\n",
        "_ = ax.plot(pd.Series(ma_forecast[start:end] ,index = test_index[start:end]),linewidth=1.5,linestyle='dashed',label = '12 lag MA',alpha=0.7)\n",
        "_ = ax.plot(pd.Series(arma_forecast[start:end] ,index = test_index[start:end]),linewidth=1.5,linestyle='dashed',label = 'ARMA (3,6)',alpha=0.7)\n",
        "#_ = ax.plot(pd.Series(ann_forecast[start:end] ,index = test_index[start:end]),linewidth=2,alpha=0.5, label = 'Proposed')\n",
        "\n",
        "plt.legend()#loc='upper left'\n",
        "\n",
        "plt.show()"
      ],
      "execution_count": null,
      "outputs": [
        {
          "output_type": "display_data",
          "data": {
            "image/png": "[encoded data removed]",
            "text/plain": [
              "<Figure size 432x288 with 1 Axes>"
            ]
          },
          "metadata": {
            "tags": [],
            "needs_background": "light"
          }
        }
      ]
    }
  ]
}