{
  "nbformat": 4,
  "nbformat_minor": 0,
  "metadata": {
    "colab": {
      "name": "phocis-helper.ipynb",
      "provenance": [],
      "collapsed_sections": [
        "l0YWfcW-g7UZ",
        "BQuOyV1Mlxop",
        "6GhoSNbomV-h"
      ]
    },
    "kernelspec": {
      "name": "python3",
      "display_name": "Python 3"
    }
  },
  "cells": [
    {
      "cell_type": "code",
      "metadata": {
        "id": "8xfWfovKDwGt",
        "colab_type": "code",
        "colab": {}
      },
      "source": [
        "#!pip uninstall statsmodels\n",
        "#y\n"
      ],
      "execution_count": 1,
      "outputs": []
    },
    {
      "cell_type": "code",
      "metadata": {
        "id": "eUMJajUSD4ob",
        "colab_type": "code",
        "colab": {}
      },
      "source": [
        "#pip install git+https://github.com/statsmodels/statsmodels"
      ],
      "execution_count": 2,
      "outputs": []
    },
    {
      "cell_type": "code",
      "metadata": {
        "id": "nTp4KYxidilo",
        "colab_type": "code",
        "colab": {}
      },
      "source": [
        "import pandas as pd\n",
        "import numpy as np\n",
        "import matplotlib.pyplot as plt\n",
        "import statsmodels.api as sm\n",
        "import seaborn as sns\n",
        "import pywt\n",
        "\n",
        "from itertools import islice\n",
        "from collections import deque\n",
        "\n",
        "from tensorflow.python.keras.layers import Input, Dense,RNN,LSTMCell\n",
        "from tensorflow.python.keras.models import Sequential\n",
        "from tensorflow.keras.losses import mean_absolute_percentage_error,mae\n",
        "\n",
        "from statsmodels.tsa.stattools import adfuller\n",
        "from statsmodels.graphics.tsaplots import plot_acf,plot_pacf\n",
        "from statsmodels.tsa.arima_model import ARIMA\n",
        "from statsmodels.tsa import statespace\n",
        "\n",
        "from pandas.plotting import autocorrelation_plot\n",
        "\n",
        "from datetime import datetime\n",
        "from sklearn.metrics import classification_report,confusion_matrix"
      ],
      "execution_count": 3,
      "outputs": []
    },
    {
      "cell_type": "code",
      "metadata": {
        "id": "RS-GLJODgg0M",
        "colab_type": "code",
        "colab": {}
      },
      "source": [
        "def mape(y_true, y_pred):\n",
        "    return np.mean(np.abs((y_true - y_pred) / y_true)) * 100\n",
        "\n",
        "def smape(A, F):\n",
        "    return 100/len(A) * np.sum(2 * np.abs(F - A) / (np.abs(A) + np.abs(F)))\n",
        "\n",
        "def mae(A,F):\n",
        "    return np.mean(np.abs(A -F))\n",
        "\n",
        "def get_family(wave):\n",
        "  if 'bior' in wave:\n",
        "    return 'bior'\n",
        "  elif 'coif' in wave:\n",
        "    return 'coif'\n",
        "  elif 'db' in wave:\n",
        "    return 'db'\n",
        "  elif 'dmey' in wave:\n",
        "    return 'dmey'\n",
        "  elif 'rbio' in wave:\n",
        "    return 'rbio'\n",
        "  elif 'sym' in wave:\n",
        "    return 'sym'\n",
        "  else:\n",
        "    return 'haar'\n",
        "\n",
        "def denoise(original,WAVELET):\n",
        "\n",
        "  signal = original.values\n",
        "\n",
        "  coeffs = pywt.wavedec(signal, WAVELET)\n",
        "  coeffs[1:] = (pywt.threshold(detail,\n",
        "                              value=0.5 * np.std(detail), \n",
        "                              mode=\"soft\" ) for detail in coeffs[1:])\n",
        "  reconstructed_signal = pywt.waverec(coeffs, WAVELET)\n",
        "  return pd.Series(reconstructed_signal[:-1],index=original.index)\n",
        "\n",
        "\n",
        "def window(seq, n=4):\n",
        "  it = iter(seq)\n",
        "  result = tuple(islice(it, n))\n",
        "  if len(result) == n:\n",
        "    yield np.array(result)\n",
        "  for elem in it:\n",
        "    result = result[1:] + (elem,)\n",
        "    yield np.array(result)\n"
      ],
      "execution_count": 4,
      "outputs": []
    },
    {
      "cell_type": "code",
      "metadata": {
        "id": "qG4ZwWmHic3t",
        "colab_type": "code",
        "colab": {}
      },
      "source": [
        "def percentage_scaler(signal,low=0,high=100):\n",
        "  minV = np.min(signal)\n",
        "  maxV = np.max(signal)\n",
        "  denom = maxV - minV\n",
        "\n",
        "  scaled_signal = low + ((signal - minV )* (high-low)) / denom \n",
        "\n",
        "  return round(scaled_signal)\n",
        "\n",
        "def get_label(x):\n",
        "  if x == 0.0:\n",
        "    return 'ZERO'\n",
        "  elif x < SCALE_UP_WATER_MARK:\n",
        "    return 'STAY'\n",
        "  else :\n",
        "    return 'SCALE UP'"
      ],
      "execution_count": 5,
      "outputs": []
    },
    {
      "cell_type": "code",
      "metadata": {
        "id": "voET6z7A9n42",
        "colab_type": "code",
        "colab": {}
      },
      "source": [
        "SCALE_UP_WATER_MARK = 8"
      ],
      "execution_count": 32,
      "outputs": []
    },
    {
      "cell_type": "code",
      "metadata": {
        "id": "YwEpHrVSgmfc",
        "colab_type": "code",
        "colab": {}
      },
      "source": [
        "df = pd.read_csv('winProxy.csv',parse_dates=True,index_col=0)\n",
        "original = df.CPU\n",
        "df['smooth_CPU'] = denoise(original,'db38')\n",
        "\n",
        "df.diskwrite = df.diskwrite.shift(periods=1)\n",
        "df.diskwrite = df.diskwrite.fillna(0)\n",
        "#df[[\"CPU\",\"diskwrite\"]].tail()\n",
        "\n",
        "df.IOBalance = df.IOBalance.shift(periods=1)\n",
        "df.IOBalance = df.IOBalance.fillna(0)\n",
        "\n"
      ],
      "execution_count": 7,
      "outputs": []
    },
    {
      "cell_type": "code",
      "metadata": {
        "id": "4JgJKYGBrDsv",
        "colab_type": "code",
        "colab": {
          "base_uri": "https://localhost:8080/",
          "height": 265
        },
        "outputId": "dadfa128-0fb2-4cdf-d583-9484532ffb3d"
      },
      "source": [
        "#time_index = pd.date_range(start='2020-06-01T00:00:00',end='2020-07-16T00:00:00',freq='5T')\n",
        "#df.index = time_index\n",
        "\n",
        "df[(df.CPU != 0.0) & (df.CPU < 20)].CPU.hist(bins=5,range=(0,20))\n",
        "plt.show()"
      ],
      "execution_count": 56,
      "outputs": [
        {
          "output_type": "display_data",
          "data": {
            "image/png": "[encoded data removed]",
            "text/plain": [
              "<Figure size 432x288 with 1 Axes>"
            ]
          },
          "metadata": {
            "tags": [],
            "needs_background": "light"
          }
        }
      ]
    },
    {
      "cell_type": "markdown",
      "metadata": {
        "id": "Rs6NVFzrsXaw",
        "colab_type": "text"
      },
      "source": [
        "# RW"
      ]
    },
    {
      "cell_type": "code",
      "metadata": {
        "id": "CK1S-pBiS_vr",
        "colab_type": "code",
        "colab": {}
      },
      "source": [
        "train_size = round(len(df) * 0.8)\n",
        "\n",
        "Y_test = original[train_size:].values\n",
        "\n",
        "rw_forecast = ((original[train_size-1:]).shift(1)[1:]).values"
      ],
      "execution_count": 9,
      "outputs": []
    },
    {
      "cell_type": "code",
      "metadata": {
        "id": "k6fihhpOsS4E",
        "colab_type": "code",
        "colab": {
          "base_uri": "https://localhost:8080/",
          "height": 69
        },
        "outputId": "04b8754d-d907-48a8-a1c6-5645fca4995b"
      },
      "source": [
        "print(\"MAPE : \",mape(Y_test+1,rw_forecast+1))\n",
        "print(\"SMAPE : \",smape(Y_test+1,rw_forecast+1))\n",
        "print(\"MAE : \",mae(Y_test+1,rw_forecast+1))"
      ],
      "execution_count": 10,
      "outputs": [
        {
          "output_type": "stream",
          "text": [
            "MAPE :  6.67908647322508\n",
            "SMAPE :  4.328813232318384\n",
            "MAE :  0.3488425925925926\n"
          ],
          "name": "stdout"
        }
      ]
    },
    {
      "cell_type": "code",
      "metadata": {
        "id": "is4FOx0osmJC",
        "colab_type": "code",
        "colab": {
          "base_uri": "https://localhost:8080/",
          "height": 243
        },
        "outputId": "16d8a675-711e-4a7e-e780-f0a7e18d77cb"
      },
      "source": [
        "Y_test_labels = [get_label(x) for x in Y_test]\n",
        "rw_test_labels = [get_label(x) for x in rw_forecast]\n",
        "\n",
        "print(classification_report(Y_test_labels,rw_test_labels))\n",
        "confusion_matrix(Y_test_labels,rw_test_labels)"
      ],
      "execution_count": 33,
      "outputs": [
        {
          "output_type": "stream",
          "text": [
            "              precision    recall  f1-score   support\n",
            "\n",
            "    SCALE UP       0.30      0.30      0.30        30\n",
            "        STAY       0.97      0.97      0.97       745\n",
            "        ZERO       1.00      0.99      0.99      1817\n",
            "\n",
            "    accuracy                           0.98      2592\n",
            "   macro avg       0.75      0.75      0.75      2592\n",
            "weighted avg       0.98      0.98      0.98      2592\n",
            "\n"
          ],
          "name": "stdout"
        },
        {
          "output_type": "execute_result",
          "data": {
            "text/plain": [
              "array([[   9,   15,    6],\n",
              "       [  21,  721,    3],\n",
              "       [   0,   10, 1807]])"
            ]
          },
          "metadata": {
            "tags": []
          },
          "execution_count": 33
        }
      ]
    },
    {
      "cell_type": "markdown",
      "metadata": {
        "id": "qIZU6K83tmQB",
        "colab_type": "text"
      },
      "source": [
        "# AR"
      ]
    },
    {
      "cell_type": "code",
      "metadata": {
        "id": "6hXbVW_9zg4B",
        "colab_type": "code",
        "colab": {}
      },
      "source": [
        "'''ma_forecast = []\n",
        "training_endog = df.CPU[:train_size]\n",
        "mod = sm.tsa.statespace.SARIMAX(df.CPU[:train_size], \n",
        "                          order=(4,0,0),freq='5T')\n",
        "                          #exog = train.diskwrite.values  )\n",
        "                          #seasonal_order=(0,1,6,288))\n",
        "res = mod.fit()\n",
        "ma_forecast.append(res.forecast(1)[0])'''\n",
        "\n",
        "'''window_size = 4\n",
        "MA = []\n",
        "for row in window(original[train_size-4:-1],window_size):\n",
        "    MA.append(row)\n",
        "\n",
        "#print(MA[-1])\n",
        "ma_forecast = pd.Series([np.mean(x) for x in MA])'''\n",
        "\n",
        "pass"
      ],
      "execution_count": 12,
      "outputs": []
    },
    {
      "cell_type": "code",
      "metadata": {
        "id": "Lk388_KnHaPf",
        "colab_type": "code",
        "colab": {}
      },
      "source": [
        "ar_forecast = []\n",
        "training_endog = df.CPU.values[:train_size]\n",
        "mod = sm.tsa.statespace.SARIMAX(training_endog, \n",
        "                          order=(3,0,0))\n",
        "\n",
        "res = mod.fit()\n",
        "val = np.maximum(0,res.forecast()[0])\n",
        "ar_forecast.append(round(val))"
      ],
      "execution_count": 13,
      "outputs": []
    },
    {
      "cell_type": "code",
      "metadata": {
        "id": "QQVAAgw9ck7D",
        "colab_type": "code",
        "colab": {}
      },
      "source": [
        "\n",
        "for i in range(0,len(df)-train_size):\n",
        "  res = res.extend(df.CPU.values[train_size+i:train_size+i+1])\n",
        "  val = np.maximum(0,res.forecast()[0])\n",
        "  ar_forecast.append(round(val))\n",
        "\n",
        "ar_forecast = np.array(ar_forecast)[:-1]"
      ],
      "execution_count": 14,
      "outputs": []
    },
    {
      "cell_type": "code",
      "metadata": {
        "id": "pFAdesyGuv4R",
        "colab_type": "code",
        "colab": {
          "base_uri": "https://localhost:8080/",
          "height": 69
        },
        "outputId": "2e5faa68-7066-49b0-a352-f71bcc10ef4f"
      },
      "source": [
        "print(\"MAPE : \",mape(Y_test+1,ar_forecast+1))\n",
        "print(\"SMAPE : \",smape(Y_test+1,ar_forecast+1))\n",
        "print(\"MAE : \",mae(Y_test+1,ar_forecast+1))"
      ],
      "execution_count": 15,
      "outputs": [
        {
          "output_type": "stream",
          "text": [
            "MAPE :  7.3358471019542115\n",
            "SMAPE :  5.503462565944924\n",
            "MAE :  0.3678755144031635\n"
          ],
          "name": "stdout"
        }
      ]
    },
    {
      "cell_type": "code",
      "metadata": {
        "id": "SRPAfNqUu9po",
        "colab_type": "code",
        "colab": {
          "base_uri": "https://localhost:8080/",
          "height": 243
        },
        "outputId": "596d93e1-764e-4788-c072-b3e1d507303c"
      },
      "source": [
        "ar_test_labels = [get_label(x) for x in ar_forecast]\n",
        "\n",
        "print(classification_report(Y_test_labels,ar_test_labels))\n",
        "confusion_matrix(Y_test_labels,ar_test_labels)"
      ],
      "execution_count": 34,
      "outputs": [
        {
          "output_type": "stream",
          "text": [
            "              precision    recall  f1-score   support\n",
            "\n",
            "    SCALE UP       0.28      0.23      0.25        30\n",
            "        STAY       0.94      0.97      0.96       745\n",
            "        ZERO       0.99      0.99      0.99      1817\n",
            "\n",
            "    accuracy                           0.97      2592\n",
            "   macro avg       0.74      0.73      0.73      2592\n",
            "weighted avg       0.97      0.97      0.97      2592\n",
            "\n"
          ],
          "name": "stdout"
        },
        {
          "output_type": "execute_result",
          "data": {
            "text/plain": [
              "array([[   7,   17,    6],\n",
              "       [  18,  724,    3],\n",
              "       [   0,   27, 1790]])"
            ]
          },
          "metadata": {
            "tags": []
          },
          "execution_count": 34
        }
      ]
    },
    {
      "cell_type": "markdown",
      "metadata": {
        "id": "eWMf9wwgvXdE",
        "colab_type": "text"
      },
      "source": [
        "# ANN"
      ]
    },
    {
      "cell_type": "code",
      "metadata": {
        "id": "NfH-8bTgvaCd",
        "colab_type": "code",
        "colab": {}
      },
      "source": [
        "time_window = 4\n",
        "input_dims = 6\n",
        "X = []\n",
        "for row in window(df.CPU.values,time_window):\n",
        "    X.append(row)\n",
        "\n",
        "X = pd.DataFrame(X[:-1])\n",
        "X.index = df.index[time_window:]\n",
        "Y = df.CPU.iloc[time_window:]\n",
        "\n",
        "\n",
        "#X['hour'] = df.index.hour[time_window:]\n",
        "#X['weekday'] = df.index.weekday[time_window:]\n",
        "X['IOBalance'] = df.IOBalance.to_numpy()[time_window:]\n",
        "X['diskwrite'] = df.diskwrite.to_numpy()[time_window:]"
      ],
      "execution_count": 17,
      "outputs": []
    },
    {
      "cell_type": "code",
      "metadata": {
        "id": "7t7_-phVvfTe",
        "colab_type": "code",
        "colab": {}
      },
      "source": [
        "X_train = X.iloc[:train_size,:]\n",
        "Y_train = Y[:train_size]"
      ],
      "execution_count": 18,
      "outputs": []
    },
    {
      "cell_type": "code",
      "metadata": {
        "id": "flTw1-ZnvikF",
        "colab_type": "code",
        "colab": {}
      },
      "source": [
        "np.random.seed(42)\n",
        "activation_fn = 'relu'\n",
        "\n",
        "model = Sequential()\n",
        "model.add(Dense(8, input_dim=input_dims,  activation=activation_fn))\n",
        "model.add(Dense(4, activation=activation_fn))\n",
        "model.add(Dense(1 ))\n",
        "\n",
        "model.compile(loss='mae',\n",
        "                optimizer='adam',\n",
        "                metrics = ['mae']\n",
        "              )"
      ],
      "execution_count": 19,
      "outputs": []
    },
    {
      "cell_type": "code",
      "metadata": {
        "id": "IQO0srZRvlqU",
        "colab_type": "code",
        "colab": {}
      },
      "source": [
        "history = model.fit(X_train, Y_train,\n",
        "                    epochs=100, batch_size=32,\n",
        "                    validation_split=0.2,shuffle=False,verbose=0)"
      ],
      "execution_count": 20,
      "outputs": []
    },
    {
      "cell_type": "code",
      "metadata": {
        "id": "KNVZy4hDwMBB",
        "colab_type": "code",
        "colab": {
          "base_uri": "https://localhost:8080/",
          "height": 69
        },
        "outputId": "0b7f4d66-b58f-467d-87e8-2bc19dce090f"
      },
      "source": [
        "X_test = X[train_size-4:]\n",
        "\n",
        "ann_forecast = model.predict(X_test).flatten()\n",
        "print(\"MAPE : \",mape(Y_test+1,ann_forecast+1))\n",
        "print(\"SMAPE : \",smape(Y_test+1,ann_forecast+1))\n",
        "print(\"MAE : \",mae(Y_test+1,ann_forecast+1))"
      ],
      "execution_count": 21,
      "outputs": [
        {
          "output_type": "stream",
          "text": [
            "MAPE :  5.526532189037636\n",
            "SMAPE :  4.472573454492941\n",
            "MAE :  0.3116261771645015\n"
          ],
          "name": "stdout"
        }
      ]
    },
    {
      "cell_type": "code",
      "metadata": {
        "id": "PB-vAeY8xbo_",
        "colab_type": "code",
        "colab": {
          "base_uri": "https://localhost:8080/",
          "height": 243
        },
        "outputId": "a80f72d2-dae5-4571-904e-b84a15ef7a38"
      },
      "source": [
        "ann_test_labels = [get_label(round(x)) for x in ann_forecast]\n",
        "\n",
        "print(classification_report(Y_test_labels,ann_test_labels))\n",
        "confusion_matrix(Y_test_labels,ann_test_labels)"
      ],
      "execution_count": 35,
      "outputs": [
        {
          "output_type": "stream",
          "text": [
            "              precision    recall  f1-score   support\n",
            "\n",
            "    SCALE UP       0.40      0.20      0.27        30\n",
            "        STAY       0.96      0.98      0.97       745\n",
            "        ZERO       0.99      0.99      0.99      1817\n",
            "\n",
            "    accuracy                           0.98      2592\n",
            "   macro avg       0.79      0.73      0.74      2592\n",
            "weighted avg       0.98      0.98      0.98      2592\n",
            "\n"
          ],
          "name": "stdout"
        },
        {
          "output_type": "execute_result",
          "data": {
            "text/plain": [
              "array([[   6,   18,    6],\n",
              "       [   9,  732,    4],\n",
              "       [   0,   10, 1807]])"
            ]
          },
          "metadata": {
            "tags": []
          },
          "execution_count": 35
        }
      ]
    },
    {
      "cell_type": "markdown",
      "metadata": {
        "colab_type": "text",
        "id": "GHRqf6858tAs"
      },
      "source": [
        "# Visualizations"
      ]
    },
    {
      "cell_type": "code",
      "metadata": {
        "colab_type": "code",
        "id": "9yCAJf-Q8tAy",
        "colab": {
          "base_uri": "https://localhost:8080/",
          "height": 265
        },
        "outputId": "c33d41f7-6a0d-462e-d26b-d20e96309524"
      },
      "source": [
        "test_index = original[train_size:].index\n",
        "\n",
        "#labs = ['12:00','12:30','13:00','13:30','14:00','14:30','15:00','15:30','16:00']\n",
        "fig,ax = plt.subplots()\n",
        "#ax.set_xticklabels(labs)\n",
        "#ax.set_ylim(0,15)\n",
        "\n",
        "# imp: 0,50 200,250 300,350 750,800 870,900 1250,1300 1570,1620 1860,1930\n",
        "start = 1860\n",
        "end = 1930\n",
        "_ = ax.plot(pd.Series(Y_test[start:end],index = test_index[start:end]),linewidth=2.5,label='Test CPU',alpha=0.7)\n",
        "_ = ax.axhline(y=SCALE_UP_WATER_MARK, linewidth=0.5,label='Watermark')\n",
        "_ = ax.plot(pd.Series(rw_forecast[start:end],index = test_index[start:end]),linewidth=1,linestyle='dotted',label = 'RW')\n",
        "#_ = ax.plot(pd.Series(arima_forecast[start:end] ,index = test_index[start:end]),linewidth=1.5,linestyle='dashed',label = 'Exog ARIMA (3,1,6) ')\n",
        "_ = ax.plot(pd.Series(ar_forecast[start:end] ,index = test_index[start:end]),linewidth=1.5,linestyle='dashed',label = '4 lag AR')\n",
        "_ = ax.plot(pd.Series(ann_forecast[start:end] ,index = test_index[start:end]),linewidth=2,alpha=0.5, label = 'Proposed ANN')\n",
        "\n",
        "plt.legend()#loc='upper left'\n",
        "\n",
        "plt.show()"
      ],
      "execution_count": 94,
      "outputs": [
        {
          "output_type": "display_data",
          "data": {
            "image/png": "[encoded data removed]",
            "text/plain": [
              "<Figure size 432x288 with 1 Axes>"
            ]
          },
          "metadata": {
            "tags": [],
            "needs_background": "light"
          }
        }
      ]
    },
    {
      "cell_type": "markdown",
      "metadata": {
        "id": "l0YWfcW-g7UZ",
        "colab_type": "text"
      },
      "source": [
        "# CPU signal vs smoothed signal"
      ]
    },
    {
      "cell_type": "code",
      "metadata": {
        "id": "LScyGondgzW1",
        "colab_type": "code",
        "colab": {}
      },
      "source": [
        "sample_start_date = '2020-06-18T11:30:00'\n",
        "sample_end_date = '2020-06-18T17:00:00'\n",
        "\n",
        "\n",
        "sample_set = (original.index > np.datetime64(sample_start_date)) & (original.index < np.datetime64(sample_end_date))\n",
        "sample_index = original.index[sample_set]"
      ],
      "execution_count": 24,
      "outputs": []
    },
    {
      "cell_type": "code",
      "metadata": {
        "id": "C_vJG6dojRRa",
        "colab_type": "code",
        "colab": {}
      },
      "source": [
        "scaled_diskwrite = percentage_scaler(df.diskwrite)\n",
        "scaled_diskread = percentage_scaler(df.diskread)"
      ],
      "execution_count": 25,
      "outputs": []
    },
    {
      "cell_type": "code",
      "metadata": {
        "id": "LVsN2h5lhhAs",
        "colab_type": "code",
        "colab": {}
      },
      "source": [
        "original_sample = original[sample_set]\n",
        "smoothed_sample = df['smooth_CPU'][sample_set]"
      ],
      "execution_count": 26,
      "outputs": []
    },
    {
      "cell_type": "code",
      "metadata": {
        "id": "5gURfnzbhC_G",
        "colab_type": "code",
        "colab": {
          "base_uri": "https://localhost:8080/",
          "height": 265
        },
        "outputId": "2842467f-c46c-4d91-dcab-2372bac19883"
      },
      "source": [
        "fig,ax = plt.subplots()\n",
        "\n",
        "_ = ax.plot(pd.Series(original_sample,index = sample_index),linewidth=2,label='Original CPU',alpha=0.5)\n",
        "_ = ax.plot(pd.Series(smoothed_sample ,index = sample_index),linewidth=2.5,alpha=0.7, label = 'Smoothed CPU')\n",
        "\n",
        "plt.legend(loc='upper right')\n",
        "\n",
        "plt.show()"
      ],
      "execution_count": 27,
      "outputs": [
        {
          "output_type": "display_data",
          "data": {
            "image/png": "[encoded data removed]",
            "text/plain": [
              "<Figure size 432x288 with 1 Axes>"
            ]
          },
          "metadata": {
            "tags": [],
            "needs_background": "light"
          }
        }
      ]
    },
    {
      "cell_type": "markdown",
      "metadata": {
        "id": "BQuOyV1Mlxop",
        "colab_type": "text"
      },
      "source": [
        "# CPU vs Diskwrites"
      ]
    },
    {
      "cell_type": "code",
      "metadata": {
        "id": "i3iobrQsl4xE",
        "colab_type": "code",
        "colab": {}
      },
      "source": [
        "sample_writes = df.diskwrite[sample_set]"
      ],
      "execution_count": 28,
      "outputs": []
    },
    {
      "cell_type": "code",
      "metadata": {
        "id": "ljcH1YoBmDXi",
        "colab_type": "code",
        "colab": {
          "base_uri": "https://localhost:8080/",
          "height": 265
        },
        "outputId": "2c6e484e-947a-4b1c-8191-2f02cd4479c6"
      },
      "source": [
        "fig,ax = plt.subplots()\n",
        "\n",
        "_ = ax.plot(pd.Series(original_sample,index = sample_index),linewidth=2.5,label='Original CPU',alpha=0.7)\n",
        "_ = ax.plot(pd.Series(sample_writes ,index = sample_index),linewidth=2,alpha=0.7, label = 'Scaled disk writes')\n",
        "\n",
        "plt.legend(loc='upper right')\n",
        "\n",
        "plt.show()"
      ],
      "execution_count": 29,
      "outputs": [
        {
          "output_type": "display_data",
          "data": {
            "image/png": "[encoded data removed]",
            "text/plain": [
              "<Figure size 432x288 with 1 Axes>"
            ]
          },
          "metadata": {
            "tags": [],
            "needs_background": "light"
          }
        }
      ]
    },
    {
      "cell_type": "markdown",
      "metadata": {
        "id": "6GhoSNbomV-h",
        "colab_type": "text"
      },
      "source": [
        "# CPU vs disk read"
      ]
    },
    {
      "cell_type": "code",
      "metadata": {
        "id": "swzZK11Cmcu_",
        "colab_type": "code",
        "colab": {}
      },
      "source": [
        "sample_reads = df.diskread[sample_set]"
      ],
      "execution_count": 30,
      "outputs": []
    },
    {
      "cell_type": "code",
      "metadata": {
        "id": "GPofgObomh5j",
        "colab_type": "code",
        "colab": {
          "base_uri": "https://localhost:8080/",
          "height": 265
        },
        "outputId": "b3b18cd4-ca70-4c56-c7e3-3226cac118a6"
      },
      "source": [
        "fig,ax = plt.subplots()\n",
        "\n",
        "_ = ax.plot(pd.Series(original_sample,index = sample_index),linewidth=2.5,label='Original CPU',alpha=0.7)\n",
        "_ = ax.plot(pd.Series(sample_writes ,index = sample_index),linewidth=2,alpha=0.7, label = 'Scaled disk reads')\n",
        "\n",
        "plt.legend(loc='upper right')\n",
        "\n",
        "plt.show()"
      ],
      "execution_count": 31,
      "outputs": [
        {
          "output_type": "display_data",
          "data": {
            "image/png": "[encoded data removed]",
            "text/plain": [
              "<Figure size 432x288 with 1 Axes>"
            ]
          },
          "metadata": {
            "tags": [],
            "needs_background": "light"
          }
        }
      ]
    }
  ]
}