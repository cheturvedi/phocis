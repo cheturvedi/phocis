{
 "cells": [
  {
   "cell_type": "code",
   "execution_count": 1,
   "metadata": {
    "colab": {
     "base_uri": "https://localhost:8080/",
     "height": 72
    },
    "colab_type": "code",
    "id": "yNdYKN0SQ7Iq",
    "outputId": "4a3455c9-5e4b-4453-92e8-d6371b2e59dc"
   },
   "outputs": [
    {
     "name": "stderr",
     "output_type": "stream",
     "text": [
      "/usr/local/lib/python3.6/dist-packages/statsmodels/tools/_testing.py:19: FutureWarning: pandas.util.testing is deprecated. Use the functions in the public API at pandas.testing instead.\n",
      "  import pandas.util.testing as tm\n"
     ]
    }
   ],
   "source": [
    "import pandas as pd\n",
    "import numpy as np\n",
    "import matplotlib.pyplot as plt\n",
    "import statsmodels.api as sm\n",
    "import seaborn as sns\n",
    "import pywt\n",
    "\n",
    "from itertools import islice\n",
    "from collections import deque\n",
    "\n",
    "from tensorflow.python.keras.layers import Input, Dense,RNN,LSTMCell\n",
    "from tensorflow.python.keras.models import Sequential\n",
    "from tensorflow.keras.losses import mean_absolute_percentage_error,mae\n",
    "\n",
    "from statsmodels.tsa.stattools import adfuller\n",
    "from statsmodels.graphics.tsaplots import plot_acf,plot_pacf\n",
    "from statsmodels.tsa.arima_model import ARIMA\n",
    "from statsmodels.tsa import statespace\n",
    "\n",
    "from pandas.plotting import autocorrelation_plot\n",
    "\n",
    "from datetime import datetime"
   ]
  },
  {
   "cell_type": "code",
   "execution_count": 2,
   "metadata": {
    "colab": {},
    "colab_type": "code",
    "id": "8daHcHajQ-NN"
   },
   "outputs": [],
   "source": [
    "def mape(y_true, y_pred):\n",
    "    return np.mean(np.abs((y_true - y_pred) / y_true)) * 100\n",
    "\n",
    "def smape(A, F):\n",
    "    return 100/len(A) * np.sum(2 * np.abs(F - A) / (np.abs(A) + np.abs(F)))\n",
    "\n",
    "def mae(A,F):\n",
    "    return np.mean(np.abs(A -F))\n",
    "\n",
    "def get_family(wave):\n",
    "  if 'bior' in wave:\n",
    "    return 'bior'\n",
    "  elif 'coif' in wave:\n",
    "    return 'coif'\n",
    "  elif 'db' in wave:\n",
    "    return 'db'\n",
    "  elif 'dmey' in wave:\n",
    "    return 'dmey'\n",
    "  elif 'rbio' in wave:\n",
    "    return 'rbio'\n",
    "  elif 'sym' in wave:\n",
    "    return 'sym'\n",
    "  else:\n",
    "    return 'haar'\n",
    "\n",
    "def denoise(original,WAVELET):\n",
    "\n",
    "  signal = original.values\n",
    "\n",
    "  coeffs = pywt.wavedec(signal, WAVELET)\n",
    "  coeffs[1:] = (pywt.threshold(detail,\n",
    "                              value=0.5 * np.std(detail), \n",
    "                              mode=\"soft\" ) for detail in coeffs[1:])\n",
    "  reconstructed_signal = pywt.waverec(coeffs, WAVELET)\n",
    "  return pd.Series(reconstructed_signal[:-1],index=original.index)\n"
   ]
  },
  {
   "cell_type": "markdown",
   "metadata": {
    "colab_type": "text",
    "id": "OEpHUSAWVP_D"
   },
   "source": [
    "# Wavelet Analysis"
   ]
  },
  {
   "cell_type": "code",
   "execution_count": 3,
   "metadata": {
    "colab": {},
    "colab_type": "code",
    "id": "FwGquvsrVkDM"
   },
   "outputs": [],
   "source": [
    "runAnalysis = False\n",
    "\n",
    "all_discrete_wavelets = pywt.wavelist(kind='discrete')\n",
    "\n",
    "\n",
    "def get_arima_aic(a_train):\n",
    "  modA = sm.tsa.statespace.SARIMAX(a_train,freq='5T', order=(3,1,6),exog = exog_train )                       \n",
    "  res = modA.fit()\n",
    "  return res.aic\n",
    "\n",
    "if runAnalysis:\n",
    "  all_aic = []\n",
    "  for wave in all_discrete_wavelets:\n",
    "    \n",
    "    signal = denoise(wave)\n",
    "    signal.index = original.index\n",
    "    wave_aic = get_arima_aic(signal[:train_size])\n",
    "    all_aic.append(wave_aic)\n",
    "    #print('Denoising with ',wave, 'reported AIC of ',wave_aic)\n",
    "\n",
    "  waveTest = pd.DataFrame(all_aic,index=all_discrete_wavelets,columns=['aic'])\n",
    "  waveTest = waveTest.reset_index()\n",
    "  waveTest = waveTest.rename(columns={'index':'wavelet'})\n",
    "\n",
    "  waveTest.to_csv('waveletAIC.csv',index=False)\n",
    "\n",
    "  waveTest['family'] = waveTest.wavelet.apply(get_family)\n",
    "\n",
    "  aicOrig = get_arima_aic(original[:train_size])\n",
    "\n",
    "  waveTest['diff'] = aicOrig - waveTest['aic']\n",
    "  waveDiff = waveTest.groupby('family').agg({'diff':'mean'}).sort_values(by='diff')\n",
    "\n",
    "  waveColors = ['red' if x < 0 else 'green' for x in waveDiff['diff']]\n",
    "\n",
    "  fig,ax = plt.subplots()\n",
    "  plt.vlines(x=waveDiff.index, ymin=0, ymax=waveDiff['diff'], \n",
    "                  color=waveColors, alpha=0.5, linewidth=8)\n",
    "  ax.set_xlabel('Wavelet family')\n",
    "  ax.set_ylabel('Difference in AIC over original series')\n",
    "  plt.axhline()\n",
    "  plt.grid(linestyle='--', alpha=0.7,axis='y')\n",
    "\n",
    "  plt.show()\n"
   ]
  },
  {
   "cell_type": "markdown",
   "metadata": {
    "colab_type": "text",
    "id": "6KeMaf8hRRda"
   },
   "source": [
    "# Load Data"
   ]
  },
  {
   "cell_type": "code",
   "execution_count": 4,
   "metadata": {
    "colab": {},
    "colab_type": "code",
    "id": "xakMNKgSRCw4"
   },
   "outputs": [],
   "source": [
    "df = pd.read_csv('winProxy.csv',parse_dates=True,index_col=0)\n",
    "original = df.CPU\n",
    "df['smooth_CPU'] = denoise(original,'db38')\n",
    "\n",
    "df.diskwrite = df.diskwrite.shift(periods=1)\n",
    "df.diskwrite = df.diskwrite.fillna(0)"
   ]
  },
  {
   "cell_type": "markdown",
   "metadata": {
    "colab_type": "text",
    "id": "8s7-UbNZST1n"
   },
   "source": [
    "# Random Walk"
   ]
  },
  {
   "cell_type": "code",
   "execution_count": 5,
   "metadata": {
    "colab": {},
    "colab_type": "code",
    "id": "EnNIwircSV_L"
   },
   "outputs": [],
   "source": [
    "#test_set = (original.index > np.datetime64('2020-07-12T19:30:00')) & (original.index < np.datetime64('2020-07-12T22:10:00'))\n",
    "#rw_set = (original.index > np.datetime64('2020-07-12T19:25:00')) & (original.index < np.datetime64('2020-07-12T22:05:00'))\n",
    "test_start_date = '2020-07-12T12:30:00'\n",
    "test_end_date = '2020-07-12T15:00:00'\n",
    "\n",
    "rw_start_date = '2020-07-12T12:25:00'\n",
    "rw_end_date = '2020-07-12T14:55:00'\n",
    "\n",
    "test_set = (original.index > np.datetime64(test_start_date)) & (original.index < np.datetime64(test_end_date))\n",
    "rw_set = (original.index > np.datetime64(rw_start_date)) & (original.index < np.datetime64(rw_end_date))\n",
    "\n",
    "test_index = original.index[test_set]\n",
    "\n",
    "Y_test = original[test_set].values\n",
    "rw_forecast = original[rw_set].values\n",
    "#original[test_set].plot()"
   ]
  },
  {
   "cell_type": "code",
   "execution_count": 6,
   "metadata": {
    "colab": {
     "base_uri": "https://localhost:8080/",
     "height": 70
    },
    "colab_type": "code",
    "id": "dAX3UjFLSviT",
    "outputId": "3f19e297-5376-4ae5-906c-893d4e204764"
   },
   "outputs": [
    {
     "name": "stdout",
     "output_type": "stream",
     "text": [
      "MAPE :  26.693603709397117\n",
      "SMAPE :  24.0221643905739\n",
      "MAE :  1.4689655172413794\n"
     ]
    }
   ],
   "source": [
    "print(\"MAPE : \",mape(Y_test+1,rw_forecast+1))\n",
    "print(\"SMAPE : \",smape(Y_test+1,rw_forecast+1))\n",
    "print(\"MAE : \",mae(Y_test+1,rw_forecast+1))"
   ]
  },
  {
   "cell_type": "markdown",
   "metadata": {
    "colab_type": "text",
    "id": "Ow83yuCoaGAc"
   },
   "source": [
    "## In Sample forecast"
   ]
  },
  {
   "cell_type": "code",
   "execution_count": 7,
   "metadata": {
    "colab": {
     "base_uri": "https://localhost:8080/",
     "height": 282
    },
    "colab_type": "code",
    "id": "1FnY0vH5aDfG",
    "outputId": "f3a10778-95c6-4ec7-b36f-e4ff79e8f428"
   },
   "outputs": [
    {
     "data": {
      "text/plain": [
       "<matplotlib.axes._subplots.AxesSubplot at 0x7f675fb92898>"
      ]
     },
     "execution_count": 7,
     "metadata": {
      "tags": []
     },
     "output_type": "execute_result"
    },
    {
     "data": {
      "image/png": "[encoded data removed]",
      "text/plain": [
       "<Figure size 432x288 with 1 Axes>"
      ]
     },
     "metadata": {
      "needs_background": "light",
      "tags": []
     },
     "output_type": "display_data"
    }
   ],
   "source": [
    "#test_set = (original.index > np.datetime64('2020-07-12T19:30:00')) & (original.index < np.datetime64('2020-07-12T22:10:00'))\n",
    "#rw_set = (original.index > np.datetime64('2020-07-12T19:25:00')) & (original.index < np.datetime64('2020-07-12T22:05:00'))\n",
    "in_start_date = '2020-06-19T11:30:00'\n",
    "in_end_date = '2020-06-19T17:00:00'\n",
    "\n",
    "rw_in_start_date = '2020-06-19T11:25:00'\n",
    "rw_in_end_date = '2020-06-19T16:55:00'\n",
    "\n",
    "in_set = (original.index > np.datetime64(in_start_date)) & (original.index < np.datetime64(in_end_date))\n",
    "rw_in_set = (original.index > np.datetime64(rw_in_start_date)) & (original.index < np.datetime64(rw_in_end_date))\n",
    "\n",
    "test_in_index = original.index[in_set]\n",
    "\n",
    "Y_in_test = original[in_set].values\n",
    "rw_in_forecast = original[rw_in_set].values\n",
    "original[in_set].plot()\n"
   ]
  },
  {
   "cell_type": "code",
   "execution_count": 8,
   "metadata": {
    "colab": {
     "base_uri": "https://localhost:8080/",
     "height": 70
    },
    "colab_type": "code",
    "id": "gWdasJLya5X3",
    "outputId": "fc72a831-c8ea-4b62-df87-d4cc26a3ccae"
   },
   "outputs": [
    {
     "name": "stdout",
     "output_type": "stream",
     "text": [
      "MAPE :  12.025087252369033\n",
      "SMAPE :  10.430399751821371\n",
      "MAE :  0.8\n"
     ]
    }
   ],
   "source": [
    "print(\"MAPE : \",mape(Y_in_test+1,rw_in_forecast+1))\n",
    "print(\"SMAPE : \",smape(Y_in_test+1,rw_in_forecast+1))\n",
    "print(\"MAE : \",mae(Y_in_test+1,rw_in_forecast+1))"
   ]
  },
  {
   "cell_type": "markdown",
   "metadata": {
    "colab_type": "text",
    "id": "L3mnuJFVRMBz"
   },
   "source": [
    "# ARIMA\n",
    "\n"
   ]
  },
  {
   "cell_type": "code",
   "execution_count": 9,
   "metadata": {
    "colab": {},
    "colab_type": "code",
    "id": "_esK1jINRROO"
   },
   "outputs": [],
   "source": [
    "train_size = round(len(df) * 0.8)\n",
    "arima_train = df.smooth_CPU[:train_size] #df.CPU[:train_size]\n",
    "exog_train = df.diskwrite[:train_size]\n",
    "\n",
    "arima_test = df.smooth_CPU[train_size:]\n",
    "exog_test = df.diskwrite[train_size:]\n",
    "\n",
    "\n",
    "\n",
    "\n",
    "test_set = (df.CPU.index > np.datetime64(test_start_date)) & (df.CPU.index < np.datetime64(test_end_date))\n"
   ]
  },
  {
   "cell_type": "code",
   "execution_count": 10,
   "metadata": {
    "colab": {
     "base_uri": "https://localhost:8080/",
     "height": 72
    },
    "colab_type": "code",
    "id": "3yKk1uBWRax4",
    "outputId": "7e91f027-5734-4b20-b89c-5ecf58ce2002"
   },
   "outputs": [
    {
     "name": "stderr",
     "output_type": "stream",
     "text": [
      "/usr/local/lib/python3.6/dist-packages/statsmodels/base/model.py:512: ConvergenceWarning: Maximum Likelihood optimization failed to converge. Check mle_retvals\n",
      "  \"Check mle_retvals\", ConvergenceWarning)\n"
     ]
    }
   ],
   "source": [
    "mod = sm.tsa.statespace.SARIMAX(arima_train,freq='5T', order=(3,1,6),exog = exog_train )                       \n",
    "res = mod.fit()"
   ]
  },
  {
   "cell_type": "code",
   "execution_count": 11,
   "metadata": {
    "colab": {
     "base_uri": "https://localhost:8080/",
     "height": 70
    },
    "colab_type": "code",
    "id": "WWlMT4MiUGfd",
    "outputId": "58384f8e-9f25-4085-9e90-005671853232"
   },
   "outputs": [
    {
     "name": "stdout",
     "output_type": "stream",
     "text": [
      "MAPE :  16.143722947701892\n",
      "SMAPE :  19.102336406987085\n",
      "MAE :  1.1059634563306446\n"
     ]
    }
   ],
   "source": [
    "y_hat = res.predict(start = arima_test.index[0], end=arima_test.index[-1],exog = pd.DataFrame(exog_test))\n",
    "arima_forecast = y_hat[(y_hat.index > test_start_date) & (y_hat.index < test_end_date)]\n",
    "\n",
    "print(\"MAPE : \",mape(Y_test+1,arima_forecast+1))\n",
    "print(\"SMAPE : \",smape(Y_test+1,arima_forecast+1))\n",
    "print(\"MAE : \",mae(Y_test+1,arima_forecast+1))"
   ]
  },
  {
   "cell_type": "markdown",
   "metadata": {
    "colab_type": "text",
    "id": "Bgi4h9Iic0tP"
   },
   "source": [
    "## In sample prediction"
   ]
  },
  {
   "cell_type": "code",
   "execution_count": 12,
   "metadata": {
    "colab": {
     "base_uri": "https://localhost:8080/",
     "height": 70
    },
    "colab_type": "code",
    "id": "OydkVgKvdAlv",
    "outputId": "d5af500c-2ec7-441d-c2ce-2c92d5eee95d"
   },
   "outputs": [
    {
     "name": "stdout",
     "output_type": "stream",
     "text": [
      "MAPE :  12.271696543826781\n",
      "SMAPE :  13.442744390057086\n",
      "MAE :  0.8842940922004959\n"
     ]
    }
   ],
   "source": [
    "in_set = (df.CPU.index > np.datetime64(in_start_date)) & (df.CPU.index < np.datetime64(in_end_date))\n",
    "\n",
    "y_hat = res.predict(start = arima_train.index[0], end=arima_train.index[-1],exog = pd.DataFrame(exog_train))\n",
    "arima_in_forecast = y_hat[(y_hat.index > in_start_date) & (y_hat.index < in_end_date)]\n",
    "\n",
    "print(\"MAPE : \",mape(Y_in_test+1,arima_in_forecast+1))\n",
    "print(\"SMAPE : \",smape(Y_in_test+1,arima_in_forecast+1))\n",
    "print(\"MAE : \",mae(Y_in_test+1,arima_in_forecast+1))"
   ]
  },
  {
   "cell_type": "markdown",
   "metadata": {
    "colab_type": "text",
    "id": "BkVPj2yhYYuF"
   },
   "source": [
    "## ARIMA Grid Search"
   ]
  },
  {
   "cell_type": "code",
   "execution_count": 13,
   "metadata": {
    "colab": {},
    "colab_type": "code",
    "id": "Qt8YkfeUaVzc"
   },
   "outputs": [],
   "source": [
    "if runAnalysis:\n",
    "  row = []\n",
    "  for p in range(7):\n",
    "    for q in range(7):\n",
    "      grid_order = (p,1,q)\n",
    "      mod = sm.tsa.statespace.SARIMAX(arima_train,freq='5T', order=grid_order,exog = exog_train )                       \n",
    "      res = mod.fit()\n",
    "      print(\"For ARIMA \",grid_order,\"AIC\",res.aic)\n",
    "      row.append([p,q,res.aic]) \n"
   ]
  },
  {
   "cell_type": "code",
   "execution_count": 14,
   "metadata": {
    "colab": {},
    "colab_type": "code",
    "id": "IB-dGThHfW54"
   },
   "outputs": [],
   "source": [
    "if runAnalysis:\n",
    "  arima_search = pd.DataFrame(row,columns= ['p','q','AIC'])\n",
    "  arima_search.head()"
   ]
  },
  {
   "cell_type": "code",
   "execution_count": 15,
   "metadata": {
    "colab": {},
    "colab_type": "code",
    "id": "HZ5EZJ3xf73k"
   },
   "outputs": [],
   "source": [
    "if runAnalysis:\n",
    "  arima_search.to_csv('grid_search_arima.csv')"
   ]
  },
  {
   "cell_type": "code",
   "execution_count": 16,
   "metadata": {
    "colab": {},
    "colab_type": "code",
    "id": "ZcqWiLYuU2sz"
   },
   "outputs": [],
   "source": [
    "if runAnalysis:\n",
    "  arima_search = pd.read_csv('grid_search_arima.csv')\n",
    "  minV = arima_search.AIC.min()\n",
    "  maxV = arima_search.AIC.max()\n",
    "  arima_search = pd.DataFrame(np.reshape(arima_search.AIC.to_numpy(),(-1,7)))\n",
    "\n",
    "  plotMe = arima_search - minV\n",
    "  plotMe[plotMe > 100] = 100\n",
    "\n",
    "  ax = sns.heatmap(plotMe,cmap=\"YlGnBu\")\n",
    "  ax.set_xlabel('AR component (p)')\n",
    "  ax.set_ylabel('MA component (q)')\n",
    "\n",
    "  plt.show()"
   ]
  },
  {
   "cell_type": "markdown",
   "metadata": {
    "colab_type": "text",
    "id": "0FHgaZZ1Rpuv"
   },
   "source": [
    "# ANN"
   ]
  },
  {
   "cell_type": "code",
   "execution_count": 17,
   "metadata": {
    "colab": {},
    "colab_type": "code",
    "id": "ubcq5xuWRvFN"
   },
   "outputs": [],
   "source": [
    "def sliding_window_iter(iterable, size):\n",
    "    \"\"\"...\"\"\"\n",
    "    iterable = iter(iterable)\n",
    "    window = deque(islice(iterable, size), maxlen=size)\n",
    "    for item in iterable:\n",
    "        yield np.array(window)\n",
    "    window.append(item)\n",
    "    if window:\n",
    "    # needed because if iterable was already empty before the `for`,\n",
    "    # then the window would be yielded twice.\n",
    "        yield np.array(window)"
   ]
  },
  {
   "cell_type": "code",
   "execution_count": 18,
   "metadata": {
    "colab": {},
    "colab_type": "code",
    "id": "fEJksKoaRyDa"
   },
   "outputs": [],
   "source": [
    "time_window = 4\n",
    "input_dims = 8\n",
    "X = []\n",
    "for row in sliding_window_iter(df.smooth_CPU.values,time_window):\n",
    "    X.append(row)\n",
    "\n",
    "X = pd.DataFrame(X[:-1])\n",
    "Y = df.smooth_CPU.iloc[time_window:]\n",
    "\n",
    "\n",
    "X['hour'] = df.index.hour[time_window:]\n",
    "X['weekday'] = df.index.weekday[time_window:]\n",
    "X['IOBalance'] = df.IOBalance.to_numpy()[time_window:]\n",
    "X['diskwrite'] = df.diskwrite.to_numpy()[time_window:]"
   ]
  },
  {
   "cell_type": "code",
   "execution_count": 19,
   "metadata": {
    "colab": {},
    "colab_type": "code",
    "id": "FiObOpVpR3If"
   },
   "outputs": [],
   "source": [
    "X_train = X.iloc[:train_size,:]\n",
    "Y_train = Y[:train_size]"
   ]
  },
  {
   "cell_type": "code",
   "execution_count": 20,
   "metadata": {
    "colab": {},
    "colab_type": "code",
    "id": "QGEcGrLOR7ha"
   },
   "outputs": [],
   "source": [
    "np.random.seed(42)\n",
    "activation_fn = 'relu'\n",
    "\n",
    "model = Sequential()\n",
    "model.add(Dense(8, input_dim=input_dims,  activation=activation_fn))\n",
    "model.add(Dense(4, activation=activation_fn))\n",
    "model.add(Dense(1, ))\n",
    "\n",
    "model.compile(loss='mae',\n",
    "                optimizer='adam',\n",
    "                metrics = ['mse','mae','mape']\n",
    "              )"
   ]
  },
  {
   "cell_type": "code",
   "execution_count": 21,
   "metadata": {
    "colab": {},
    "colab_type": "code",
    "id": "vBzPr5q1R-bo"
   },
   "outputs": [],
   "source": [
    "history = model.fit(X_train, Y_train,\n",
    "                    epochs=100, batch_size=32,\n",
    "                    validation_split=0.2,shuffle=False,verbose=0)"
   ]
  },
  {
   "cell_type": "code",
   "execution_count": 22,
   "metadata": {
    "colab": {
     "base_uri": "https://localhost:8080/",
     "height": 70
    },
    "colab_type": "code",
    "id": "OCQJvFcQSL2e",
    "outputId": "1df98456-d3f3-46f4-deaf-1c0342fddbc4"
   },
   "outputs": [
    {
     "name": "stdout",
     "output_type": "stream",
     "text": [
      "MAPE :  15.5373965237773\n",
      "SMAPE :  18.515695557640715\n",
      "MAE :  1.068843256194016\n"
     ]
    }
   ],
   "source": [
    "X_test = X[test_set[4:]]\n",
    "ann_forecast = model.predict(X_test).flatten()\n",
    "print(\"MAPE : \",mape(Y_test+1,ann_forecast+1))\n",
    "print(\"SMAPE : \",smape(Y_test+1,ann_forecast+1))\n",
    "print(\"MAE : \",mae(Y_test+1,ann_forecast+1))"
   ]
  },
  {
   "cell_type": "markdown",
   "metadata": {
    "colab_type": "text",
    "id": "VKcu3VZPdoe1"
   },
   "source": [
    "## In sample prediction\n"
   ]
  },
  {
   "cell_type": "code",
   "execution_count": 23,
   "metadata": {
    "colab": {
     "base_uri": "https://localhost:8080/",
     "height": 70
    },
    "colab_type": "code",
    "id": "I4odQHJ3d4vt",
    "outputId": "b6319990-205a-4446-e8e4-f682e03cac37"
   },
   "outputs": [
    {
     "name": "stdout",
     "output_type": "stream",
     "text": [
      "MAPE :  16.38368949134301\n",
      "SMAPE :  19.527789800683106\n",
      "MAE :  1.163958828999446\n"
     ]
    }
   ],
   "source": [
    "X_in_test = X[in_set[4:]]\n",
    "ann_in_forecast = model.predict(X_in_test).flatten()\n",
    "print(\"MAPE : \",mape(Y_in_test+1,ann_in_forecast+1))\n",
    "print(\"SMAPE : \",smape(Y_in_test+1,ann_in_forecast+1))\n",
    "print(\"MAE : \",mae(Y_in_test+1,ann_in_forecast+1))"
   ]
  },
  {
   "cell_type": "markdown",
   "metadata": {
    "colab_type": "text",
    "id": "6EoCt71BVJyU"
   },
   "source": [
    "# Results\n",
    "\n"
   ]
  },
  {
   "cell_type": "code",
   "execution_count": 24,
   "metadata": {
    "colab": {
     "base_uri": "https://localhost:8080/",
     "height": 265
    },
    "colab_type": "code",
    "id": "R7OTBPg_VNJN",
    "outputId": "80960762-42f2-48a4-9bcb-6c564f6b3bde"
   },
   "outputs": [
    {
     "data": {
      "image/png": "[encoded data removed]",
      "text/plain": [
       "<Figure size 432x288 with 1 Axes>"
      ]
     },
     "metadata": {
      "needs_background": "light",
      "tags": []
     },
     "output_type": "display_data"
    }
   ],
   "source": [
    "#labs = ['12:00','12:30','13:00','13:30','14:00','14:30','15:00','15:30','16:00']\n",
    "fig,ax = plt.subplots()\n",
    "#ax.set_xticklabels(labs)\n",
    "#ax.set_ylim(0,15)\n",
    "_ = ax.plot(pd.Series(Y_test,index = test_index),linewidth=2.5,label='Test CPU',alpha=0.7)\n",
    "_ = ax.plot(pd.Series(rw_forecast,index = test_index),linewidth=1,linestyle='dotted',label = 'Random Walk')\n",
    "_ = ax.plot(pd.Series(arima_forecast ,index = test_index),linewidth=1.5,linestyle='dashed',label = 'Exog ARIMA (3,1,6) ')\n",
    "_ = ax.plot(pd.Series(ann_forecast ,index = test_index),linewidth=2,alpha=0.5, label = 'Proposed ANN')\n",
    "\n",
    "plt.legend(loc='upper right')\n",
    "\n",
    "plt.show()"
   ]
  },
  {
   "cell_type": "code",
   "execution_count": 25,
   "metadata": {
    "colab": {
     "base_uri": "https://localhost:8080/",
     "height": 265
    },
    "colab_type": "code",
    "id": "TdkOTiLbeUnE",
    "outputId": "32b25be4-44cc-4b1e-84b0-8994b210f618"
   },
   "outputs": [
    {
     "data": {
      "image/png": "[encoded data removed]",
      "text/plain": [
       "<Figure size 432x288 with 1 Axes>"
      ]
     },
     "metadata": {
      "needs_background": "light",
      "tags": []
     },
     "output_type": "display_data"
    }
   ],
   "source": [
    "fig,ax = plt.subplots()\n",
    "labs = ['12:00','13:00','14:00','15:00','16:00','17:00']\n",
    "\n",
    "ax.set_xticklabels(labs)\n",
    "#ax.set_ylim(0,15)\n",
    "_ = ax.plot(pd.Series(Y_in_test,index = test_in_index),linewidth=2.5,label='Train CPU',alpha=0.7)\n",
    "_ = ax.plot(pd.Series(rw_in_forecast,index = test_in_index),linewidth=1,linestyle='dotted',label = 'Random Walk')\n",
    "_ = ax.plot(pd.Series(arima_in_forecast ,index = test_in_index),linewidth=1.5,linestyle='dashed',label = 'Exog ARIMA (3,1,6) ')\n",
    "_ = ax.plot(pd.Series(ann_in_forecast ,index = test_in_index),linewidth=2,alpha=0.5, label = 'Proposed ANN')\n",
    "\n",
    "plt.legend(loc='upper right')\n",
    "\n",
    "plt.show()"
   ]
  },
  {
   "cell_type": "code",
   "execution_count": 26,
   "metadata": {
    "colab": {
     "base_uri": "https://localhost:8080/",
     "height": 287
    },
    "colab_type": "code",
    "id": "hUSbpm-VkISH",
    "outputId": "5c7225f1-5614-4bca-9083-833308608a97"
   },
   "outputs": [
    {
     "data": {
      "image/png": "[encoded data removed]",
      "text/plain": [
       "<Figure size 432x288 with 1 Axes>"
      ]
     },
     "metadata": {
      "needs_background": "light",
      "tags": []
     },
     "output_type": "display_data"
    }
   ],
   "source": [
    "diff = pd.Series([0.26,0.21,0.73,-0.49,-0.69,-0.49,-0.59])\n",
    "diff.index = [1,2,4,6,8,10,12]\n",
    "\n",
    "diff = pd.DataFrame(diff,columns=['diff'])\n",
    "diff['colors'] = ['red' if x < 0 else 'green' for x in diff['diff']]\n",
    "\n",
    "diff.sort_values('diff', inplace=True)\n",
    "diff.reset_index(inplace=True)\n",
    "\n",
    "fig, ax = plt.subplots()\n",
    "ax.set_xlabel('Input window length')\n",
    "ax.set_ylabel('Mean error reduction over random walk model')\n",
    "plt.vlines(x=diff['index'], ymin=0, ymax=diff['diff'], color=diff.colors, alpha=0.5, linewidth=7)\n",
    "plt.grid(linestyle='--', alpha=0.7,axis='y')\n",
    "plt.axhline()\n",
    "\n",
    "plt.show()\n"
   ]
  },
  {
   "cell_type": "code",
   "execution_count": 27,
   "metadata": {
    "colab": {
     "base_uri": "https://localhost:8080/",
     "height": 269
    },
    "colab_type": "code",
    "id": "vxDX6xGTtf4k",
    "outputId": "a5ddb54c-12ea-48bd-c4ff-97f24354b18e"
   },
   "outputs": [
    {
     "data": {
      "image/png": "[encoded data removed]",
      "text/plain": [
       "<Figure size 432x288 with 1 Axes>"
      ]
     },
     "metadata": {
      "needs_background": "light",
      "tags": []
     },
     "output_type": "display_data"
    }
   ],
   "source": [
    "labels = ['Relu', 'Sigmoid', 'TanH']\n",
    "ind = np.arange(3)\n",
    "err_mape = [22,26,27]\n",
    "err_smape = [29,34,35]\n",
    "err_mae = [2.5,3,3]\n",
    "width = 0.2\n",
    "\n",
    "fig, ax = plt.subplots()\n",
    "ax.set_ylabel('Error')\n",
    "ax.set_ylim(0,50)\n",
    "plt.bar(ind-width, err_mae , width, label='MAE',alpha=0.5,color='#DCB69F')\n",
    "plt.bar(ind, err_mape , width, label='MAPE',alpha=0.5,color='#CAB8CB')\n",
    "plt.bar(ind+width, err_smape , width, label='SMAPE',alpha=0.5,color='purple')\n",
    "plt.xticks(ind, labels)\n",
    "plt.grid(linestyle='--', alpha=0.7,axis='y')\n",
    "plt.legend()\n",
    "plt.show()\n"
   ]
  }
 ],
 "metadata": {
  "colab": {
   "collapsed_sections": [],
   "name": "phocis.ipynb",
   "provenance": []
  },
  "kernelspec": {
   "display_name": "Python 3",
   "language": "python",
   "name": "python3"
  },
  "language_info": {
   "codemirror_mode": {
    "name": "ipython",
    "version": 3
   },
   "file_extension": ".py",
   "mimetype": "text/x-python",
   "name": "python",
   "nbconvert_exporter": "python",
   "pygments_lexer": "ipython3",
   "version": "3.7.6"
  }
 },
 "nbformat": 4,
 "nbformat_minor": 4
}
